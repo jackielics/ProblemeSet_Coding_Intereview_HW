{
 "cells": [
  {
   "cell_type": "markdown",
   "metadata": {},
   "source": [
    "# Topic\n",
    "12-选修课  \n",
    "ElectiveCourse-HUAWEI-CodingInterview"
   ]
  },
  {
   "cell_type": "markdown",
   "metadata": {},
   "source": [
    "# Problem Description\n",
    "![https://fcqian.blog.csdn.net/article/details/130765442](https://res.cloudinary.com/dnyeldv5r/image/upload/v1690267193/2023-07-25_143922_xhek9x.png)"
   ]
  },
  {
   "cell_type": "markdown",
   "metadata": {},
   "source": [
    "# Key Point & Tag\n",
    "Difficulty Assessment: Medium  \n",
    "Proficiency in Data Structure, System Design"
   ]
  },
  {
   "cell_type": "markdown",
   "metadata": {},
   "source": [
    "# Code"
   ]
  },
  {
   "cell_type": "code",
   "execution_count": 62,
   "metadata": {},
   "outputs": [
    {
     "name": "stdout",
     "output_type": "stream",
     "text": [
      "NULL\n"
     ]
    }
   ],
   "source": [
    "class ElectiveCourse:\n",
    "\t# Input Part\n",
    "\tdef GetInput(self)->None:\n",
    "\t\t'''\n",
    "\t\tGet Input Data\n",
    "\t\t'''\n",
    "\t\tarr1 = list(map(str, input().strip().split(';'))) # ';' as separator\n",
    "\t\tarr2 = list(map(str, input().strip().split(';'))) # ['01202021,75', ]\n",
    "\n",
    "\t\t# Preprocess: transfrom data into {sid:score,...}\n",
    "\t\tself.arr1 = {}\n",
    "\t\tfor s in arr1:\n",
    "\t\t\tsid, score = s.split(',')\n",
    "\t\t\tself.arr1[sid] = int(score)\n",
    "\n",
    "\t\tself.arr2 = {}\n",
    "\t\tfor s in arr2:\n",
    "\t\t\tsid, score = s.split(',')\n",
    "\t\t\tself.arr2[sid] = int(score)\n",
    "\n",
    "\t# Algorithm Part\n",
    "\tdef Solution(self)->int:\n",
    "\t\t'''\n",
    "\t\tAlgorithm Solving Problem\n",
    "\t\t'''\n",
    "\t\t# Get data from self\n",
    "\t\tarr1, arr2 = self.arr1, self.arr2\n",
    "\n",
    "\t\tcomm = [] # [{'sid':, 'tScore':},...]\n",
    "\t\tfor sid in arr1:\n",
    "\t\t\tif sid in arr2:\n",
    "\t\t\t\t# comm[sid] = arr1[sid] + arr2[sid]\n",
    "\t\t\t\tcomm.append({'sid': sid, 'tScore': arr1[sid] + arr2[sid]})\n",
    "\t\tif not comm: # no stu join 2 courses meanwhile\n",
    "\t\t\treturn None\n",
    "\t\tcomm.sort(key = lambda x: [-x['tScore'], x['sid']]) # sort by [int(tScore) desc, str(sid) asc]\n",
    "\n",
    "\t\tres = {} # {cid1:[sid1, sid2,...]},...}\n",
    "\t\tfor d in comm:\n",
    "\t\t\tsid = d['sid']\n",
    "\t\t\tcid = sid[:5]\n",
    "\t\t\t# if not res.get(cid, None): # cid doesnt exist\n",
    "\t\t\t# \tres[cid] = {}\n",
    "\t\t\tres[cid] = res.get(cid, []) + [sid]\n",
    "\n",
    "\t\treturn dict(sorted(res.items()))\n",
    "\n",
    "# Execution Part\n",
    "if __name__ == \"__main__\":\n",
    "\t# Instantiate\n",
    "\tobj = ElectiveCourse()\n",
    "\t# Get Input\n",
    "\tobj.GetInput()\n",
    "\t# Get Result\n",
    "\tres = obj.Solution()\n",
    "\tif not res:\n",
    "\t\tprint('NULL')\n",
    "\telse:\n",
    "\t\tfor cid, sids in res.items():\n",
    "\t\t\tprint(cid) # class id \n",
    "\t\t\tprint(';'.join(sids))"
   ]
  },
  {
   "cell_type": "code",
   "execution_count": 2,
   "metadata": {},
   "outputs": [
    {
     "data": {
      "text/plain": [
       "[['01202021', '75'],\n",
       " ['01201033', '95'],\n",
       " ['01202008', '80'],\n",
       " ['01203006', '90'],\n",
       " ['01203088', '100']]"
      ]
     },
     "execution_count": 2,
     "metadata": {},
     "output_type": "execute_result"
    }
   ],
   "source": [
    "# list(map(lambda x: x.split(','), input().strip().split(';'))) # ';' as separator\n",
    "\n",
    "[dict(zip(['ppt', 'arg'], map(str, input().strip().split(' ')))) for _ in range(2)]\n"
   ]
  },
  {
   "cell_type": "markdown",
   "metadata": {},
   "source": [
    "# Test Cases\n",
    "```\n",
    "01202021,75;01201033,95;01202008,80;01203006,90;01203088,100\n",
    "01202008,70;01203088,85;01202111,80;01202021,75;01201100,88\n",
    "```"
   ]
  }
 ],
 "metadata": {
  "kernelspec": {
   "display_name": "Python 3",
   "language": "python",
   "name": "python3"
  },
  "language_info": {
   "codemirror_mode": {
    "name": "ipython",
    "version": 3
   },
   "file_extension": ".py",
   "mimetype": "text/x-python",
   "name": "python",
   "nbconvert_exporter": "python",
   "pygments_lexer": "ipython3",
   "version": "3.11.4"
  },
  "orig_nbformat": 4
 },
 "nbformat": 4,
 "nbformat_minor": 2
}
