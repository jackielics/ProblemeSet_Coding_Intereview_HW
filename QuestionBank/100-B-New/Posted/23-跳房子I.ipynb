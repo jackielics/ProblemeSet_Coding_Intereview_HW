{
 "cells": [
  {
   "cell_type": "markdown",
   "metadata": {},
   "source": [
    "# Topic\n",
    "23-跳房子I  \n",
    "Hopscotch(I)-HUAWEI-CodingInterview"
   ]
  },
  {
   "cell_type": "markdown",
   "metadata": {},
   "source": [
    "# Problem Description\n",
    "![https://fcqian.blog.csdn.net/article/details/130766192?spm=1001.2014.3001.5502](https://res.cloudinary.com/dnyeldv5r/image/upload/v1690457573/2023-07-27_193221_lbb7ab.png)"
   ]
  },
  {
   "cell_type": "markdown",
   "metadata": {},
   "source": [
    "# Key Point & Tag\n",
    "Difficulty Assessment: Easy  "
   ]
  },
  {
   "cell_type": "markdown",
   "metadata": {},
   "source": [
    "# Approach\n",
    "Use a Dict to record {val: min_idx} and try to get Dict.get(TARGET - val)"
   ]
  },
  {
   "cell_type": "markdown",
   "metadata": {},
   "source": [
    "# Code"
   ]
  },
  {
   "cell_type": "code",
   "execution_count": 5,
   "metadata": {},
   "outputs": [
    {
     "name": "stdout",
     "output_type": "stream",
     "text": [
      "[5, 2]\n"
     ]
    }
   ],
   "source": [
    "class Hopscotch:\n",
    "\t# Input Part\n",
    "\tdef GetInput(self)->None:\n",
    "\t\t'''\n",
    "\t\tGet Input Data and Preprocess Data\n",
    "\t\t'''\n",
    "\t\tself.nums = list(map(int, input().strip(' []').split(','))) # Allow Duplicates\n",
    "\t\tself.K = int(input()) # target amount\n",
    "\n",
    "\t# Algorithm Part\n",
    "\tdef Solution(self)->int:\n",
    "\t\t'''\n",
    "\t\tAlgorithm Solving Problem\n",
    "\t\t'''\n",
    "\t\t# Get data from self\n",
    "\t\tK = self.K\n",
    "\t\tnums = self.nums # sort ASC\n",
    "\n",
    "\t\tdic = {} # {val: min_idx}\n",
    "\t\tMSidx = float('inf') # Min Sum of Indexes\n",
    "\n",
    "\t\tfor i in range(len(nums)):\n",
    "\t\t\tcur, tgt = nums[i], K - nums[i]\n",
    "\n",
    "\t\t\tif dic.get(tgt, None) == None: # val didn't show up\n",
    "\t\t\t\tdic[cur] = i # Record Current {val:idx}\n",
    "\t\t\telse:\n",
    "\t\t\t\tj = dic[tgt] # index of val2\n",
    "\t\t\t\tSidx = i + j # Sum of Indexes\n",
    "\t\t\t\tif Sidx < MSidx: # Update Min-Sum-of-Indexes\n",
    "\t\t\t\t\tMSidx = Sidx\n",
    "\t\t\t\t\t# [nums[smaller-index], nums[larger-index]]\n",
    "\t\t\t\t\tres = f'[{cur}, {tgt}]' if i < j else f'[{tgt}, {cur}]'\n",
    "\n",
    "\t\treturn res\n",
    "\n",
    "# Execution Part\n",
    "if __name__ == \"__main__\":\n",
    "\t# Instantiate\n",
    "\tobj = Hopscotch()\n",
    "\t# Get Input\n",
    "\tobj.GetInput()\n",
    "\t# Get Result\n",
    "\tprint(obj.Solution())\n"
   ]
  },
  {
   "cell_type": "markdown",
   "metadata": {},
   "source": [
    "# Test Cases\n",
    "```\n",
    "[1,4,5,2,2]\n",
    "7\n",
    "\n",
    "[-1,2,4,9,6]\n",
    "8\n",
    "```"
   ]
  }
 ],
 "metadata": {
  "kernelspec": {
   "display_name": "Python 3",
   "language": "python",
   "name": "python3"
  },
  "language_info": {
   "codemirror_mode": {
    "name": "ipython",
    "version": 3
   },
   "file_extension": ".py",
   "mimetype": "text/x-python",
   "name": "python",
   "nbconvert_exporter": "python",
   "pygments_lexer": "ipython3",
   "version": "3.11.4"
  },
  "orig_nbformat": 4
 },
 "nbformat": 4,
 "nbformat_minor": 2
}
