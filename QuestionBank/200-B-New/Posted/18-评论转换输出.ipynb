{
 "cells": [
  {
   "cell_type": "markdown",
   "metadata": {},
   "source": [
    "# Topic\n",
    "18-评论转换输出  \n",
    "CHGOut-HUAWEI-CodingInterview"
   ]
  },
  {
   "cell_type": "markdown",
   "metadata": {},
   "source": [
    "# Problem Description\n",
    "![https://blog.csdn.net/qfc_128220/article/details/130774170](https://res.cloudinary.com/dnyeldv5r/image/upload/v1691995912/2023-08-14_145053_lxqlzp.png)"
   ]
  },
  {
   "cell_type": "markdown",
   "metadata": {},
   "source": [
    "# Key Point & Tag\n",
    "|  Key   | Value  |\n",
    "|  :----:  | :----:  |\n",
    "| Difficulty Assessment  | Medium⭐⭐ |\n",
    "| Tag  | Recurse, DFS |\n",
    "| Similar Problem | []()|"
   ]
  },
  {
   "cell_type": "markdown",
   "metadata": {},
   "source": [
    "# Code"
   ]
  },
  {
   "cell_type": "code",
   "execution_count": 6,
   "metadata": {},
   "outputs": [
    {
     "name": "stdout",
     "output_type": "stream",
     "text": [
      "3\n",
      "hello test one\n",
      "ok bye two\n",
      "a\n"
     ]
    }
   ],
   "source": [
    "class CHGOut:\n",
    "\t# Input Part\n",
    "\tdef GetInput(self)->None:\n",
    "\t\t'''\n",
    "\t\tGet Input Data and Preprocess Data\n",
    "\t\t'''\n",
    "\t\tself.nums = list(map(str, input().strip().split(',')))\n",
    "\n",
    "\t\t# self.nums = ['hello', '2', 'ok', '0', 'bye', '0', \n",
    "\t\t# 'test', '0', 'one', '1', 'two', '1', 'a', '0']\n",
    "\n",
    "\t# Algorithm Part\n",
    "\tdef Solution(self)->int:\n",
    "\t\t'''\n",
    "\t\tAlgorithm Solving Problem\n",
    "\t\t'''\n",
    "\t\t# Get data from self\n",
    "\t\tnums = self.nums\n",
    "\n",
    "\t\tres = []\n",
    "\t\t\n",
    "\t\tdef dfs(lv):\n",
    "\t\t\t'''\n",
    "\t\t\tlv: Level(Starts From Zero)\n",
    "\t\t\t'''\n",
    "\t\t\t# char and cnt of kids\n",
    "\t\t\tch, kids = nums.pop(0), int(nums.pop(0))\n",
    "\t\t\twhile len(res) < lv + 1:\n",
    "\t\t\t\tres.append([])\n",
    "\t\t\tres[lv].append(ch) # Add in Res\n",
    "\t\t\tfor _ in range(kids): # Iterate All Kids\n",
    "\t\t\t\tdfs(lv + 1)\n",
    "\n",
    "\t\twhile nums:\n",
    "\t\t\tdfs(0)\n",
    "\n",
    "\t\treturn '\\n'.join([str(len(res))] + [' '.join(x) for x in res])\n",
    "\n",
    "# Execution Part\n",
    "if __name__ == \"__main__\":\n",
    "\t# Instantiate\n",
    "\tobj = CHGOut()\n",
    "\t# Get Input\n",
    "\tobj.GetInput()\n",
    "\t# Get Result\n",
    "\tprint(obj.Solution())\n"
   ]
  },
  {
   "cell_type": "markdown",
   "metadata": {},
   "source": [
    "# Test Cases\n",
    "```\n",
    "hello,2,ok,0,bye,0,test,0,one,1,two,1,a,0\n",
    "self.nums = ['hello', '2', 'ok', '0', 'bye', '0', 'test', '0', 'one', '1', 'two', '1', 'a', '0']\n",
    "\n",
    "A,5,A,0,a,0,A,0,a,0,A,0\n",
    "\n",
    "A,3,B,2,C,0,D,1,E,0,F,1,G,0,H,1,I,1,J,0,K,1,L,0,M,2,N,0,O,1,P,0\n",
    "```"
   ]
  }
 ],
 "metadata": {
  "kernelspec": {
   "display_name": "Python 3",
   "language": "python",
   "name": "python3"
  },
  "language_info": {
   "codemirror_mode": {
    "name": "ipython",
    "version": 3
   },
   "file_extension": ".py",
   "mimetype": "text/x-python",
   "name": "python",
   "nbconvert_exporter": "python",
   "pygments_lexer": "ipython3",
   "version": "3.11.4"
  },
  "orig_nbformat": 4
 },
 "nbformat": 4,
 "nbformat_minor": 2
}
