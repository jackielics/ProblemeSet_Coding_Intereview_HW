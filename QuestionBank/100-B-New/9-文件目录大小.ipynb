{
 "cells": [
  {
   "cell_type": "markdown",
   "metadata": {},
   "source": [
    "# Title\n",
    "9-文件目录大小  \n",
    "DirSize-HUAWEI-CodingInterview"
   ]
  },
  {
   "cell_type": "markdown",
   "metadata": {},
   "source": [
    "# Problem Description\n",
    "![https://blog.csdn.net/qfc_128220/article/details/130765017?spm=1001.2014.3001.5501](https://res.cloudinary.com/dnyeldv5r/image/upload/v1690201384/2023-07-24_202223_a7l1zc.png)"
   ]
  },
  {
   "cell_type": "markdown",
   "metadata": {},
   "source": [
    "# Key Point & Tag\n",
    "Difficulty Assessment: Easy"
   ]
  },
  {
   "cell_type": "markdown",
   "metadata": {},
   "source": [
    "# Code"
   ]
  },
  {
   "cell_type": "code",
   "execution_count": 29,
   "metadata": {},
   "outputs": [
    {
     "ename": "KeyError",
     "evalue": "'1'",
     "output_type": "error",
     "traceback": [
      "\u001b[1;31m---------------------------------------------------------------------------\u001b[0m",
      "\u001b[1;31mKeyError\u001b[0m                                  Traceback (most recent call last)",
      "Cell \u001b[1;32mIn[29], line 36\u001b[0m\n\u001b[0;32m     34\u001b[0m data \u001b[39m=\u001b[39m get_input()\n\u001b[0;32m     35\u001b[0m \u001b[39m# Get Result\u001b[39;00m\n\u001b[1;32m---> 36\u001b[0m \u001b[39mprint\u001b[39m(MonitorCounter()\u001b[39m.\u001b[39;49mSolution(data[\u001b[39m'\u001b[39;49m\u001b[39mn\u001b[39;49m\u001b[39m'\u001b[39;49m], \u001b[39mstr\u001b[39;49m(data[\u001b[39m'\u001b[39;49m\u001b[39mtar\u001b[39;49m\u001b[39m'\u001b[39;49m]), data[\u001b[39m'\u001b[39;49m\u001b[39mdic\u001b[39;49m\u001b[39m'\u001b[39;49m]))\n",
      "Cell \u001b[1;32mIn[29], line 28\u001b[0m, in \u001b[0;36mMonitorCounter.Solution\u001b[1;34m(self, n, tar, dic)\u001b[0m\n\u001b[0;32m     25\u001b[0m \tkids \u001b[39m=\u001b[39m v[\u001b[39m'\u001b[39m\u001b[39mkids\u001b[39m\u001b[39m'\u001b[39m]\u001b[39m.\u001b[39mstrip(\u001b[39m'\u001b[39m\u001b[39m()\u001b[39m\u001b[39m'\u001b[39m)\u001b[39m.\u001b[39msplit(\u001b[39m'\u001b[39m\u001b[39m,\u001b[39m\u001b[39m'\u001b[39m) \u001b[39m# '' means empty\u001b[39;00m\n\u001b[0;32m     26\u001b[0m \tdic_i[v[\u001b[39m'\u001b[39m\u001b[39mdir\u001b[39m\u001b[39m'\u001b[39m]] \u001b[39m=\u001b[39m {\u001b[39m'\u001b[39m\u001b[39msize\u001b[39m\u001b[39m'\u001b[39m: \u001b[39mint\u001b[39m(v[\u001b[39m'\u001b[39m\u001b[39msize\u001b[39m\u001b[39m'\u001b[39m]), \u001b[39m'\u001b[39m\u001b[39mkids\u001b[39m\u001b[39m'\u001b[39m: kids}\n\u001b[1;32m---> 28\u001b[0m \u001b[39mreturn\u001b[39;00m dfs(tar)\n",
      "Cell \u001b[1;32mIn[29], line 14\u001b[0m, in \u001b[0;36mMonitorCounter.Solution.<locals>.dfs\u001b[1;34m(key)\u001b[0m\n\u001b[0;32m     13\u001b[0m \u001b[39mdef\u001b[39;00m \u001b[39mdfs\u001b[39m(key): \u001b[39m# dfs get size of key\u001b[39;00m\n\u001b[1;32m---> 14\u001b[0m \tcur \u001b[39m=\u001b[39m dic_i[key]\n\u001b[0;32m     15\u001b[0m \t\u001b[39mif\u001b[39;00m cur[\u001b[39m'\u001b[39m\u001b[39mkids\u001b[39m\u001b[39m'\u001b[39m] \u001b[39m==\u001b[39m [\u001b[39m'\u001b[39m\u001b[39m'\u001b[39m]: \u001b[39m# return size directly if no kids\u001b[39;00m\n\u001b[0;32m     16\u001b[0m \t\t\u001b[39mreturn\u001b[39;00m cur[\u001b[39m'\u001b[39m\u001b[39msize\u001b[39m\u001b[39m'\u001b[39m]\n",
      "\u001b[1;31mKeyError\u001b[0m: '1'"
     ]
    }
   ],
   "source": [
    "# Input Part\n",
    "def get_input()->dict:\n",
    "\t'''\n",
    "    Get Input Data\n",
    "\t'''\n",
    "\tn, tar = map(int, input().strip().split()) # amount, target\n",
    "\tdic = [dict(zip(['dir', 'size', 'kids'], map(str, input().strip().split(' ')))) for _ in range(n)]\n",
    "\treturn {'n': n, 'tar': tar, 'dic': dic}\n",
    "\n",
    "# Algorithm Part\n",
    "class MonitorCounter:\n",
    "\tdef Solution(self, n, tar, dic)->int:\n",
    "\t\tdef dfs(key): # dfs get size of key\n",
    "\t\t\tif key not in dic_i.keys(): # if the key doesn't exist\n",
    "\t\t\t\treturn 0\n",
    "\t\t\tcur = dic_i[key]\n",
    "\t\t\tif cur['kids'] == ['']: # return size directly if no kids\n",
    "\t\t\t\treturn cur['size']\n",
    "\t\t\tsize = cur['size']\n",
    "\t\t\tfor kid in cur['kids']:\n",
    "\t\t\t\tsize += dfs(kid)\n",
    "\t\t\treturn size\n",
    "\n",
    "\t\t# transform LIST to DICT\n",
    "\t\tdic_i = {} # {key: {'size':, 'kids': }}\n",
    "\t\tfor v in dic:\n",
    "\t\t\tkids = v['kids'].strip('()').split(',') # '' means empty\n",
    "\t\t\tdic_i[v['dir']] = {'size': int(v['size']), 'kids': kids}\n",
    "\n",
    "\t\treturn dfs(tar)\n",
    "\t\t# return ' '.join([str(v) for v in res]) # return mustn't be LIST\n",
    "\n",
    "# Execution Part\n",
    "if __name__ == \"__main__\":\n",
    "\t# Get Input\n",
    "\tdata = get_input()\n",
    "\t# Get Result\n",
    "\tprint(MonitorCounter().Solution(data['n'], str(data['tar']), data['dic']))\n"
   ]
  },
  {
   "cell_type": "code",
   "execution_count": null,
   "metadata": {},
   "outputs": [],
   "source": [
    "3 1\n",
    "3 15 ()\n",
    "1 20 (2)\n",
    "2 10 (3)\n",
    "\n",
    "\n",
    "4 2\n",
    "4 20 ()\n",
    "5 30 ()\n",
    "2 10 (4,5)\n",
    "1 40 ()\n"
   ]
  },
  {
   "cell_type": "code",
   "execution_count": 31,
   "metadata": {},
   "outputs": [
    {
     "data": {
      "text/plain": [
       "True"
      ]
     },
     "execution_count": 31,
     "metadata": {},
     "output_type": "execute_result"
    }
   ],
   "source": [
    "a = {1:1, 2:2}\n",
    "1 in a.keys()"
   ]
  },
  {
   "cell_type": "code",
   "execution_count": null,
   "metadata": {},
   "outputs": [],
   "source": []
  }
 ],
 "metadata": {
  "kernelspec": {
   "display_name": "Python 3",
   "language": "python",
   "name": "python3"
  },
  "language_info": {
   "codemirror_mode": {
    "name": "ipython",
    "version": 3
   },
   "file_extension": ".py",
   "mimetype": "text/x-python",
   "name": "python",
   "nbconvert_exporter": "python",
   "pygments_lexer": "ipython3",
   "version": "3.11.4"
  },
  "orig_nbformat": 4
 },
 "nbformat": 4,
 "nbformat_minor": 2
}
