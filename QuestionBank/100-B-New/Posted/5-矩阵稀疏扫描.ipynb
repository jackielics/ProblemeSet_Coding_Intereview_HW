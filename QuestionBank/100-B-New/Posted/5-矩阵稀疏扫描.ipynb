{
 "cells": [
  {
   "cell_type": "markdown",
   "metadata": {},
   "source": [
    "# Title\n",
    "5-矩阵稀疏扫描  \n",
    "SparseMatrixScanning-HUAWEI-CodingInterview"
   ]
  },
  {
   "cell_type": "markdown",
   "metadata": {},
   "source": [
    "# Problem Description\n",
    "应该是大于等于\n",
    "![https://fcqian.blog.csdn.net/article/details/130764126](https://res.cloudinary.com/dnyeldv5r/image/upload/v1690178656/2023-07-24_140243_gflnsb.png)"
   ]
  },
  {
   "cell_type": "markdown",
   "metadata": {},
   "source": [
    "# Key Point & Tag\n",
    "Difficulty Assessment: Easy"
   ]
  },
  {
   "cell_type": "markdown",
   "metadata": {},
   "source": [
    "# Code"
   ]
  },
  {
   "cell_type": "code",
   "execution_count": 4,
   "metadata": {},
   "outputs": [
    {
     "name": "stdout",
     "output_type": "stream",
     "text": [
      "2\n",
      "2\n"
     ]
    }
   ],
   "source": [
    "# Input Part\n",
    "def get_input()->dict:\n",
    "\t'''\n",
    "    Get Input Data\n",
    "\t'''\n",
    "\t# length of Rowges and columns\n",
    "\tlr, lc = map(int, input().split())\n",
    "\tmat = [list(map(int, input().split())) for _ in range(lr)]\n",
    "\treturn {'lr': lr, 'lc':lc, 'mat': mat}\n",
    "\n",
    "# Algorithm Part\n",
    "class SparseMatrixScanner:\n",
    "\tdef Solution(self, lr, lc, mat)->list:\n",
    "\t\tMaxContZeroCntRow, ContZeroCntRow = [0] * lr, [0] * lr \n",
    "\t\tMaxContZeroCntCol, ContZeroCntCol = [0] * lc, [0] * lc\n",
    "\t\tfor i in range(lr):\n",
    "\t\t\tfor j in range(lc):\n",
    "\t\t\t\tif mat[i][j] == 0:\n",
    "\t\t\t\t\t# current amount of continuous 0\n",
    "\t\t\t\t\tContZeroCntRow[i] += 1 \n",
    "\t\t\t\t\tContZeroCntCol[j] += 1\n",
    "\t\t\t\t\t# Max amount of continuous 0\n",
    "\t\t\t\t\tMaxContZeroCntRow[i] = max(MaxContZeroCntRow[i], ContZeroCntRow[i])\n",
    "\t\t\t\t\tMaxContZeroCntCol[j] = max(MaxContZeroCntCol[j], ContZeroCntCol[j])\n",
    "\t\t\t\telse: # interruption of continuity \n",
    "\t\t\t\t\tContZeroCntRow[i], ContZeroCntCol[j] = 0, 0\n",
    "\t\tcntRow = sum(1 for x in MaxContZeroCntRow if x >= lc//2)\n",
    "\t\tcntCol = sum(1 for x in MaxContZeroCntCol if x >= lr//2)\n",
    "\t\treturn [cntRow, cntCol]\n",
    "\n",
    "# Execution Part\n",
    "if __name__ == \"__main__\":\n",
    "\t# Get Input\n",
    "\tdata = get_input()\n",
    "\tres = SparseMatrixScanner().Solution(data['lr'], data['lc'], data['mat'])\n",
    "\t# Get Result\n",
    "\tprint(res[0]), print(res[1])"
   ]
  },
  {
   "cell_type": "markdown",
   "metadata": {},
   "source": [
    "# Test Cases\n",
    "```\n",
    "5 3\n",
    "-1 0 1\n",
    "0 0 0\n",
    "-1 0 0\n",
    "0 -1 0\n",
    "0 0 0\n",
    "```"
   ]
  }
 ],
 "metadata": {
  "kernelspec": {
   "display_name": "Python 3",
   "language": "python",
   "name": "python3"
  },
  "language_info": {
   "codemirror_mode": {
    "name": "ipython",
    "version": 3
   },
   "file_extension": ".py",
   "mimetype": "text/x-python",
   "name": "python",
   "nbconvert_exporter": "python",
   "pygments_lexer": "ipython3",
   "version": "3.11.4"
  },
  "orig_nbformat": 4
 },
 "nbformat": 4,
 "nbformat_minor": 2
}
