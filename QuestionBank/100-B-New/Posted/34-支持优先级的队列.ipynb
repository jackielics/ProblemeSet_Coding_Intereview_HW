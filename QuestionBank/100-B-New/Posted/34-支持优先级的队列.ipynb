{
 "cells": [
  {
   "cell_type": "markdown",
   "metadata": {},
   "source": [
    "# Topic\n",
    "34-支持优先级的队列  \n",
    "RPIque-HUAWEI-CodingInterview"
   ]
  },
  {
   "cell_type": "markdown",
   "metadata": {},
   "source": [
    "# Problem Description\n",
    "![https://fcqian.blog.csdn.net/article/details/131174955?spm=1001.2014.3001.5502](https://res.cloudinary.com/dnyeldv5r/image/upload/v1690550078/2023-07-28_211407_g8wnal.png)"
   ]
  },
  {
   "cell_type": "markdown",
   "metadata": {},
   "source": [
    "# Key Point & Tag\n",
    "Difficulty Assessment: Easy  "
   ]
  },
  {
   "cell_type": "markdown",
   "metadata": {},
   "source": [
    "# Code"
   ]
  },
  {
   "cell_type": "code",
   "execution_count": 29,
   "metadata": {},
   "outputs": [
    {
     "name": "stdout",
     "output_type": "stream",
     "text": [
      "40,30,10,20\n"
     ]
    }
   ],
   "source": [
    "class RPIque:\n",
    "\t# Input Part\n",
    "\tdef GetInput(self)->None:\n",
    "\t\t'''\n",
    "\t\tGet Input Data and Preprocess Data\n",
    "\t\t'''\n",
    "\t\tself.arr = eval('['+input()+']')\n",
    "\n",
    "\t# Algorithm Part\n",
    "\tdef Solution(self)->int:\n",
    "\t\t'''\n",
    "\t\tAlgorithm Solving Problem\n",
    "\t\t'''\n",
    "\t\t# Get data from self\n",
    "\t\tarr = []\n",
    "\n",
    "\t\tset_i = set() # {[]}\n",
    "\n",
    "\t\tfor i, x in enumerate(self.arr):\n",
    "\t\t\tif x not in set_i:\n",
    "\t\t\t\tset_i.add(x)\n",
    "\t\t\t\tarr.append(x)\n",
    "\t\t\n",
    "\t\tarr = sorted(arr, key = lambda x: x[1], reverse = True) # stable sort\n",
    "\n",
    "\t\tres = [str(x[0]) for x in arr]\n",
    "\n",
    "\t\treturn ','.join(res)\n",
    "\n",
    "# Execution Part\n",
    "if __name__ == \"__main__\":\n",
    "\t# Instantiate\n",
    "\tobj = RPIque()\n",
    "\t# Get Input\n",
    "\tobj.GetInput()\n",
    "\t# Get Result\n",
    "\tprint(obj.Solution())\n"
   ]
  },
  {
   "cell_type": "markdown",
   "metadata": {},
   "source": [
    "# Test Cases\n",
    "```\n",
    "(10,1),(20,1),(30,2),(40,3)\n",
    "(10,1),(10,1),(30,2),(40,3)\n",
    "```"
   ]
  }
 ],
 "metadata": {
  "kernelspec": {
   "display_name": "Python 3",
   "language": "python",
   "name": "python3"
  },
  "language_info": {
   "codemirror_mode": {
    "name": "ipython",
    "version": 3
   },
   "file_extension": ".py",
   "mimetype": "text/x-python",
   "name": "python",
   "nbconvert_exporter": "python",
   "pygments_lexer": "ipython3",
   "version": "3.11.4"
  },
  "orig_nbformat": 4
 },
 "nbformat": 4,
 "nbformat_minor": 2
}
