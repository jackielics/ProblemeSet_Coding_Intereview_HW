{
 "cells": [
  {
   "cell_type": "markdown",
   "metadata": {},
   "source": [
    "# Topic\n",
    "32-最长公共后缀  \n",
    "LongestComSuffix-HUAWEI-CodingInterview"
   ]
  },
  {
   "cell_type": "markdown",
   "metadata": {},
   "source": [
    "# Problem Description\n",
    "![https://fcqian.blog.csdn.net/article/details/131021419?spm=1001.2014.3001.5502](https://res.cloudinary.com/dnyeldv5r/image/upload/v1690542083/2023-07-28_190047_ylfkum.png)"
   ]
  },
  {
   "cell_type": "markdown",
   "metadata": {},
   "source": [
    "# Key Point & Tag\n",
    "Difficulty Assessment: Easy  "
   ]
  },
  {
   "cell_type": "markdown",
   "metadata": {},
   "source": [
    "# Code"
   ]
  },
  {
   "cell_type": "code",
   "execution_count": 18,
   "metadata": {},
   "outputs": [
    {
     "name": "stdout",
     "output_type": "stream",
     "text": [
      "@Zero\n"
     ]
    }
   ],
   "source": [
    "class LongestComSuffix:\n",
    "\t# Input Part\n",
    "\tdef GetInput(self)->None:\n",
    "\t\t'''\n",
    "\t\tGet Input Data and Preprocess Data\n",
    "\t\t'''\n",
    "\t\tself.arr = eval(input())\n",
    "\n",
    "\t# Algorithm Part\n",
    "\tdef Solution(self)->int:\n",
    "\t\t'''\n",
    "\t\tAlgorithm Solving Problem\n",
    "\t\t'''\n",
    "\t\t# Get data from self\n",
    "\t\tarr = self.arr\n",
    "\t\tif len(arr) == 1:\n",
    "\t\t\treturn '@Zero'\n",
    "\n",
    "\t\tsuf = arr[0]\n",
    "\t\tfor s in arr:\n",
    "\t\t\tsuf_i = ''\n",
    "\t\t\tfor i in range(-1, -len(suf) - 1, -1):\n",
    "\t\t\t\tif -i <= len(s) and suf[i] == s[i]:\n",
    "\t\t\t\t\tsuf_i = s[i] + suf_i\n",
    "\t\t\t\telse:\n",
    "\t\t\t\t\tbreak\n",
    "\t\t\tsuf = suf_i # update suf\n",
    "\t\t\tif not suf:\n",
    "\t\t\t\treturn '@Zero'\n",
    "\n",
    "\t\treturn suf\n",
    "\n",
    "# Execution Part\n",
    "if __name__ == \"__main__\":\n",
    "\t# Instantiate\n",
    "\tobj = LongestComSuffix()\n",
    "\t# Get Input\n",
    "\tobj.GetInput()\n",
    "\t# Get Result\n",
    "\tprint(obj.Solution())\n"
   ]
  },
  {
   "cell_type": "markdown",
   "metadata": {},
   "source": [
    "# Test Cases\n",
    "```\n",
    "[\"abc\",\"bbc\",\"c\"]\n",
    "[\"aa\",\"bb\",\"cc\"]\n",
    "```"
   ]
  }
 ],
 "metadata": {
  "kernelspec": {
   "display_name": "Python 3",
   "language": "python",
   "name": "python3"
  },
  "language_info": {
   "codemirror_mode": {
    "name": "ipython",
    "version": 3
   },
   "file_extension": ".py",
   "mimetype": "text/x-python",
   "name": "python",
   "nbconvert_exporter": "python",
   "pygments_lexer": "ipython3",
   "version": "3.11.4"
  },
  "orig_nbformat": 4
 },
 "nbformat": 4,
 "nbformat_minor": 2
}
