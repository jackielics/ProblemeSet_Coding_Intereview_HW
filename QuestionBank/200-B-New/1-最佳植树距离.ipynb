{
 "cells": [
  {
   "cell_type": "markdown",
   "metadata": {},
   "source": [
    "# Topic\n",
    "1-最佳植树距离  \n",
    "PlantTree-HUAWEI-CodingInterview"
   ]
  },
  {
   "cell_type": "markdown",
   "metadata": {},
   "source": [
    "# Problem Description\n",
    "![https://blog.csdn.net/qfc_128220/article/details/130633638](https://res.cloudinary.com/dnyeldv5r/image/upload/v1690558784/2023-07-28_233910_ll1kib.png)"
   ]
  },
  {
   "cell_type": "markdown",
   "metadata": {},
   "source": [
    "# Key Point & Tag\n",
    "Difficulty Assessment: MEDIUM  \n",
    "Tag: Binary-Search  \n",
    "Similar Problem: [LeetCode: magnetic-force-between-two-balls](https://leetcode.com/problems/magnetic-force-between-two-balls/description/)"
   ]
  },
  {
   "cell_type": "markdown",
   "metadata": {},
   "source": [
    "# Code"
   ]
  },
  {
   "cell_type": "code",
   "execution_count": 1,
   "metadata": {},
   "outputs": [
    {
     "name": "stdout",
     "output_type": "stream",
     "text": [
      "6\n"
     ]
    }
   ],
   "source": [
    "class PlantTree:\n",
    "\t# Input Part\n",
    "\tdef GetInput(self)->None:\n",
    "\t\t'''\n",
    "\t\tGet Input Data and Preprocess Data\n",
    "\t\t'''\n",
    "\t\tself.N = int(input()) \n",
    "\t\tself.arr = list(map(int, input().strip().split(' '))) \n",
    "\t\tself.M = int(input()) \n",
    "\n",
    "\t# Algorithm Part\n",
    "\tdef Solution(self)->int:\n",
    "\t\t'''\n",
    "\t\tAlgorithm Solving Problem\n",
    "\t\t'''\n",
    "\t\t# Get data from self\n",
    "\t\tM, N = self.M, self.N\n",
    "\t\tpos = sorted(self.arr)\n",
    "\t\t\n",
    "\t\t# Helper Function \n",
    "\t\tdef capacity(INTVL)->int:\n",
    "\t\t\t'''\n",
    "\t\t\tcalc max-capacity in given interval\n",
    "\t\t\t'''\n",
    "\t\t\tfor i in range(len(pos)):\n",
    "\t\t\t\tif i == 0: # first always OK\n",
    "\t\t\t\t\tres = 1 # return \n",
    "\t\t\t\t\tlast = pos[i] # last one OK\n",
    "\t\t\t\telse: # not first\n",
    "\t\t\t\t\tif pos[i] - last >= INTVL: # enough space \n",
    "\t\t\t\t\t\tres += 1\n",
    "\t\t\t\t\t\tlast = pos[i] # change last\n",
    "\n",
    "\t\t\treturn res\n",
    "\n",
    "\t\tif M == 2: # save time\n",
    "\t\t\treturn pos[-1] - pos[0]\n",
    "\t\t\n",
    "\t\t# possible min and max interval in bin-SRCH\n",
    "\t\tl, r = 1, max(pos) - min(pos)\n",
    "\t\tres = 1\n",
    "\n",
    "\t\twhile l <= r:\n",
    "\t\t\tmid = (l + r) // 2\n",
    "\t\t\t\n",
    "\t\t\tif capacity(mid) >= M:\n",
    "\t\t\t\tl = mid + 1 # try to increase INTVL\n",
    "\t\t\t\tres = max(res, mid)\n",
    "\t\t\telse:\n",
    "\t\t\t\tr = mid - 1 # decrease INTVL\n",
    "\n",
    "\t\treturn res\n",
    "\n",
    "# Execution Part\n",
    "if __name__ == \"__main__\":\n",
    "\t# Instantiate\n",
    "\tobj = PlantTree()\n",
    "\t# Get Input\n",
    "\tobj.GetInput()\n",
    "\t# Get Result\n",
    "\tprint(obj.Solution())\n"
   ]
  },
  {
   "cell_type": "markdown",
   "metadata": {},
   "source": [
    "# Test Cases\n",
    "```\n",
    "7\n",
    "1 5 3 6 10 7 13\n",
    "3\n",
    "```"
   ]
  }
 ],
 "metadata": {
  "kernelspec": {
   "display_name": "Python 3",
   "language": "python",
   "name": "python3"
  },
  "language_info": {
   "codemirror_mode": {
    "name": "ipython",
    "version": 3
   },
   "file_extension": ".py",
   "mimetype": "text/x-python",
   "name": "python",
   "nbconvert_exporter": "python",
   "pygments_lexer": "ipython3",
   "version": "3.11.4"
  },
  "orig_nbformat": 4
 },
 "nbformat": 4,
 "nbformat_minor": 2
}
