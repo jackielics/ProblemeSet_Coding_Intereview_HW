{
 "cells": [
  {
   "cell_type": "markdown",
   "metadata": {},
   "source": [
    "# Topic\n",
    "16-跳格子1  \n",
    "Hopscotch1-HUAWEI-CodingInterview"
   ]
  },
  {
   "cell_type": "markdown",
   "metadata": {},
   "source": [
    "# Problem Description\n",
    "![https://fcqian.blog.csdn.net/article/details/130774740?spm=1001.2014.3001.5502](https://res.cloudinary.com/dnyeldv5r/image/upload/v1691250195/2023-08-05_234251_cvmpzz.png)"
   ]
  },
  {
   "cell_type": "markdown",
   "metadata": {},
   "source": [
    "# Key Point & Tag\n",
    "Difficulty Assessment: Medium  \n",
    "Tag: 1-DP  \n",
    "Similar Problem: [house-robber](https://leetcode.com/problems/house-robber/)  "
   ]
  },
  {
   "cell_type": "markdown",
   "metadata": {},
   "source": [
    "# Code"
   ]
  },
  {
   "cell_type": "code",
   "execution_count": 3,
   "metadata": {},
   "outputs": [
    {
     "name": "stdout",
     "output_type": "stream",
     "text": [
      "12\n"
     ]
    }
   ],
   "source": [
    "class Hopscotch:\n",
    "\t# Input Part\n",
    "\tdef GetInput(self)->None:\n",
    "\t\t'''\n",
    "\t\tGet Input Data and Preprocess Data\n",
    "\t\t'''\n",
    "\t\tself.arr = list(map(int, input().strip().split(' ')))\n",
    "\n",
    "\t# Algorithm Part\n",
    "\tdef Solution(self)->int:\n",
    "\t\t'''\n",
    "\t\tAlgorithm Solving Problem\n",
    "\t\t'''\n",
    "\t\t# Get data from self\n",
    "\t\tarr = self.arr # 0<= len <= 100\n",
    "\t\t\n",
    "\t\tDP = [0] * len(arr)\n",
    "\n",
    "\t\tfor i in range(len(DP)):\n",
    "\t\t\tif i == 0:\n",
    "\t\t\t\tDP[i] = arr[i] # >= 0\n",
    "\t\t\telif i == 1:\n",
    "\t\t\t\tDP[i] = max(arr[0], arr[1])\n",
    "\t\t\telse: # i >= 2\n",
    "\t\t\t\tDP[i] = max(DP[i - 1], arr[i] + DP[i - 2])\n",
    "\n",
    "\t\treturn DP[-1]\n",
    "\n",
    "# Execution Part\n",
    "if __name__ == \"__main__\":\n",
    "\t# Instantiate\n",
    "\tobj = Hopscotch()\n",
    "\t# Get Input\n",
    "\tobj.GetInput()\n",
    "\t# Get Result\n",
    "\tprint(obj.Solution())\n"
   ]
  },
  {
   "cell_type": "markdown",
   "metadata": {},
   "source": [
    "# Test Cases\n",
    "```\n",
    "1 2 3 1\n",
    "\n",
    "2 7 9 3 1\n",
    "```"
   ]
  }
 ],
 "metadata": {
  "kernelspec": {
   "display_name": "Python 3",
   "language": "python",
   "name": "python3"
  },
  "language_info": {
   "codemirror_mode": {
    "name": "ipython",
    "version": 3
   },
   "file_extension": ".py",
   "mimetype": "text/x-python",
   "name": "python",
   "nbconvert_exporter": "python",
   "pygments_lexer": "ipython3",
   "version": "3.11.4"
  },
  "orig_nbformat": 4
 },
 "nbformat": 4,
 "nbformat_minor": 2
}
