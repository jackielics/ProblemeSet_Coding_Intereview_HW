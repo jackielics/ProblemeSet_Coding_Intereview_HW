{
 "cells": [
  {
   "cell_type": "markdown",
   "metadata": {},
   "source": [
    "# Topic\n",
    "2-字符串化繁为简  \n",
    "SimplifyStr-HUAWEI-CodingInterview"
   ]
  },
  {
   "cell_type": "markdown",
   "metadata": {},
   "source": [
    "# Problem Description\n",
    "![https://blog.csdn.net/qfc_128220/article/details/130765683](https://res.cloudinary.com/dnyeldv5r/image/upload/v1690576086/2023-07-29_042735_dtev4j.png)"
   ]
  },
  {
   "cell_type": "markdown",
   "metadata": {},
   "source": [
    "# Key Point & Tag\n",
    "|  Key   | Value  |\n",
    "|  :----:  | :----:  |\n",
    "| Difficulty Assessment  | Medium⭐⭐ |\n",
    "| Tag  |   |\n",
    "| Similar Problem | []()|"
   ]
  },
  {
   "cell_type": "markdown",
   "metadata": {},
   "source": [
    "# Code"
   ]
  },
  {
   "cell_type": "code",
   "execution_count": 124,
   "metadata": {},
   "outputs": [
    {
     "name": "stdout",
     "output_type": "stream",
     "text": [
      "abd\n"
     ]
    }
   ],
   "source": [
    "class SimplifyStr:\n",
    "\t# Input Part\n",
    "\tdef GetInput(self)->None:\n",
    "\t\t'''\n",
    "\t\tGet Input Data and Preprocess Data\n",
    "\t\t'''\n",
    "\t\tself.nums = input()\n",
    "\n",
    "\t# Algorithm Part\n",
    "\tdef Solution(self)->int:\n",
    "\t\t'''\n",
    "\t\tAlgorithm Solving Problem\n",
    "\t\t'''\n",
    "\t\t# Get data from self\n",
    "\t\tnums = self.nums # original string\n",
    "\t\tres = ''\n",
    "\t\tMS = '' # main string\n",
    "\t\tSIM = []\n",
    "\t\tfor i in range(len(nums)):\n",
    "\n",
    "\t\t\tif nums[i] == '(': # start \n",
    "\t\t\t\tBRKT = True\n",
    "\t\t\t\ttmp = []\n",
    "\t\t\telif nums[i] == ')': # end\n",
    "\t\t\t\tBRKT = False\n",
    "\t\t\t\tif tmp: # exclude empty string\n",
    "\t\t\t\t\tSIM.append(tmp)\n",
    "\t\t\telse: # char\n",
    "\t\t\t\tif BRKT: # in bracket\n",
    "\t\t\t\t\ttmp.append(nums[i])\n",
    "\t\t\t\telse:\n",
    "\t\t\t\t\tMS += nums[i]\n",
    "\n",
    "\t\tif not SIM:\n",
    "\t\t\treturn MS\n",
    "\n",
    "\t\tMERGED = [False] * len(SIM)\n",
    "\t\tSIM_MERGED = []\n",
    "\t\tfor i in range(0, len(SIM)):\n",
    "\t\t\tif not MERGED[i]:\n",
    "\t\t\t\tcur = i # index\n",
    "\t\t\t\ttmp = set(SIM[cur])\n",
    "\t\t\t\tMERGED[i] = True\n",
    "\t\t\t\tfor i in range(cur + 1, len(SIM)):\n",
    "\t\t\t\t\ttmp_lower = set((' '.join(tmp).lower()).split(' '))\n",
    "\t\t\t\t\tSIM_i_lower = set((' '.join(SIM[i]).lower()).split(' '))\n",
    "\n",
    "\t\t\t\t\tif not MERGED[i]:\n",
    "\t\t\t\t\t\tif tmp.intersection(set(SIM[i])):\n",
    "\t\t\t\t\t\t\ttmp.update(set(SIM[i]))\n",
    "\t\t\t\t\t\t\tMERGED[i] = True\n",
    "\t\t\t\t\t\t# LowerCase and UpperCase \n",
    "\t\t\t\t\t\telif tmp_lower.intersection(SIM_i_lower):\n",
    "\t\t\t\t\t\t\ttmp.update(set(SIM[i]))\n",
    "\t\t\t\t\t\t\tMERGED[i] = True\n",
    "\t\t\t\tif len(tmp) > 1:\n",
    "\t\t\t\t\tSIM_MERGED.append(tmp)\n",
    "\t\t\t\t\n",
    "\t\tfor c in MS:\n",
    "\t\t\tfor V in SIM_MERGED:\n",
    "\t\t\t\tif c in V:\n",
    "\t\t\t\t\tres += min(V)\n",
    "\t\t\t\telse:\n",
    "\t\t\t\t\tres += c\n",
    "\n",
    "\t\treturn res \n",
    "\n",
    "# Execution Part\n",
    "if __name__ == \"__main__\":\n",
    "\t# Instantiate\n",
    "\tobj = SimplifyStr()\n",
    "\t# Get Input\n",
    "\tobj.GetInput()\n",
    "\t# Get Result\n",
    "\tprint(obj.Solution())\n"
   ]
  },
  {
   "cell_type": "code",
   "execution_count": 140,
   "metadata": {},
   "outputs": [
    {
     "name": "stdout",
     "output_type": "stream",
     "text": [
      "\n"
     ]
    }
   ],
   "source": [
    "class SimplifyStr:\n",
    "\t# Input Part\n",
    "\tdef GetInput(self)->None:\n",
    "\t\t'''\n",
    "\t\tGet Input Data and Preprocess Data\n",
    "\t\t'''\n",
    "\t\tself.nums = input()\n",
    "\n",
    "\t# Algorithm Part\n",
    "\tdef Solution(self)->int:\n",
    "\t\t'''\n",
    "\t\tAlgorithm Solving Problem\n",
    "\t\t'''\n",
    "\t\t# Get data from self\n",
    "\t\tnums = self.nums # original string\n",
    "\n",
    "\t\tMS = '' # main string\n",
    "\t\tres = '' # main string after replaced\n",
    "\t\tEQV = [] # lists of equivalent chars [set(eqv1), eqv2,...]\n",
    "\t\t\n",
    "\t\tBRKT = False # in bracket or not?\n",
    "\t\t# Separate (EQV) and Main String\n",
    "\t\tfor i in range(len(nums)): \n",
    "\t\t\tif nums[i] == '(': # start \n",
    "\t\t\t\tBRKT = True \n",
    "\t\t\t\teqv = set() # a set of equivalent char \n",
    "\t\t\telif nums[i] == ')': # end \n",
    "\t\t\t\tBRKT = False \n",
    "\t\t\t\tif eqv: # exclude empty string \n",
    "\t\t\t\t\tEQV.append(eqv) \n",
    "\t\t\telse: # char \n",
    "\t\t\t\tif BRKT: # inside bracket \n",
    "\t\t\t\t\teqv.add(nums[i]) \n",
    "\t\t\t\telse: # outside bracket \n",
    "\t\t\t\t\tMS += nums[i] \n",
    "\n",
    "\t\tif not EQV: # if no eqv chars\n",
    "\t\t\treturn MS if MS else \"0\"\n",
    "\n",
    "\t\tcombined = [False] * len(EQV) # Combined to Another or Not?\n",
    "\t\tEQV_comb = [] # list of Equivalent Chars After Combining\n",
    "\t\tfor cur in range(len(EQV)):\n",
    "\t\t\tif not combined[i]:\n",
    "\t\t\t\teqv = EQV[cur]\n",
    "\t\t\t\tcombined[cur] = True\n",
    "\t\t\t\tfor i in range(len(EQV)):\n",
    "\t\t\t\t\tif not combined[i]:\n",
    "\t\t\t\t\t\teqv_lower = set((' '.join(eqv).lower()).split(' '))\n",
    "\t\t\t\t\t\teqv_i_lower = set((' '.join(EQV[i]).lower()).split(' '))\n",
    "\t\t\t\t\t\t# Ignore Case\n",
    "\t\t\t\t\t\tif eqv.intersection(set(EQV[i])) or eqv_lower.intersection(eqv_i_lower):\n",
    "\t\t\t\t\t\t\teqv.update(set(EQV[i]))\n",
    "\t\t\t\t\t\t\t# Combined[i] = True\n",
    "\n",
    "\t\t\t\tif len(eqv) > 1:\n",
    "\t\t\t\t\tEQV_comb.append(eqv)\n",
    "\t\t\t\t\n",
    "\t\tif not EQV_comb: # if no eqv chars after combined\n",
    "\t\t\treturn MS if MS else \"0\"\n",
    "\t\t\n",
    "\t\t# Start Replacing\n",
    "\t\tfor c in MS:\n",
    "\t\t\tfor V in EQV_comb:\n",
    "\t\t\t\tif c in V: # Replace\n",
    "\t\t\t\t\tres += min(V)\n",
    "\t\t\t\telse: # Stay Put\n",
    "\t\t\t\t\tres += c\n",
    "\n",
    "\t\treturn res if res else \"0\"\n",
    "\n",
    "# Execution Part\n",
    "if __name__ == \"__main__\":\n",
    "\t# Instantiate\n",
    "\tobj = SimplifyStr()\n",
    "\t# Get Input\n",
    "\tobj.GetInput()\n",
    "\t# Get Result\n",
    "\tprint(obj.Solution())"
   ]
  },
  {
   "cell_type": "code",
   "execution_count": 103,
   "metadata": {},
   "outputs": [
    {
     "data": {
      "text/plain": [
       "('happynewyearc',\n",
       " [['x', 'y', 'z'], ['w', 'x', 'y'], ['t']],\n",
       " [{'w', 'x', 'y', 'z'}],\n",
       " [True, True, True])"
      ]
     },
     "execution_count": 103,
     "metadata": {},
     "output_type": "execute_result"
    }
   ],
   "source": [
    "nums = \"(abd)demand(fb)(A)for\" # original string\n",
    "nums = \"()happy(xyz)new(wxy)year(t)c\"\n",
    "MS = '' # main string\n",
    "EQV = []\n",
    "for i in range(len(nums)):\n",
    "\n",
    "\tif nums[i] == '(': # start \n",
    "\t\tBRKT = True\n",
    "\t\teqv = []\n",
    "\telif nums[i] == ')': # end\n",
    "\t\tBRKT = False\n",
    "\t\tif eqv: # exclude empty string\n",
    "\t\t\tEQV.append(eqv)\n",
    "\telse: # char\n",
    "\t\tif BRKT: # in bracket\n",
    "\t\t\teqv.append(nums[i])\n",
    "\t\telse:\n",
    "\t\t\tMS += nums[i]\n",
    "\n",
    "\n",
    "combined = [False] * len(EQV)\n",
    "EQV_comb = []\n",
    "for i in range(0, len(EQV)):\n",
    "\tif not combined[i]:\n",
    "\t\tcur = i # index\n",
    "\t\teqv = set(EQV[cur])\n",
    "\t\tcombined[i] = True\n",
    "\t\tfor i in range(cur + 1, len(EQV)):\n",
    "\t\t\teqv_lower = set((' '.join(eqv).lower()).split(' '))\n",
    "\t\t\teqv_i_lower = set((' '.join(EQV[i]).lower()).split(' '))\n",
    "\n",
    "\t\t\tif not combined[i]:\n",
    "\t\t\t\tif eqv.intersection(set(EQV[i])):\n",
    "\t\t\t\t\teqv.update(set(EQV[i]))\n",
    "\t\t\t\t\tcombined[i] = True\n",
    "\t\t\t\t# LowerCase and UpperCase \n",
    "\t\t\t\telif eqv_lower.intersection(eqv_i_lower):\n",
    "\t\t\t\t\teqv.update(set(EQV[i]))\n",
    "\t\t\t\t\tcombined[i] = True\n",
    "\t\tif len(eqv) > 1:\n",
    "\t\t\tEQV_comb.append(eqv)\n",
    "\n",
    "MS, EQV, EQV_comb, combined"
   ]
  },
  {
   "cell_type": "code",
   "execution_count": 5,
   "metadata": {},
   "outputs": [
    {
     "data": {
      "text/plain": [
       "65"
      ]
     },
     "execution_count": 5,
     "metadata": {},
     "output_type": "execute_result"
    }
   ],
   "source": [
    "def combine(EQV, S)->str:\n",
    "\t# Combine Set S into EQV[{}...]\n",
    "\tfor i in range(len(EQV)):\n",
    "\t\teqv = EQV[i]\n",
    "\t\t# ignore case\n",
    "\t\tS_lower = set((''.join(S).lower()))\n",
    "\t\teqv_lower = set((''.join(EQV[i]).lower()))\n",
    "\t\t# If Two Sets Intersect\n",
    "\t\tif S.intersection(EQV[i]) or S_lower.intersection(eqv_lower):\n",
    "\t\t\tEQV[i] = eqv | EQV[i] # Return Union\n",
    "\t\t\treturn EQV\n",
    "\tEQV.append(S)\n",
    "\treturn EQV"
   ]
  },
  {
   "cell_type": "code",
   "execution_count": 6,
   "metadata": {},
   "outputs": [
    {
     "data": {
      "text/plain": [
       "[{'a'}, {'A', 'b'}, {'C'}, {'A', 'a', 'b'}, {'A', 'a', 'b'}, {'C'}]"
      ]
     },
     "execution_count": 6,
     "metadata": {},
     "output_type": "execute_result"
    }
   ],
   "source": [
    "def combine(EQV:list)->str:\n",
    "\tfor n in range(97, 123):\n",
    "\t\tuc = chr(n - 32) # Upper Case\n",
    "\t\tlc = chr(n) # Lower Case\n",
    "\t\tset_by_chr = set()\n",
    "\t\tidx = 0\n",
    "\t\t# combed = [False] * len(EQV)\n",
    "\t\twhile idx < len(EQV): # Sort By chr\n",
    "\t\t\tif not combed[idx] and (uc in EQV[idx] or lc in EQV[idx]):\n",
    "\t\t\t\tset_by_chr = set_by_chr | EQV[idx] # Union Set\n",
    "\t\t\t\t# EQV.pop(idx)\n",
    "\t\t\t\tcombed[idx] = True\n",
    "\t\t\tidx += 1\n",
    "\t\tif set_by_chr:\n",
    "\t\t\tEQV.append(set_by_chr)\n",
    "\t\n",
    "\treturn EQV\n",
    "# combine([{'x', 'y', 'z}, {'w', 'x', 'y'}, {'t'}])\n",
    "combine([{'a'}, {'A', 'b'}, {'C'}])"
   ]
  },
  {
   "cell_type": "markdown",
   "metadata": {},
   "source": [
    "# Test Cases\n",
    "```\n",
    "(A)a(a)\n",
    "()abd\n",
    "(abd)demand(fb)(D)for\n",
    "()happy(xyz)new(wxy)year(t)\n",
    "()abcdefgAC(a)(Ab)(C)\n",
    "```"
   ]
  }
 ],
 "metadata": {
  "kernelspec": {
   "display_name": "Python 3",
   "language": "python",
   "name": "python3"
  },
  "language_info": {
   "codemirror_mode": {
    "name": "ipython",
    "version": 3
   },
   "file_extension": ".py",
   "mimetype": "text/x-python",
   "name": "python",
   "nbconvert_exporter": "python",
   "pygments_lexer": "ipython3",
   "version": "3.11.4"
  },
  "orig_nbformat": 4
 },
 "nbformat": 4,
 "nbformat_minor": 2
}
