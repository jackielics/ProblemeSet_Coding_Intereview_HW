{
 "cells": [
  {
   "cell_type": "markdown",
   "metadata": {},
   "source": [
    "# Topic\n",
    "4-代表团坐车  \n",
    "DelegationRide-HUAWEI-CodingInterview"
   ]
  },
  {
   "cell_type": "markdown",
   "metadata": {},
   "source": [
    "# Problem Description\n",
    "![https://blog.csdn.net/qfc_128220/article/details/130792462](https://res.cloudinary.com/dnyeldv5r/image/upload/v1690631178/2023-07-29_194551_dbt5yj.png)"
   ]
  },
  {
   "cell_type": "markdown",
   "metadata": {},
   "source": [
    "# Key Point & Tag\n",
    "\n",
    "|  Key   | Value  |\n",
    "|  :----:  | :----:  |\n",
    "| Difficulty Assessment  | Medium⭐⭐ |\n",
    "| Tag  | DP, DFS  |\n",
    "| Similar Problem | []()|"
   ]
  },
  {
   "cell_type": "markdown",
   "metadata": {},
   "source": [
    "# Approach\n",
    "use 2-DP or Backtrack(TLE)"
   ]
  },
  {
   "cell_type": "markdown",
   "metadata": {},
   "source": [
    "# Code"
   ]
  },
  {
   "cell_type": "markdown",
   "metadata": {},
   "source": [
    "## 2-DP (AC"
   ]
  },
  {
   "cell_type": "code",
   "execution_count": 5,
   "metadata": {},
   "outputs": [
    {
     "name": "stdout",
     "output_type": "stream",
     "text": [
      "2\n"
     ]
    }
   ],
   "source": [
    "class DelegationRide:\n",
    "\t# Input Part\n",
    "\tdef GetInput(self)->None:\n",
    "\t\t'''\n",
    "\t\tGet Input Data and Preprocess Data\n",
    "\t\t'''\n",
    "\t\tself.nums = list(map(int, input().split(\",\")))\n",
    "\t\tself.T = int(input()) \n",
    "\n",
    "\t# Algorithm Part\n",
    "\tdef Solution(self)->int:\n",
    "\t\t'''\n",
    "\t\tAlgorithm Solving Problem\n",
    "\t\t'''\n",
    "\t\t# Get data from self\n",
    "\t\tT = self.T\n",
    "\t\tnums = self.nums\n",
    "\n",
    "\t\tif T <= 0 or not nums: # no room\n",
    "\t\t\treturn 0\n",
    "\t\t\n",
    "\t\tDP = [[0] * (len(nums) + 1) for _ in range(T + 1)] # DP[0][...] = 1\n",
    "\n",
    "\t\tfor tar in range(T + 1): # row: used amount of elems [0, nums[0],...]\n",
    "\t\t\tfor idx in range(len(nums) + 1): # col: total from 0 to N\n",
    "\t\t\t\tif tar == 0: # DP[0][...] = 1, take none\n",
    "\t\t\t\t\tDP[tar][idx] = 1\n",
    "\t\t\t\telse:\n",
    "\t\t\t\t\tif idx == 0:\n",
    "\t\t\t\t\t\tDP[tar][idx] = 0 # no ways to sum up to i(i > 0) using j solely\n",
    "\t\t\t\t\tif idx > 0:\n",
    "\t\t\t\t\t\tDP[tar][idx] += DP[tar][idx - 1] # add former(i - 1)\n",
    "\t\t\t\t\t\tif tar - nums[idx - 1] >= 0:\n",
    "\t\t\t\t\t\t\tDP[tar][idx] += DP[tar - nums[idx - 1]][idx - 1] # \n",
    "\n",
    "\n",
    "\t\treturn DP[-1][-1]\n",
    "\n",
    "# Execution Part\n",
    "if __name__ == \"__main__\":\n",
    "\t# Instantiate\n",
    "\tobj = DelegationRide()\n",
    "\t# Get Input\n",
    "\tobj.GetInput()\n",
    "\t# Get Result\n",
    "\tprint(obj.Solution())\n"
   ]
  },
  {
   "cell_type": "markdown",
   "metadata": {},
   "source": [
    "## Backtrack (TLE\n",
    "'res' as set(), [] or int"
   ]
  },
  {
   "cell_type": "code",
   "execution_count": 9,
   "metadata": {},
   "outputs": [
    {
     "name": "stdout",
     "output_type": "stream",
     "text": [
      "4\n"
     ]
    }
   ],
   "source": [
    "class DelegationRide:\n",
    "\t# Input Part\n",
    "\tdef GetInput(self)->None:\n",
    "\t\t'''\n",
    "\t\tGet Input Data and Preprocess Data\n",
    "\t\t'''\n",
    "\t\t# self.nums = list(map(int, input().split(\",\")))\n",
    "\t\t# self.T = int(input()) \n",
    "\n",
    "\t\tself.nums = [5,4,2,3,2,4,9]\n",
    "\t\tself.T = 10\n",
    "\n",
    "\t# Algorithm Part\n",
    "\tdef Solution(self)->int:\n",
    "\t\t'''\n",
    "\t\tAlgorithm Solving Problem\n",
    "\t\t'''\n",
    "\t\t# Get data from self\n",
    "\t\tT = self.T\n",
    "\t\tnums = self.nums\n",
    "\n",
    "\t\tif T <= 0 or not nums: # no room\n",
    "\t\t\treturn 0\n",
    "\t\t\n",
    "\t\t# res = set() # 'res' as set()\n",
    "\t\t# res = [] # 'res' as []\n",
    "\t\tglobal res # 'res' as int\n",
    "\t\tres = 0\n",
    "\t\tdef backtrack(i, cur, total):\n",
    "\t\t\tglobal res\n",
    "\t\t\tif total == T:\n",
    "\t\t\t\t# res.add(tuple(cur))\n",
    "\t\t\t\t# res.append(tuple(cur))\n",
    "\t\t\t\tres += 1\n",
    "\t\t\tif i >= len(nums) or total >= T: # Out-of-Bounds\n",
    "\t\t\t\treturn\n",
    "\t\t\t\n",
    "\t\t\tcur.append(i)\n",
    "\t\t\tbacktrack(i + 1, cur, total + nums[i])\n",
    "\t\t\tcur.remove(i)\n",
    "\t\t\tbacktrack(i + 1, cur, total)\n",
    "\n",
    "\t\tbacktrack(0, [], 0)\n",
    "\n",
    "\t\treturn res\n",
    "# Execution Part\n",
    "if __name__ == \"__main__\":\n",
    "\t# Instantiate\n",
    "\tobj = DelegationRide()\n",
    "\t# Get Input\n",
    "\tobj.GetInput()\n",
    "\t# Get Result\n",
    "\tprint(obj.Solution())\n"
   ]
  },
  {
   "cell_type": "markdown",
   "metadata": {},
   "source": [
    "# Test Cases\n",
    "```\n",
    "5,4,2,3,2,4,9\n",
    "10\n",
    "```"
   ]
  }
 ],
 "metadata": {
  "kernelspec": {
   "display_name": "Python 3",
   "language": "python",
   "name": "python3"
  },
  "language_info": {
   "codemirror_mode": {
    "name": "ipython",
    "version": 3
   },
   "file_extension": ".py",
   "mimetype": "text/x-python",
   "name": "python",
   "nbconvert_exporter": "python",
   "pygments_lexer": "ipython3",
   "version": "3.11.4"
  },
  "orig_nbformat": 4
 },
 "nbformat": 4,
 "nbformat_minor": 2
}
