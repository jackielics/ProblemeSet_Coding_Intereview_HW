{
 "cells": [
  {
   "cell_type": "markdown",
   "metadata": {},
   "source": [
    "# Topic\n",
    "16-食堂供餐  \n",
    "CanteenServeMeals-HUAWEI-CodingInterview"
   ]
  },
  {
   "cell_type": "markdown",
   "metadata": {},
   "source": [
    "# Problem Description\n",
    "![https://blog.csdn.net/qfc_128220/article/details/130768307](https://res.cloudinary.com/dnyeldv5r/image/upload/v1690304478/2023-07-26_005954_mco1x2.png)"
   ]
  },
  {
   "cell_type": "markdown",
   "metadata": {},
   "source": [
    "# Key Point & Tag\n",
    "Difficulty Assessment: Easy"
   ]
  },
  {
   "cell_type": "markdown",
   "metadata": {},
   "source": [
    "# Code"
   ]
  },
  {
   "cell_type": "code",
   "execution_count": 2,
   "metadata": {},
   "outputs": [
    {
     "name": "stdout",
     "output_type": "stream",
     "text": [
      "3\n"
     ]
    }
   ],
   "source": [
    "class MonitorCounter:\n",
    "\t# Input Part\n",
    "\tdef GetInput(self)->None:\n",
    "\t\t'''\n",
    "\t\tGet Input Data and Preprocess Data\n",
    "\t\t'''\n",
    "\t\tself.H = int(input()) # hours\n",
    "\t\tself.S = int(input()) # Initial Stocks\n",
    "\t\tself.arr = list(map(int, input().strip().split(' '))) \n",
    "\t\n",
    "\t# Algorithm Part\n",
    "\tdef Solution(self)->int:\n",
    "\t\t'''\n",
    "\t\tAlgorithm Solving Problem\n",
    "\t\t'''\n",
    "\t\t# Get data from self\n",
    "\t\tH, S = self.H, self.S\n",
    "\t\tarr = self.arr\n",
    "\n",
    "\t\tl, r = 0, max(arr)\n",
    "\t\tres = r\n",
    "\t\twhile l <= r:\n",
    "\t\t\tm = (l + r) // 2\n",
    "\t\t\tstock, OK = S, True # OK: whether stock can supply for consumers\n",
    "\t\t\tfor p in arr:\n",
    "\t\t\t\tif (stock := stock - p) < 0:\n",
    "\t\t\t\t\tOK = False\n",
    "\t\t\t\t\tbreak # break loop\n",
    "\t\t\t\tstock += m\n",
    "\t\t\tif OK: # OK then decrease\n",
    "\t\t\t\tres = min(res, m)\n",
    "\t\t\t\tr = m - 1\n",
    "\t\t\telse: # not OK then increase\n",
    "\t\t\t\tl = m + 1\n",
    "\t\treturn res \n",
    "\n",
    "# Execution Part\n",
    "if __name__ == \"__main__\":\n",
    "\t# Instantiate\n",
    "\tobj = MonitorCounter()\n",
    "\t# Get Input\n",
    "\tobj.GetInput()\n",
    "\t# Get Result\n",
    "\tprint(obj.Solution())\n"
   ]
  },
  {
   "cell_type": "markdown",
   "metadata": {},
   "source": [
    "# Test Cases\n",
    "```\n",
    "3\n",
    "14\n",
    "10 4 5\n",
    "```"
   ]
  }
 ],
 "metadata": {
  "kernelspec": {
   "display_name": "Python 3",
   "language": "python",
   "name": "python3"
  },
  "language_info": {
   "codemirror_mode": {
    "name": "ipython",
    "version": 3
   },
   "file_extension": ".py",
   "mimetype": "text/x-python",
   "name": "python",
   "nbconvert_exporter": "python",
   "pygments_lexer": "ipython3",
   "version": "3.11.4"
  },
  "orig_nbformat": 4
 },
 "nbformat": 4,
 "nbformat_minor": 2
}
