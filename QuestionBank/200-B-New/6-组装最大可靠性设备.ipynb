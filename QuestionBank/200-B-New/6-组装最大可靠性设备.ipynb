{
 "cells": [
  {
   "cell_type": "markdown",
   "metadata": {},
   "source": [
    "# Topic\n",
    "6-组装最大可靠性设备  \n",
    "AssembleMaxReliableDev-HUAWEI-CodingInterview"
   ]
  },
  {
   "cell_type": "markdown",
   "metadata": {},
   "source": [
    "# Problem Description\n",
    "![https://fcqian.blog.csdn.net/article/details/130764202](https://res.cloudinary.com/dnyeldv5r/image/upload/v1690822767/2023-08-01_005841_u9cbzx.png)"
   ]
  },
  {
   "cell_type": "markdown",
   "metadata": {},
   "source": [
    "# Key Point & Tag\n",
    "|  Key   | Value  |\n",
    "|  :----:  | :----:  |\n",
    "| Difficulty Assessment  | Medium⭐⭐ |\n",
    "| Tag  | Binary Search, bisect  |\n",
    "| Similar Problem | []()|"
   ]
  },
  {
   "cell_type": "markdown",
   "metadata": {},
   "source": [
    "# Code"
   ]
  },
  {
   "cell_type": "code",
   "execution_count": 23,
   "metadata": {},
   "outputs": [
    {
     "name": "stdout",
     "output_type": "stream",
     "text": [
      "60\n"
     ]
    }
   ],
   "source": [
    "from bisect import bisect_left\n",
    "\n",
    "class AssemMaxReliableDev:\n",
    "\t# Input Part\n",
    "\tdef GetInput(self)->None:\n",
    "\t\t'''\n",
    "\t\tGet Input Data and Preprocess Data\n",
    "\t\t'''\n",
    "\t\t# self.M, self.N = map(int, input().strip().split(' '))\n",
    "\t\t# R = int(input()) \n",
    "\t\t# self.dics = [dict(zip(['T', 'R', 'P'], map(int, input().strip().split(' ')))) for _ in range(R)]\n",
    "\n",
    "\t\tself.M, self.N = 500, 3\n",
    "\t\tself.dics = [\t{'T':0, 'R':80, 'P':100}, {'T':0, 'R':90, 'P':200}, \n",
    "\t\t\t\t\t\t{'T':1, 'R':50, 'P':50}, {'T':1, 'R':70, 'P':210}, \n",
    "\t\t\t\t\t\t{'T':2, 'R':50, 'P':100}, {'T':2, 'R':60, 'P':150}]\n",
    "\n",
    "\t# Algorithm Part\n",
    "\tdef Solution(self)->int:\n",
    "\t\t'''\n",
    "\t\tAlgorithm Solving Problem\n",
    "\t\t'''\n",
    "\t\t# Get data from self\n",
    "\t\tM, N = self.M, self.N\n",
    "\t\tdics = self.dics\n",
    "\n",
    "\t\tchoices = set()  # All Possible Reliabilities\n",
    "\t\ttypes = {} # {Type: {Reliability, Price}, }\n",
    "\n",
    "\t\tfor item in dics: \n",
    "\t\t\tif types.get(int(item['T']), None):\n",
    "\t\t\t\ttypes[int(item['T'])].append({'R': item['R'], 'P': item['P']})\n",
    "\t\t\telse:\n",
    "\t\t\t\ttypes[int(item['T'])] = [{'R': item['R'], 'P': item['P']}]\n",
    "\t\t\tchoices.add(item['R'])\n",
    "\t\tchoices = sorted(list(choices)) # ASC LIST\n",
    "\n",
    "\t\tfor ty in types.keys():\n",
    "\t\t\ttypes[ty].sort(key = lambda x: x['R']) # ASC LIST\n",
    "\t\t\n",
    "\n",
    "\t\tdef withinBudget(R):\n",
    "\t\t\t''' \n",
    "\t\t\tworkable if \n",
    "\t\t\t'''\n",
    "\t\t\tS = 0 # Total Price Under 'R'\n",
    "\n",
    "\t\t\tfor items in types.values(): # \n",
    "\t\t\t\t# Find the First Elem Not Smaller Than 'R'\n",
    "\t\t\t\tidx = bisect_left([x['R'] for x in items], R)\n",
    "\n",
    "\t\t\t\t# 如果idx==ty.size()则说明ty内所有器件的可靠性都低于maxR，因此此ty器件选取不到，可以直接返回false\n",
    "\t\t\t\tif idx == len(items):\n",
    "\t\t\t\t\treturn False\n",
    "\n",
    "\t\t\t\tS += items[idx]['P']\n",
    "\n",
    "\t\t\t# If Actual Cost Under Budget\n",
    "\t\t\treturn S <= M\n",
    "\n",
    "\t\tres = -1\n",
    "\t\t# Binary Iterate Possible Reliabilities\n",
    "\t\tl, r = 0, len(choices) - 1\n",
    "\t\twhile l <= r:\n",
    "\t\t\tm = (l + r) >> 1\n",
    "\n",
    "\t\t\tif withinBudget(choices[m]):\n",
    "\t\t\t\tres = choices[m]\n",
    "\t\t\t\tl = m + 1\n",
    "\t\t\telse:\n",
    "\t\t\t\tr = m - 1\n",
    "\n",
    "\t\treturn res\n",
    "\n",
    "# Execution Part\n",
    "if __name__ == \"__main__\":\n",
    "\t# Instantiate\n",
    "\tobj = AssemMaxReliableDev()\n",
    "\t# Get Input\n",
    "\tobj.GetInput()\n",
    "\t# Get Result\n",
    "\tprint(obj.Solution())\n"
   ]
  },
  {
   "cell_type": "markdown",
   "metadata": {},
   "source": [
    "# Test Cases\n",
    "```\n",
    "500 3\n",
    "6\n",
    "0 80 100\n",
    "0 90 200\n",
    "1 50 50\n",
    "1 70 210\n",
    "2 50 100\n",
    "2 60 150\n",
    "self.M, self.N = 500, 3\n",
    "self.dics = [\t{'T':0, 'R':80, 'P':100}, {'T':0, 'R':90, 'P':200}, \n",
    "\t\t{'T':1, 'R':50, 'P':50}, {'T':1, 'R':70, 'P':210}, \n",
    "\t\t{'T':2, 'R':50, 'P':100}, {'T':2, 'R':60, 'P':150}]\n",
    "```"
   ]
  }
 ],
 "metadata": {
  "kernelspec": {
   "display_name": "Python 3",
   "language": "python",
   "name": "python3"
  },
  "language_info": {
   "codemirror_mode": {
    "name": "ipython",
    "version": 3
   },
   "file_extension": ".py",
   "mimetype": "text/x-python",
   "name": "python",
   "nbconvert_exporter": "python",
   "pygments_lexer": "ipython3",
   "version": "3.11.4"
  },
  "orig_nbformat": 4
 },
 "nbformat": 4,
 "nbformat_minor": 2
}
