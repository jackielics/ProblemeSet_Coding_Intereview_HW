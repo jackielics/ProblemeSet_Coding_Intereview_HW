{
 "cells": [
  {
   "cell_type": "markdown",
   "metadata": {},
   "source": [
    "# Title\n",
    "7-阿里巴巴找黄金宝箱(V)  \n",
    "AlibabaFindingGoldenTreasureBox(V)-HUAWEI-CodingInterview"
   ]
  },
  {
   "cell_type": "markdown",
   "metadata": {},
   "source": [
    "# Problem Description\n",
    "![https://fcqian.blog.csdn.net/article/details/130764526](https://res.cloudinary.com/dnyeldv5r/image/upload/v1690185558/2023-07-24_155842_cikqsg.png)"
   ]
  },
  {
   "cell_type": "markdown",
   "metadata": {},
   "source": [
    "# Key Point & Tag\n",
    "Difficulty Assessment: Easy"
   ]
  },
  {
   "cell_type": "markdown",
   "metadata": {},
   "source": [
    "# Code"
   ]
  },
  {
   "cell_type": "code",
   "execution_count": 1,
   "metadata": {},
   "outputs": [
    {
     "name": "stdout",
     "output_type": "stream",
     "text": [
      "0\n"
     ]
    }
   ],
   "source": [
    "# Input Part\n",
    "def get_input()->dict:\n",
    "\t'''\n",
    "    Get Input Data\n",
    "\t'''\n",
    "\tarr = list(map(int, input().split(',')))\n",
    "\tn = int(input()) # n <= len(arr)\n",
    "\treturn {'n': n, 'arr': arr}\n",
    "\n",
    "# Algorithm Part\n",
    "class TreasureBoxFinder:\n",
    "\tdef Solution(self, n, arr)->int:\n",
    "\t\t\n",
    "\t\tres, win = float('-inf'), 0\n",
    "\t\tfor i in range(len(arr)):\n",
    "\t\t\tif i < n: # windows accumulate\n",
    "\t\t\t\twin += arr[i]\n",
    "\t\t\t\tif i == n - 1: # case: MAX appears in beginning\n",
    "\t\t\t\t\tres = win\n",
    "\t\t\telse: # window start moving\n",
    "\t\t\t\twin += arr[i]\n",
    "\t\t\t\twin -= arr[i - n]\n",
    "\t\t\t\tres = max(res, win)\n",
    "\n",
    "\t\treturn res\n",
    "\n",
    "# Execution Part\n",
    "if __name__ == \"__main__\":\n",
    "\t# Get Input\n",
    "\tdata = get_input()\n",
    "\n",
    "\t# Get Result\n",
    "\tprint(TreasureBoxFinder().Solution(data['n'], data['arr']))"
   ]
  },
  {
   "cell_type": "code",
   "execution_count": null,
   "metadata": {},
   "outputs": [],
   "source": []
  }
 ],
 "metadata": {
  "kernelspec": {
   "display_name": "Python 3",
   "language": "python",
   "name": "python3"
  },
  "language_info": {
   "codemirror_mode": {
    "name": "ipython",
    "version": 3
   },
   "file_extension": ".py",
   "mimetype": "text/x-python",
   "name": "python",
   "nbconvert_exporter": "python",
   "pygments_lexer": "ipython3",
   "version": "3.11.4"
  },
  "orig_nbformat": 4
 },
 "nbformat": 4,
 "nbformat_minor": 2
}
