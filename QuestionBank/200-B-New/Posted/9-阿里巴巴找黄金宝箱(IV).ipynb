{
 "cells": [
  {
   "cell_type": "markdown",
   "metadata": {},
   "source": [
    "# Topic\n",
    "9-阿里巴巴找黄金宝箱(IV)  \n",
    "TreasureBox(IV)-HUAWEI-CodingInterview"
   ]
  },
  {
   "cell_type": "markdown",
   "metadata": {},
   "source": [
    "# Problem Description\n",
    "![https://fcqian.blog.csdn.net/article/details/130771502](https://res.cloudinary.com/dnyeldv5r/image/upload/v1690885397/2023-08-01_182250_ahqfmv.png)"
   ]
  },
  {
   "cell_type": "markdown",
   "metadata": {},
   "source": [
    "# Key Point & Tag\n",
    "|  Key   | Value  |\n",
    "|  :----:  | :----:  |\n",
    "| Difficulty Assessment  | Easy⭐ |\n",
    "| Tag  |   |\n",
    "| Similar Problem | []()|"
   ]
  },
  {
   "cell_type": "markdown",
   "metadata": {},
   "source": [
    "# Approach\n",
    "Double array"
   ]
  },
  {
   "cell_type": "markdown",
   "metadata": {},
   "source": [
    "# Code"
   ]
  },
  {
   "cell_type": "code",
   "execution_count": 5,
   "metadata": {},
   "outputs": [
    {
     "name": "stdout",
     "output_type": "stream",
     "text": [
      "4,5,6,-1,4\n"
     ]
    }
   ],
   "source": [
    "class TreasureBox_IV:\n",
    "\t# Input Part\n",
    "\tdef GetInput(self)->None:\n",
    "\t\t'''\n",
    "\t\tGet Input Data and Preprocess Data\n",
    "\t\t'''\n",
    "\t\tself.nums = list(map(int, input().strip().split(',')))\n",
    "\n",
    "\t# Algorithm Part\n",
    "\tdef Solution(self)->int:\n",
    "\t\t'''\n",
    "\t\tAlgorithm Solving Problem\n",
    "\t\t'''\n",
    "\t\t# Get data from self\n",
    "\t\tnums = self.nums\n",
    "\n",
    "\t\tres = ['-1'] * len(nums) # fill with -1 initially\n",
    "\t\tstack = [] # Monotonic Stack[(i, v)]\n",
    "\t\tfor i in range(2 * len(nums)):\n",
    "\t\t\ti = i if i < len(nums) else i - len(nums) # reset index\n",
    "\t\t\t# pop all elems smaller than V\n",
    "\t\t\twhile stack and nums[i] > stack[-1]['v']: # not empty, pop out\n",
    "\t\t\t\tpop = stack.pop()\n",
    "\t\t\t\tif res[pop['i']] == '-1': # not filled with acutal value\n",
    "\t\t\t\t\tres[pop['i']] = str(nums[i]) # fill res with actual value\n",
    "\t\t\tstack.append({'i':i, 'v':nums[i]}) # push new elem in anyways\n",
    "\n",
    "\t\treturn ','.join(res)\n",
    "\n",
    "# Execution Part\n",
    "if __name__ == \"__main__\":\n",
    "\t# Instantiate\n",
    "\tobj = TreasureBox_IV()\n",
    "\t# Get Input\n",
    "\tobj.GetInput()\n",
    "\t# Get Result\n",
    "\tprint(obj.Solution())\n"
   ]
  },
  {
   "cell_type": "markdown",
   "metadata": {},
   "source": [
    "# Test Cases\n",
    "```\n",
    "2,5,2\n",
    "\n",
    "3,4,5,6,3\n",
    "```"
   ]
  }
 ],
 "metadata": {
  "kernelspec": {
   "display_name": "Python 3",
   "language": "python",
   "name": "python3"
  },
  "language_info": {
   "codemirror_mode": {
    "name": "ipython",
    "version": 3
   },
   "file_extension": ".py",
   "mimetype": "text/x-python",
   "name": "python",
   "nbconvert_exporter": "python",
   "pygments_lexer": "ipython3",
   "version": "3.11.4"
  },
  "orig_nbformat": 4
 },
 "nbformat": 4,
 "nbformat_minor": 2
}
