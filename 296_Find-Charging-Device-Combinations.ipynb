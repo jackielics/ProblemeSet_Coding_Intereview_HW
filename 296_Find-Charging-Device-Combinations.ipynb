{
 "cells": [
  {
   "cell_type": "code",
   "execution_count": null,
   "metadata": {},
   "outputs": [],
   "source": [
    "def solution(N, power, pm):\n",
    "\t'''\n",
    "\tN: number of powers\n",
    "\tpower: [power,...]\n",
    "\tpm: max power\n",
    "\t'''\n",
    "\tdp = [[0] * (pm + 1) for _ in range(N)]\n",
    "\n",
    "if __name__ == \"__main__\":\n",
    "\tN = int(input())\n",
    "\tpower = list(map(int, input().split()))\n",
    "\tpm = int(input())\n",
    "\tprint(solution(N, power, pm))"
   ]
  }
 ],
 "metadata": {
  "language_info": {
   "name": "python"
  },
  "orig_nbformat": 4
 },
 "nbformat": 4,
 "nbformat_minor": 2
}
