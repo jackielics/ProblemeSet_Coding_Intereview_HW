{
 "cells": [
  {
   "cell_type": "code",
   "execution_count": 12,
   "metadata": {},
   "outputs": [
    {
     "name": "stdout",
     "output_type": "stream",
     "text": [
      "6\n"
     ]
    }
   ],
   "source": [
    "def solution(N, M, length):\n",
    "\t'''\n",
    "\tN: number of boards\n",
    "\tM: meters of total unused boards\n",
    "\tlength: length of each boards\n",
    "\t'''\n",
    "\tlength.sort() # sort ascending\n",
    "\ti = 0 # index of current length of board\n",
    "\tfor j in range(M): # use every meter\n",
    "\t\tlength[i] += 1\n",
    "\t\tif i == (N - 1) or length[i + 1] >= length[i]: # greater_euqal after filling\n",
    "\t\t\ti = 0 # back to i=0 and refill\n",
    "\t\telse:\n",
    "\t\t\ti += 1 # move forward\n",
    "\treturn sorted(length)[0] # re-sort and return minValue\n",
    "\n",
    "if __name__ == \"__main__\":\n",
    "\tN, M = map(int, input().split())\n",
    "\tlength = list(map(int, input().split()))\n",
    "\tprint(solution(N, M, length))\n",
    "\t# print(solution(5, 10, [4,5,5,5,5]))"
   ]
  },
  {
   "cell_type": "code",
   "execution_count": null,
   "metadata": {},
   "outputs": [],
   "source": []
  }
 ],
 "metadata": {
  "kernelspec": {
   "display_name": "Python 3",
   "language": "python",
   "name": "python3"
  },
  "language_info": {
   "codemirror_mode": {
    "name": "ipython",
    "version": 3
   },
   "file_extension": ".py",
   "mimetype": "text/x-python",
   "name": "python",
   "nbconvert_exporter": "python",
   "pygments_lexer": "ipython3",
   "version": "3.11.4"
  },
  "orig_nbformat": 4
 },
 "nbformat": 4,
 "nbformat_minor": 2
}
