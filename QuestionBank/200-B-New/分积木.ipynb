{
 "cells": [
  {
   "cell_type": "markdown",
   "metadata": {},
   "source": [
    "# Approach"
   ]
  },
  {
   "cell_type": "markdown",
   "metadata": {},
   "source": [
    "If 2 piles is equal in Koko's way: 1+1=0, then:  \n",
    "1. 2 piles's result is euqal\n",
    "2. the Number of '1's in same index is both odd or both even(include None).\n",
    "3. "
   ]
  },
  {
   "cell_type": "markdown",
   "metadata": {},
   "source": [
    "# Backtrack (TLE)"
   ]
  },
  {
   "cell_type": "code",
   "execution_count": 5,
   "metadata": {},
   "outputs": [
    {
     "data": {
      "text/plain": [
       "11"
      ]
     },
     "execution_count": 5,
     "metadata": {},
     "output_type": "execute_result"
    }
   ],
   "source": [
    "# nums = [3, 5, 6]\n",
    "\n",
    "_ = int(input())\n",
    "nums = list(map(int, input().strip().split()))\n",
    "\n",
    "nums.sort() # ASC\n",
    "global res \n",
    "res = -1 # Solo's Max Gain in INT\n",
    "\n",
    "def combine(c1, c2):\n",
    "\tif c1 == c2 == '1':\n",
    "\t\treturn '0'\n",
    "\telse:\n",
    "\t\treturn max(c1, c2)\n",
    "\n",
    "def kokoadd(add1, add2):\n",
    "\t'''\n",
    "\tAdd bstr add1 and add2 in koko's Way\n",
    "\tHow to Do Pruning:\n",
    "\t'''\n",
    "\tif not add1:\n",
    "\t\treturn add2\n",
    "\telif not add2:\n",
    "\t\treturn num1\n",
    "\t\n",
    "\tret = ''\n",
    "\t# Reversed: From -1 to -len\n",
    "\tfor i in range(-1, - max(len(add1), len(add2)) - 1, -1): \n",
    "\t\tif abs(i) <= len(add1):\n",
    "\t\t\tbi = add1[i]\n",
    "\t\telse:\n",
    "\t\t\tbi = '0'\n",
    "\t\tif abs(i) <= len(add2):\n",
    "\t\t\tbi = combine(bi, add2[i])\n",
    "\t\tret = bi + ret\n",
    "\t# Remove '0' Ahead\n",
    "\tfirst_one = 0\n",
    "\tfor c in ret:\n",
    "\t\tif c == '0':\n",
    "\t\t\tfirst_one += 1\n",
    "\t\telse:\n",
    "\t\t\tbreak\n",
    "\n",
    "\treturn ret[first_one:]\n",
    "\n",
    "def backtrack(i, bs1, sv1, bs2):\n",
    "\t'''\n",
    "\ti: index Considered\n",
    "\ts1: Solo's Sum Str\n",
    "\tsv1: Solo's Sum INT\n",
    "\ts2: Koko's Sum Str\n",
    "\t'''\n",
    "\tif i >= len(nums): # Out-of-Bounds\n",
    "\t\tif bs1 and bs1 == bs2: # If Successful, Update Res\n",
    "\t\t\tglobal res \n",
    "\t\t\tres = max(res, sv1)\n",
    "\t\treturn\n",
    "\t# 5 = '101' + 6 = '110'\n",
    "\n",
    "\tbstr = bin(nums[i])[2:] # Add Number in BIN\n",
    "\t# Add nums[i] to s1 (Solo)\n",
    "\tbacktrack(i + 1, kokoadd(bs1, bstr), sv1 + nums[i], bs2)\n",
    "\t# Add nums[i] to s2 (Koko)\n",
    "\tbacktrack(i + 1, bs1, sv1, kokoadd(bs2, bstr))\n",
    "\n",
    "total = ''\n",
    "for s in nums:\n",
    "\ttotal = kokoadd(total, bin(s)[2:])\n",
    "if total != '':\n",
    "\tprint('-1')\n",
    "else:\n",
    "\tbacktrack(0, '', 0, '')\n",
    "\tprint(res)"
   ]
  },
  {
   "cell_type": "markdown",
   "metadata": {},
   "source": [
    "if len(bs1) != len(bs2):  \n",
    "\tlen(sumbs1) = max(len(bs1), len(bs2))  \n",
    "\t<!-- Give Solo As Much As Possible -->\n",
    "\tWhat If Solo Takes All At First, then Try to give the smaller to koko? Try it! "
   ]
  },
  {
   "cell_type": "markdown",
   "metadata": {},
   "source": [
    "# Buttom-Up Backtrack"
   ]
  },
  {
   "cell_type": "code",
   "execution_count": 19,
   "metadata": {},
   "outputs": [
    {
     "name": "stdout",
     "output_type": "stream",
     "text": [
      "11\n"
     ]
    }
   ],
   "source": [
    "# nums = [3, 5, 6]\n",
    "\n",
    "_ = int(input())\n",
    "nums = list(map(int, input().strip().split()))\n",
    "\n",
    "nums.sort() # ASC\n",
    "global res \n",
    "res = -1 # Solo's Max Gain in INT\n",
    "\n",
    "def combine(c1, c2):\n",
    "\tif c1 == c2 == '1':\n",
    "\t\treturn '0'\n",
    "\telse:\n",
    "\t\treturn max(c1, c2)\n",
    "\n",
    "def kokoadd(add1, add2):\n",
    "\t'''\n",
    "\tAdd bstr add1 and add2 in koko's Way\n",
    "\tHow to Do Pruning:\n",
    "\t'''\n",
    "\tif not add1:\n",
    "\t\treturn add2\n",
    "\telif not add2:\n",
    "\t\treturn add1\n",
    "\t\n",
    "\tret = ''\n",
    "\t# Reversed: From -1 to -len\n",
    "\tfor i in range(-1, - max(len(add1), len(add2)) - 1, -1): \n",
    "\t\tif abs(i) <= len(add1):\n",
    "\t\t\tbi = add1[i]\n",
    "\t\telse:\n",
    "\t\t\tbi = '0'\n",
    "\t\tif abs(i) <= len(add2):\n",
    "\t\t\tbi = combine(bi, add2[i])\n",
    "\t\tret = bi + ret\n",
    "\t# Remove '0' Ahead\n",
    "\tfirst_one = 0\n",
    "\tfor c in ret:\n",
    "\t\tif c == '0':\n",
    "\t\t\tfirst_one += 1\n",
    "\t\telse:\n",
    "\t\t\tbreak\n",
    "\n",
    "\treturn ret[first_one:]\n",
    "\n",
    "def restore(c1, c2):\n",
    "\t# return c1 - c2\n",
    "\t\n",
    "\t# c1 == '1'\n",
    "\tif c1 == '0' and c2 == '1':\n",
    "\t\treturn '1' # 1+1=0\n",
    "\telif c1 == '1' and c2 == '1':\n",
    "\t\treturn '0' # 1+0=0\n",
    "\telse: # c2 == '0'\n",
    "\t\treturn c1\n",
    "\n",
    "# How to Restore from sbs? 5(101) + 6(110) = (11)\n",
    "def kokoMinus(num1, num2):\n",
    "\t'''\n",
    "\tnum1 minus(-) num2 in koko's Way\n",
    "\t'''\n",
    "\tret = ''\n",
    "\t# Reversed: From -1 to -len\n",
    "\tfor i in range(-1, - max(len(num1), len(num2)) - 1, -1): \n",
    "\t\tif abs(i) <= len(num1):\n",
    "\t\t\tbi = num1[i]\n",
    "\t\telse:\n",
    "\t\t\tbi = '0'\n",
    "\t\tif abs(i) <= len(num2):\n",
    "\t\t\tbi = restore(bi, num2[i])\n",
    "\t\tret = bi + ret\n",
    "\t# Remove '0' Ahead\n",
    "\tfirst_one = 0\n",
    "\tfor c in ret:\n",
    "\t\tif c == '0':\n",
    "\t\t\tfirst_one += 1\n",
    "\t\telse:\n",
    "\t\t\tbreak\n",
    "\treturn ret[first_one:]\n",
    "\n",
    "koko = [False] * len(nums) # koko's \n",
    "def backtrack(idx, bs1, sv1, bs2):\n",
    "\t'''\n",
    "\tidx: index Considered\n",
    "\ts1: Solo's Sum Str\n",
    "\tsv1: Solo's Sum INT\n",
    "\ts2: Koko's Sum Str\n",
    "\t'''\n",
    "\tif idx < 0: # Out-of-Bounds\n",
    "\t\treturn\n",
    "\t# 5 = '101' + 6 = '110'\n",
    "\tif bs1 and bs1 == bs2: # If Successful, Update Res\n",
    "\t\tglobal res \n",
    "\t\tres = max(res, sv1)\n",
    "\t\treturn\n",
    "\n",
    "\t# bstr = bin(nums[idx])[2:] # Add Number in BIN\n",
    "\n",
    "\tfor i in range(idx, len(nums)):\n",
    "\t\tif not koko[i]:\n",
    "\t\t\tbstr = bin(nums[i])[2:]\n",
    "\t\t\tkoko[i] = True # Give nums[i] to Koko\n",
    "\t\t\tbacktrack(i + 1,\n",
    "\t\t\tkokoMinus(bs1, bin(nums[i])[2:]), \n",
    "\t\t\tsv1 - nums[i],\n",
    "\t\t\tkokoadd(bs2, bin(nums[i])[2:])\n",
    "\t\t\t)\n",
    "\t\t\tkoko[i] = False\n",
    "\n",
    "total = ''\n",
    "for s in nums:\n",
    "\ttotal = kokoadd(total, bin(s)[2:])\n",
    "if total != '':\n",
    "\tprint(-1)\n",
    "else:\n",
    "\tbacktrack(0, total, sum(nums), '')\n",
    "\tprint(res)"
   ]
  },
  {
   "cell_type": "markdown",
   "metadata": {},
   "source": [
    "# Test Case"
   ]
  },
  {
   "cell_type": "markdown",
   "metadata": {},
   "source": [
    "```\n",
    "3\n",
    "3 5 6\n",
    "```"
   ]
  }
 ],
 "metadata": {
  "kernelspec": {
   "display_name": "Python 3",
   "language": "python",
   "name": "python3"
  },
  "language_info": {
   "codemirror_mode": {
    "name": "ipython",
    "version": 3
   },
   "file_extension": ".py",
   "mimetype": "text/x-python",
   "name": "python",
   "nbconvert_exporter": "python",
   "pygments_lexer": "ipython3",
   "version": "3.11.4"
  },
  "orig_nbformat": 4
 },
 "nbformat": 4,
 "nbformat_minor": 2
}
