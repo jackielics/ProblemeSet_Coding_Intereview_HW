{
 "cells": [
  {
   "cell_type": "markdown",
   "metadata": {},
   "source": [
    "# Topic\n",
    "5-相同数字组成图形的周长  \n",
    "Perimeter-HUAWEI-CodingInterview"
   ]
  },
  {
   "cell_type": "markdown",
   "metadata": {},
   "source": [
    "# Problem Description\n",
    "![https://fcqian.blog.csdn.net/article/details/130161763](https://res.cloudinary.com/dnyeldv5r/image/upload/v1690802578/2023-07-31_192208_vu7ack.png)"
   ]
  },
  {
   "cell_type": "markdown",
   "metadata": {},
   "source": [
    "# Key Point & Tag\n",
    "Difficulty Assessment: Easy  \n",
    "Tag:   \n",
    "Similar Problem:  "
   ]
  },
  {
   "cell_type": "markdown",
   "metadata": {},
   "source": [
    "# Code"
   ]
  },
  {
   "cell_type": "code",
   "execution_count": 14,
   "metadata": {},
   "outputs": [
    {
     "name": "stdout",
     "output_type": "stream",
     "text": [
      "18\n",
      "20\n"
     ]
    }
   ],
   "source": [
    "class Perimeter:\n",
    "\t# Input Part\n",
    "\tdef GetInput(self)->None:\n",
    "\t\t'''\n",
    "\t\tGet Input Data and Preprocess Data\n",
    "\t\t'''\n",
    "\t\tself.N = int(input()) \n",
    "\t\tself.arrs = [list(map(int, input().split())) for _ in range(self.N)]\n",
    "\n",
    "\n",
    "\t# Algorithm Part\n",
    "\tdef Solution(self)->int:\n",
    "\t\t'''\n",
    "\t\tAlgorithm Solving Problem\n",
    "\t\t'''\n",
    "\t\t# Get data from self\n",
    "\t\tN = self.N\n",
    "\t\tarrs = self.arrs\n",
    "\n",
    "\t\tres = []\n",
    "\t\tcoors = []\n",
    "\n",
    "\t\tmat = [[0] * 64 for _ in range(64)] # 64*64 matrix\n",
    "\t\t# fill mat\n",
    "\t\tfor arr in arrs:\n",
    "\t\t\tfill = arr[0] # elem to be filled with\n",
    "\t\t\tcoor = []\n",
    "\t\t\tfor x in range(1, len(arr), 2):\n",
    "\t\t\t\tmat[arr[x]][arr[x + 1]] = fill\n",
    "\t\t\t\tcoor.append([arr[x], arr[x + 1]])\n",
    "\t\t\tcoors.append(coor)\n",
    "\n",
    "\t\t# Traverse Coordinates\n",
    "\t\tfor coor in coors:\n",
    "\t\t\tp = 0 # perimeter for this set of coordinates\n",
    "\t\t\tfor xy in coor:\n",
    "\t\t\t\tx, y = xy[0], xy[1] # x and y coordinate\n",
    "\t\t\t\tif x == 63 or mat[x + 1][y] != mat[x][y]: # right\n",
    "\t\t\t\t\tp += 1\n",
    "\t\t\t\tif x == 0 or mat[x - 1][y] != mat[x][y]: # left\n",
    "\t\t\t\t\tp += 1\n",
    "\t\t\t\tif y == 63 or mat[x][y + 1] != mat[x][y]: # up\n",
    "\t\t\t\t\tp += 1\n",
    "\t\t\t\tif y == 0 or mat[x][y - 1] != mat[x][y]: # bottom\n",
    "\t\t\t\t\tp += 1\n",
    "\t\t\tres.append(str(p))\n",
    "\t\t\n",
    "\t\treturn ' '.join(res)\n",
    "\n",
    "# Execution Part\n",
    "if __name__ == \"__main__\":\n",
    "\t# Instantiate\n",
    "\tobj = Perimeter()\n",
    "\t# Get Input\n",
    "\tobj.GetInput()\n",
    "\t# Get Result\n",
    "\tprint(obj.Solution())\n"
   ]
  },
  {
   "cell_type": "code",
   "execution_count": 11,
   "metadata": {},
   "outputs": [
    {
     "name": "stdout",
     "output_type": "stream",
     "text": [
      "1\n",
      "2\n"
     ]
    }
   ],
   "source": [
    "res = ['1','2']\n",
    "print('\\n'.join(res))"
   ]
  },
  {
   "cell_type": "markdown",
   "metadata": {},
   "source": [
    "# Test Cases\n",
    "```\n",
    "2\n",
    "1 1 3 2 2 2 3 2 4 3 2 3 3 3 4 4 1 4 2 4 3 4 4 5 2 5 3\n",
    "2 3 7 3 8 4 5 4 6 4 7 4 8 5 4 5 5 5 6 5 7 5 8 6 4 6 5 6 6 6 7 6 8 7 4 7 5 7 6 7 7 7 8\n",
    "```"
   ]
  }
 ],
 "metadata": {
  "kernelspec": {
   "display_name": "Python 3",
   "language": "python",
   "name": "python3"
  },
  "language_info": {
   "codemirror_mode": {
    "name": "ipython",
    "version": 3
   },
   "file_extension": ".py",
   "mimetype": "text/x-python",
   "name": "python",
   "nbconvert_exporter": "python",
   "pygments_lexer": "ipython3",
   "version": "3.11.4"
  },
  "orig_nbformat": 4
 },
 "nbformat": 4,
 "nbformat_minor": 2
}
