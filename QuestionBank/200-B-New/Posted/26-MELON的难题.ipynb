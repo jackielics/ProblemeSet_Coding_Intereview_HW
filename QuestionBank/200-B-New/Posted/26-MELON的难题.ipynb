{
 "cells": [
  {
   "cell_type": "markdown",
   "metadata": {},
   "source": [
    "# Topic\n",
    "26-MELON的难题  \n",
    "ProblemOfMelon-HUAWEI-CodingInterview"
   ]
  },
  {
   "cell_type": "markdown",
   "metadata": {},
   "source": [
    "# Problem Description\n",
    "![https://blog.csdn.net/qfc_128220/article/details/131476575](https://res.cloudinary.com/dnyeldv5r/image/upload/v1691437437/2023-08-08_034217_w3kfnw.png)"
   ]
  },
  {
   "cell_type": "markdown",
   "metadata": {},
   "source": [
    "# Key Point & Tag\n",
    "|  Key   | Value  |\n",
    "|  :----:  | :----:  |\n",
    "| Difficulty Assessment  | Medium⭐⭐ |\n",
    "| Tag  | 2-DP, Backtrack  |\n",
    "| Similar Problem | [subsets](https://leetcode.com/problems/subsets/) |"
   ]
  },
  {
   "cell_type": "markdown",
   "metadata": {},
   "source": [
    "# Code"
   ]
  },
  {
   "cell_type": "markdown",
   "metadata": {},
   "source": [
    "## 2-DP (AC)\n",
    "Complicated Principle"
   ]
  },
  {
   "cell_type": "code",
   "execution_count": null,
   "metadata": {},
   "outputs": [
    {
     "name": "stdout",
     "output_type": "stream",
     "text": [
      "3\n"
     ]
    }
   ],
   "source": [
    "class ProblemOfMelon:\n",
    "\t# Input Part\n",
    "\tdef GetInput(self)->None:\n",
    "\t\t'''\n",
    "\t\tGet Input Data and Preprocess Data\n",
    "\t\t'''\n",
    "\t\tself.N = int(input()) \n",
    "\t\tself.nums = list(map(int, input().strip().split(' ')))\n",
    "\n",
    "\t# Algorithm Part\n",
    "\tdef Solution(self)->int:\n",
    "\t\t'''\t\tAlgorithm Solving Problem\n",
    "\t\t'''\n",
    "\t\t# Get data from self\n",
    "\t\tN = self.N + 1 # Counting [0]\n",
    "\t\tnums = [0] + self.nums # nums > 0, Insert [0] Ahead\n",
    "\t\t\n",
    "\t\tTGT = sum(nums) // 2\n",
    "\t\tif TGT * 2 != sum(nums): # Can't Halve\n",
    "\t\t\treturn -1\n",
    "\t\t\n",
    "\t\t# DP[idx][tgt]: Min Amount of Ways to Achieve 'tgt' Using 'nums[:idx - 1]'\n",
    "\t\tDP = [[0] * (TGT + 1) for _ in range(N)] # (TGT + 1) Counting [0]\n",
    "\n",
    "\t\tfor tgt in range(1, TGT + 1):\n",
    "\t\t\tDP[0][tgt] = N # Indivisible Using None Elem\n",
    "\n",
    "\t\tfor idx in range(1, N): # Row: index in 'nums' \n",
    "\t\t\tcur = nums[idx] # Current Elem Being Considered in 'nums'\n",
    "\t\t\tfor tgt in range(1, TGT + 1): # Col: Current TARGET Value \n",
    "\t\t\t\tif cur > tgt: # Current ELem Greater Than TGT: Useless\n",
    "\t\t\t\t\tDP[idx][tgt] = DP[idx - 1][tgt] # Current Elem Useless, Inherit from last [idx]\n",
    "\t\t\t\telse:\n",
    "\t\t\t\t\tDP[idx][tgt] = min(DP[idx - 1][tgt], DP[idx - 1][tgt - cur] + 1) # MinV B/W Useless & Using\n",
    "\n",
    "\t\t# N - 1: Remove [0] Ahead\n",
    "\t\t# Return -1 If Not Halve Yet else Smaller Half\n",
    "\t\treturn min(DP[-1][-1], N - 1 - DP[-1][-1]) if DP[-1][-1] != N else -1\n",
    "\n",
    "# Execution Part\n",
    "if __name__ == \"__main__\":\n",
    "\t# Instantiate\n",
    "\tobj = ProblemOfMelon()\n",
    "\t# Get Input\n",
    "\tobj.GetInput()\n",
    "\t# Get Result\n",
    "\tprint(obj.Solution())\n"
   ]
  },
  {
   "cell_type": "markdown",
   "metadata": {},
   "source": [
    "## Backtrack (TLE)\n",
    "Simple Principle, Time Exceeded"
   ]
  },
  {
   "cell_type": "code",
   "execution_count": 2,
   "metadata": {},
   "outputs": [
    {
     "name": "stdout",
     "output_type": "stream",
     "text": [
      "3\n"
     ]
    }
   ],
   "source": [
    "class ProblemOfMelon:\n",
    "\t# Input Part\n",
    "\tdef GetInput(self)->None:\n",
    "\t\t'''\n",
    "\t\tGet Input Data and Preprocess Data\n",
    "\t\t'''\n",
    "\t\tself.N = int(input()) \n",
    "\t\tself.nums = list(map(int, input().strip().split(' ')))\n",
    "\n",
    "\t# Algorithm Part\n",
    "\tdef Solution(self)->int:\n",
    "\t\t'''\n",
    "\t\tAlgorithm Solving Problem\n",
    "\t\t'''\n",
    "\t\t# Get data from self\n",
    "\t\tN = self.N\n",
    "\t\tnums = self.nums\n",
    "\t\t\n",
    "\t\ttar = sum(nums) // 2\n",
    "\t\tif tar * 2 != sum(nums): # Can't Halve\n",
    "\t\t\treturn -1\n",
    "\t\t\n",
    "\t\t# res = set() # ret\n",
    "\n",
    "\t\tglobal res # Declare Immutable\n",
    "\t\tres = float('inf') # ret\n",
    "\t\tsubset = [] # Record Pilot Process\n",
    "\n",
    "\t\tdef backtrack(i):\n",
    "\t\t\tif i >= len(nums):\n",
    "\t\t\t\tif sum(subset) == tar:\n",
    "\t\t\t\t\t# res.add(tuple(subset))\n",
    "\t\t\t\t\tglobal res\n",
    "\t\t\t\t\tres = min(res, len(subset))\n",
    "\t\t\t\treturn None\n",
    "\t\t\t\n",
    "\t\t\tsubset.append(nums[i])\n",
    "\t\t\tbacktrack(i + 1) # with nums[i]\n",
    "\n",
    "\t\t\tsubset.pop()\n",
    "\t\t\tbacktrack(i + 1) # without nums[i]\n",
    "\n",
    "\t\tbacktrack(0) # start from 0\n",
    "\t\t\n",
    "\t\treturn res if res < float('inf') else -1\n",
    "\n",
    "# Execution Part\n",
    "if __name__ == \"__main__\":\n",
    "\t# Instantiate\n",
    "\tobj = ProblemOfMelon()\n",
    "\t# Get Input\n",
    "\tobj.GetInput()\n",
    "\t# Get Result\t\n",
    "\tprint(obj.Solution())\n"
   ]
  },
  {
   "cell_type": "markdown",
   "metadata": {},
   "source": [
    "# Test Cases\n",
    "```\n",
    "4\n",
    "1 1 2 2\n",
    "\n",
    "10\n",
    "1 1 1 1 1 9 8 3 7 10\n",
    "```"
   ]
  }
 ],
 "metadata": {
  "kernelspec": {
   "display_name": "Python 3",
   "language": "python",
   "name": "python3"
  },
  "language_info": {
   "codemirror_mode": {
    "name": "ipython",
    "version": 3
   },
   "file_extension": ".py",
   "mimetype": "text/x-python",
   "name": "python",
   "nbconvert_exporter": "python",
   "pygments_lexer": "ipython3",
   "version": "3.11.4"
  },
  "orig_nbformat": 4
 },
 "nbformat": 4,
 "nbformat_minor": 2
}
