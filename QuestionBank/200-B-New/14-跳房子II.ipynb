{
 "cells": [
  {
   "cell_type": "markdown",
   "metadata": {},
   "source": [
    "# Topic\n",
    "14-跳房子II  \n",
    "Hopscotch-HUAWEI-CodingInterview"
   ]
  },
  {
   "cell_type": "markdown",
   "metadata": {},
   "source": [
    "# Problem Description\n",
    "![](https://res.cloudinary.com/dnyeldv5r/image/upload/v1691235070/2023-08-05_193044_u7xe2f.png)"
   ]
  },
  {
   "cell_type": "markdown",
   "metadata": {},
   "source": [
    "# Key Point & Tag\n",
    "Difficulty Assessment: Medium  \n",
    "Tag: Two-Pointer, Pruning  \n",
    "Similar Problem: [3sum](https://leetcode.com/problems/3sum/)  "
   ]
  },
  {
   "cell_type": "markdown",
   "metadata": {},
   "source": [
    "# Code"
   ]
  },
  {
   "cell_type": "code",
   "execution_count": 29,
   "metadata": {},
   "outputs": [
    {
     "name": "stdout",
     "output_type": "stream",
     "text": [
      "[-2,-3,-2]\n"
     ]
    }
   ],
   "source": [
    "class Hopscotch:\n",
    "\t# Input Part\n",
    "\tdef GetInput(self)->None:\n",
    "\t\t'''\n",
    "\t\tGet Input Data and Preprocess Data\n",
    "\t\t'''\n",
    "\t\tself.arr = eval(input())\n",
    "\t\tself.T = int(input()) \n",
    "\n",
    "\t# Algorithm Part\n",
    "\tdef Solution(self)->int:\n",
    "\t\t'''\n",
    "\t\tAlgorithm Solving Problem\n",
    "\t\t'''\n",
    "\t\t# Get data from self\n",
    "\t\tTOT = self.T # Total Target sum\n",
    "\t\tarr_index = sorted(enumerate(self.arr), key=lambda x: x[1])\n",
    "\t\t# same value, original index smaller, more leftwards\n",
    "\t\tarr = [v[1] for v in arr_index] # sort ASC\n",
    "\t\torg_idx = [v[0] for v in arr_index] # Original index regarding to arr\n",
    "\t\t\n",
    "\t\t# persue min value of sum of (i, j, h)\n",
    "\t\tres = [float('inf'), float('inf'), float('inf')] \n",
    "\t\tfor st in range(len(arr) - 2): # starting index being used(Fixed)\n",
    "\t\t\t# If the smallest one among 3 elems is greater than TGT/3\n",
    "\t\t\tif arr[st] > (TOT/3): \n",
    "\t\t\t\tbreak\n",
    "\t\t\t# Skip Duplicates(With greater original index)\n",
    "\t\t\tif st > 0 and arr[st] == arr[st - 1]: \n",
    "\t\t\t\tcontinue\n",
    "\n",
    "\t\t\tTGT = TOT - arr[st] # Target value in Two-Sum\n",
    "\t\t\tl, r = st + 1, len(arr) - 1 # Look Forward\n",
    "\t\t\t\n",
    "\t\t\twhile l < r:\n",
    "\t\t\t\t# If the smaller([l]) is greater than TGT/2 and vice versa\n",
    "\t\t\t\tif arr[l] > (TGT/2) or arr[r] < (TGT/2) : # arr[r] > arr[l]\n",
    "\t\t\t\t\tbreak\n",
    "\n",
    "\t\t\t\t# If arr[l] == arr[l - 1], then org_idx[l] > org_idx[l - 1]\n",
    "\t\t\t\t# Among all continuously equal elems, only the elem with smallest index is useful\n",
    "\t\t\t\twhile l > st + 1 and arr[l] == arr[l - 1] and l < r - 1: # can't cross or equal [r]\n",
    "\t\t\t\t\tl += 1 # move rightwards, compare with left\n",
    "\t\t\t\twhile arr[r - 1] == arr[r] and r > l + 1: # can't cross or equal [l]\n",
    "\t\t\t\t\tr -= 1 # move leftwards, compare with left\n",
    "\n",
    "\t\t\t\tif arr[l] + arr[r] == TGT:\n",
    "\t\t\t\t\tif sum((org_idx[st], org_idx[l], org_idx[r])) < sum(res): # record smallest sum of original index\n",
    "\t\t\t\t\t\tres = [org_idx[st], org_idx[l], org_idx[r]] # Keep Order\n",
    "\t\t\t\t\tl += 1 # Try finding smaller sum-of-index(DPL in arr)\n",
    "\t\t\t\t\tr -= 1\n",
    "\t\t\t\telif arr[l] + arr[r] < TGT: \n",
    "\t\t\t\t\tl += 1\n",
    "\t\t\t\telse:\n",
    "\t\t\t\t\tr -= 1\n",
    "\n",
    "\t\tres.sort() # sort original indexes ASC\n",
    "\t\tres = [str(self.arr[i]) for i in res] # turn index to value(str)\n",
    "\t\treturn f\"[{','.join(res)}]\"\n",
    "\n",
    "# Execution Part\n",
    "if __name__ == \"__main__\":\n",
    "\t# Instantiate\n",
    "\tobj = Hopscotch()\n",
    "\t# Get Input\n",
    "\tobj.GetInput()\n",
    "\t# Get Result\n",
    "\tprint(obj.Solution())\n"
   ]
  },
  {
   "cell_type": "markdown",
   "metadata": {},
   "source": [
    "# Test Cases\n",
    "```\n",
    "[1,4,5,2,0,2]\n",
    "9\n",
    "\n",
    "[1,5,2,0,2,4]\n",
    "9\n",
    "\n",
    "[-1,2,4,9]\n",
    "12\n",
    "```"
   ]
  }
 ],
 "metadata": {
  "kernelspec": {
   "display_name": "Python 3",
   "language": "python",
   "name": "python3"
  },
  "language_info": {
   "codemirror_mode": {
    "name": "ipython",
    "version": 3
   },
   "file_extension": ".py",
   "mimetype": "text/x-python",
   "name": "python",
   "nbconvert_exporter": "python",
   "pygments_lexer": "ipython3",
   "version": "3.11.4"
  },
  "orig_nbformat": 4
 },
 "nbformat": 4,
 "nbformat_minor": 2
}
