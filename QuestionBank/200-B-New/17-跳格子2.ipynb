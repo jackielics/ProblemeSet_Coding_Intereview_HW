{
 "cells": [
  {
   "cell_type": "markdown",
   "metadata": {},
   "source": [
    "# Topic\n",
    "17-跳格子2  \n",
    "Hopscotch2-HUAWEI-CodingInterview"
   ]
  },
  {
   "cell_type": "markdown",
   "metadata": {},
   "source": [
    "# Problem Description\n",
    "![https://blog.csdn.net/qfc_128220/article/details/130774791](https://res.cloudinary.com/dnyeldv5r/image/upload/v1691250415/2023-08-05_234629_jxbl2s.png)"
   ]
  },
  {
   "cell_type": "markdown",
   "metadata": {},
   "source": [
    "# Key Point & Tag\n",
    "Difficulty Assessment: Medium  \n",
    "Tag: 1-DP  \n",
    "Similar Problem: [house-robber-ii](https://leetcode.com/problems/house-robber-ii/)  "
   ]
  },
  {
   "cell_type": "markdown",
   "metadata": {},
   "source": [
    "# Code"
   ]
  },
  {
   "cell_type": "code",
   "execution_count": 2,
   "metadata": {},
   "outputs": [
    {
     "name": "stdout",
     "output_type": "stream",
     "text": [
      "4\n"
     ]
    }
   ],
   "source": [
    "class Hopscotch:\n",
    "\t# Input Part\n",
    "\tdef GetInput(self)->None:\n",
    "\t\t'''\n",
    "\t\tGet Input Data and Preprocess Data\n",
    "\t\t'''\n",
    "\t\tself.arr = list(map(int, input().strip().split(' ')))\n",
    "\n",
    "\t# Algorithm Part\n",
    "\tdef Solution(self)->int:\n",
    "\t\t'''\n",
    "\t\tAlgorithm Solving Problem\n",
    "\t\t'''\n",
    "\t\t# Get data from self\n",
    "\t\tarr = self.arr\n",
    "\n",
    "\t\tif len(arr) <= 3:\n",
    "\t\t\treturn max(arr)\n",
    "\n",
    "\t\t# 1: skip first [0]\t\t2: skip [-1] last\n",
    "\t\tpp1, p1 = pp2, p2 = 0, 0 # prior, prior to prior\n",
    "\t\tfor v1, v2 in zip(arr[1:], arr[:-1]): # ignore first\n",
    "\t\t\tcur1, cur2 = max(p1, pp1 + v1), max(p2, pp2 + v2)\n",
    "\t\t\tpp1, pp2 = p1, p2\n",
    "\t\t\tp1, p2 = cur1, cur2\n",
    "\n",
    "\t\treturn max(cur1, cur2)\n",
    "\n",
    "# Execution Part\n",
    "if __name__ == \"__main__\":\n",
    "\t# Instantiate\n",
    "\tobj = Hopscotch()\n",
    "\t# Get Input\n",
    "\tobj.GetInput()\n",
    "\t# Get Result\n",
    "\tprint(obj.Solution())\n"
   ]
  },
  {
   "cell_type": "markdown",
   "metadata": {},
   "source": [
    "# Test Cases\n",
    "```\n",
    "2 3 2\n",
    "\n",
    "1 2 3 1\n",
    "```"
   ]
  }
 ],
 "metadata": {
  "kernelspec": {
   "display_name": "Python 3",
   "language": "python",
   "name": "python3"
  },
  "language_info": {
   "codemirror_mode": {
    "name": "ipython",
    "version": 3
   },
   "file_extension": ".py",
   "mimetype": "text/x-python",
   "name": "python",
   "nbconvert_exporter": "python",
   "pygments_lexer": "ipython3",
   "version": "3.11.4"
  },
  "orig_nbformat": 4
 },
 "nbformat": 4,
 "nbformat_minor": 2
}
