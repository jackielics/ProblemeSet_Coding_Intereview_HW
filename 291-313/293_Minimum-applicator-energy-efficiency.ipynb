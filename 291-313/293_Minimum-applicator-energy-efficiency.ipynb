{
 "cells": [
  {
   "cell_type": "code",
   "execution_count": 16,
   "metadata": {},
   "outputs": [
    {
     "name": "stdout",
     "output_type": "stream",
     "text": [
      "-1\n"
     ]
    }
   ],
   "source": [
    "def solution(M, N, fields):\n",
    "\tif N < len(fields):\n",
    "\t\treturn -1 # failed\n",
    "\tl = 1 # min velocity, left\n",
    "\tres = r = max(fields) # max velocity, right\n",
    "\twhile l <= r:\n",
    "\t\tm = (l + r) // 2\n",
    "\t\thour = sum(list(map(lambda x : x // m if x % m == 0 else (x // m) + 1, fields)))\n",
    "\t\tif hour <= N: # equal\n",
    "\t\t\tr = m - 1\n",
    "\t\t\tres = min(res, m)\n",
    "\t\telse: # over time\n",
    "\t\t\tl = m + 1\n",
    "\treturn res\n",
    "\n",
    "\n",
    "if __name__ == \"__main__\":\n",
    "\tM, N = map(int, input().split()) # M: numbers N: days\n",
    "\tfields = list(map(int, input().split()))\n",
    "\tres = solution(M, N, fields)\n",
    "\tprint(res)"
   ]
  },
  {
   "cell_type": "code",
   "execution_count": null,
   "metadata": {},
   "outputs": [],
   "source": []
  }
 ],
 "metadata": {
  "kernelspec": {
   "display_name": "Python 3",
   "language": "python",
   "name": "python3"
  },
  "language_info": {
   "codemirror_mode": {
    "name": "ipython",
    "version": 3
   },
   "file_extension": ".py",
   "mimetype": "text/x-python",
   "name": "python",
   "nbconvert_exporter": "python",
   "pygments_lexer": "ipython3",
   "version": "3.11.4"
  },
  "orig_nbformat": 4
 },
 "nbformat": 4,
 "nbformat_minor": 2
}
