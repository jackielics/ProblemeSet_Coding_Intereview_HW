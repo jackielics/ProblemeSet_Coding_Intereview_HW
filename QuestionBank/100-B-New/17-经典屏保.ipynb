{
 "cells": [
  {
   "cell_type": "markdown",
   "metadata": {},
   "source": [
    "# Topic\n",
    "17-经典屏保  \n",
    "ClassicScreensaver-HUAWEI-CodingInterview"
   ]
  },
  {
   "cell_type": "markdown",
   "metadata": {},
   "source": [
    "# Problem Description\n",
    "![https://blog.csdn.net/qfc_128220/article/details/130768798](https://res.cloudinary.com/dnyeldv5r/image/upload/v1690349685/2023-07-26_133407_dbdvgd.png)"
   ]
  },
  {
   "cell_type": "markdown",
   "metadata": {},
   "source": [
    "# Key Point & Tag\n",
    "Difficulty Assessment: Easy  \n",
    "Math Coordinate"
   ]
  },
  {
   "cell_type": "markdown",
   "metadata": {},
   "source": [
    "# Code"
   ]
  },
  {
   "cell_type": "code",
   "execution_count": 7,
   "metadata": {},
   "outputs": [
    {
     "name": "stdout",
     "output_type": "stream",
     "text": [
      "510 570\n"
     ]
    }
   ],
   "source": [
    "class ClassicScreensaver:\n",
    "\t# Input Part\n",
    "\tdef GetInput(self)->None:\n",
    "\t\t'''\n",
    "\t\tGet Input Data and Preprocess Data\n",
    "\t\t'''\n",
    "\t\tself.X, self.Y, self.H = map(int, input().strip().split(' ')) # initial (x, y), time\n",
    "\t\n",
    "\t# Algorithm Part\n",
    "\tdef Solution(self)->int:\n",
    "\t\t'''\n",
    "\t\tAlgorithm Solving Problem\n",
    "\t\t'''\n",
    "\t\t# Get data from self\n",
    "\t\tX0, Y0, H = self.X, self.Y, self.H # (X, Y) is the initial left-top-coordinate of small REC\n",
    "\t\tx_ran, y_ran = 800 - 50, 600 - 25\n",
    "\n",
    "\t\tres = [X0, Y0] # final coordinate \n",
    "\t\tv_x, v_y = 1, 1 # velocity of each dimension\n",
    "\t\tdx_total, dy_total = X0 + H * v_x, Y0 + H * v_y\n",
    "\n",
    "\t\t# calc the final coordinate in X-dim\n",
    "\t\tif (dx_total // x_ran) % 2 == 0: # 2n times collide\n",
    "\t\t\tres[0] = dx_total % x_ran\n",
    "\t\telse: # (2n+1) times collide\n",
    "\t\t\tres[0] = x_ran - (dx_total % x_ran)\n",
    "\n",
    "\t\t# calc the final coordinate in Y-dim\n",
    "\t\tif (dy_total // y_ran) % 2 == 0: # 2n times collide\n",
    "\t\t\tres[1] = dy_total % y_ran\n",
    "\t\telse: # (2n+1) times collide\n",
    "\t\t\tres[1] = y_ran - (dy_total % y_ran)\n",
    "\n",
    "\t\treturn ' '.join([str(v) for v in res]) # return mustn't be LIST\n",
    "\n",
    "# Execution Part\n",
    "if __name__ == \"__main__\":\n",
    "\t# Instantiate\n",
    "\tobj = ClassicScreensaver()\n",
    "\t# Get Input\n",
    "\tobj.GetInput()\n",
    "\t# Get Result\n",
    "\tprint(obj.Solution())\n"
   ]
  },
  {
   "cell_type": "markdown",
   "metadata": {},
   "source": [
    "# Test Cases\n",
    "```\n",
    "0 0 10\n",
    "500 570 10\n",
    "```"
   ]
  }
 ],
 "metadata": {
  "kernelspec": {
   "display_name": "Python 3",
   "language": "python",
   "name": "python3"
  },
  "language_info": {
   "codemirror_mode": {
    "name": "ipython",
    "version": 3
   },
   "file_extension": ".py",
   "mimetype": "text/x-python",
   "name": "python",
   "nbconvert_exporter": "python",
   "pygments_lexer": "ipython3",
   "version": "3.11.4"
  },
  "orig_nbformat": 4
 },
 "nbformat": 4,
 "nbformat_minor": 2
}
