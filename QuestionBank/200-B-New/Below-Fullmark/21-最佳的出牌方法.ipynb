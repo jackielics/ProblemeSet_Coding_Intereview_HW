{
 "cells": [
  {
   "cell_type": "markdown",
   "metadata": {},
   "source": [
    "# Topic\n",
    "21-最佳的出牌方法  \n",
    "BestPlay-HUAWEI-CodingInterview"
   ]
  },
  {
   "cell_type": "markdown",
   "metadata": {},
   "source": [
    "# Problem Description\n",
    "![https://blog.csdn.net/qfc_128220/article/details/130775353](https://res.cloudinary.com/dnyeldv5r/image/upload/v1691305806/2023-08-06_150942_h6xfim.png)"
   ]
  },
  {
   "cell_type": "markdown",
   "metadata": {},
   "source": [
    "# Key Point & Tag\n",
    "Difficulty Assessment: Medium  \n",
    "Tag:   \n",
    "Similar Problem: []()  "
   ]
  },
  {
   "cell_type": "markdown",
   "metadata": {},
   "source": [
    "# Code"
   ]
  },
  {
   "cell_type": "code",
   "execution_count": null,
   "metadata": {},
   "outputs": [],
   "source": [
    "class BestPlay:\n",
    "\t# Input Part\n",
    "\tdef GetInput(self)->None:\n",
    "\t\t'''\n",
    "\t\tGet Input Data and Preprocess Data\n",
    "\t\t'''\n",
    "\t\tarr = list(input().strip())\n",
    "\t\tself.dic = {} # {char:freq}\n",
    "\t\tfor c in arr:\n",
    "\t\t\tself.dic = self.dic.get(c, 0) + 1\n",
    "\n",
    "\t# Algorithm Part\n",
    "\tdef Solution(self)->int:\n",
    "\t\t'''\n",
    "\t\tAlgorithm Solving Problem\n",
    "\t\t'''\n",
    "\t\t# Get data from self\n",
    "\t\tdic = self.dic\n",
    "\t\t\n",
    "\t\tres = 0\n",
    "\t\t\n",
    "\t\treturn res \n",
    "\n",
    "# Execution Part\n",
    "if __name__ == \"__main__\":\n",
    "\t# Instantiate\n",
    "\tobj = BestPlay()\n",
    "\t# Get Input\n",
    "\tobj.GetInput()\n",
    "\t# Get Result\n",
    "\tprint(obj.Solution())\n"
   ]
  },
  {
   "cell_type": "code",
   "execution_count": 5,
   "metadata": {},
   "outputs": [
    {
     "data": {
      "text/plain": [
       "{'3': 2, '4': 2, '5': 1, '6': 1, '7': 2}"
      ]
     },
     "execution_count": 5,
     "metadata": {},
     "output_type": "execute_result"
    }
   ],
   "source": [
    "arr = list(input().strip())\n",
    "\n",
    "dic = {} # {char:freq}\n",
    "for c in arr:\n",
    "\tdic[c] = dic.get(c, 0) + 1\n",
    "\n",
    "dic"
   ]
  },
  {
   "cell_type": "markdown",
   "metadata": {},
   "source": [
    "# Test Cases\n",
    "```\n",
    "33445677\n",
    "```"
   ]
  }
 ],
 "metadata": {
  "kernelspec": {
   "display_name": "Python 3",
   "language": "python",
   "name": "python3"
  },
  "language_info": {
   "codemirror_mode": {
    "name": "ipython",
    "version": 3
   },
   "file_extension": ".py",
   "mimetype": "text/x-python",
   "name": "python",
   "nbconvert_exporter": "python",
   "pygments_lexer": "ipython3",
   "version": "3.11.4"
  },
  "orig_nbformat": 4
 },
 "nbformat": 4,
 "nbformat_minor": 2
}
