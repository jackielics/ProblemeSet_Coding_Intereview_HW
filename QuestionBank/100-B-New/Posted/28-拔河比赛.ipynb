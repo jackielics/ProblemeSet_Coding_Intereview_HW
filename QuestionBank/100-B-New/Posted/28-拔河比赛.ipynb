{
 "cells": [
  {
   "cell_type": "markdown",
   "metadata": {},
   "source": [
    "# Topic\n",
    "28-拔河比赛  \n",
    "TugWar-HUAWEI-CodingInterview"
   ]
  },
  {
   "cell_type": "markdown",
   "metadata": {},
   "source": [
    "# Problem Description\n",
    "![https://fcqian.blog.csdn.net/article/details/130770342](https://res.cloudinary.com/dnyeldv5r/image/upload/v1690868004/2023-08-01_133259_f2ookn.png)"
   ]
  },
  {
   "cell_type": "markdown",
   "metadata": {},
   "source": [
    "# Key Point & Tag\n",
    "Difficulty Assessment: Easy  "
   ]
  },
  {
   "cell_type": "markdown",
   "metadata": {},
   "source": [
    "# Code"
   ]
  },
  {
   "cell_type": "code",
   "execution_count": 8,
   "metadata": {},
   "outputs": [
    {
     "name": "stdout",
     "output_type": "stream",
     "text": [
      "186 70\n",
      "185 70\n",
      "184 70\n",
      "183 70\n",
      "182 70\n",
      "181 70\n",
      "180 75\n",
      "180 74\n",
      "180 73\n",
      "180 72\n"
     ]
    }
   ],
   "source": [
    "class TugWar:\n",
    "\t# Input Part\n",
    "\tdef GetInput(self)->None:\n",
    "\t\t'''\n",
    "\t\tGet Input Data and Preprocess Data\n",
    "\t\t'''\n",
    "\t\tself.arr = []\n",
    "\t\twhile (input_item := input().strip()) != '':\n",
    "\t\t\tself.arr.append(list(map(int, input_item.split(' '))))\n",
    "\n",
    "\t# Algorithm Part\n",
    "\tdef Solution(self)->int:\n",
    "\t\t'''\n",
    "\t\tAlgorithm Solving Problem\n",
    "\t\t'''\n",
    "\t\t# Get data from self\n",
    "\n",
    "\t\treturn sorted(self.arr, key = lambda x: (x[0], x[1]), reverse = True)[:10]\n",
    "\t\t# return ' '.join([str(s) for s in res]) # return mustn't be LIST\n",
    "\n",
    "# Execution Part\n",
    "if __name__ == \"__main__\":\n",
    "\t# Instantiate\n",
    "\tobj = TugWar()\n",
    "\t# Get Input\n",
    "\tobj.GetInput()\n",
    "\t# Get Result\n",
    "\tres = obj.Solution()\n",
    "\tfor x in res:\n",
    "\t\tprint(' '.join([str(s) for s in x]))\n"
   ]
  },
  {
   "cell_type": "markdown",
   "metadata": {},
   "source": [
    "# Test Cases\n",
    "```\n",
    "181 70\n",
    "182 70\n",
    "183 70\n",
    "184 70\n",
    "185 70\n",
    "186 70\n",
    "180 71\n",
    "180 72\n",
    "180 73\n",
    "180 74\n",
    "180 75\n",
    "```"
   ]
  }
 ],
 "metadata": {
  "kernelspec": {
   "display_name": "Python 3",
   "language": "python",
   "name": "python3"
  },
  "language_info": {
   "codemirror_mode": {
    "name": "ipython",
    "version": 3
   },
   "file_extension": ".py",
   "mimetype": "text/x-python",
   "name": "python",
   "nbconvert_exporter": "python",
   "pygments_lexer": "ipython3",
   "version": "3.11.4"
  },
  "orig_nbformat": 4
 },
 "nbformat": 4,
 "nbformat_minor": 2
}
