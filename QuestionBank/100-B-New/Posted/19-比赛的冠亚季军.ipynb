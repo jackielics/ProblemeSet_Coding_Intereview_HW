{
 "cells": [
  {
   "cell_type": "markdown",
   "metadata": {},
   "source": [
    "# Topic\n",
    "19-比赛的冠亚季军  \n",
    "Top3InContest-HUAWEI-CodingInterview"
   ]
  },
  {
   "cell_type": "markdown",
   "metadata": {},
   "source": [
    "# Problem Description\n",
    "![https://blog.csdn.net/qfc_128220/article/details/130769633](https://res.cloudinary.com/dnyeldv5r/image/upload/v1690367217/2023-07-26_182625_xvutke.png)"
   ]
  },
  {
   "cell_type": "markdown",
   "metadata": {},
   "source": [
    "# Key Point & Tag\n",
    "Difficulty Assessment: Easy  "
   ]
  },
  {
   "cell_type": "markdown",
   "metadata": {},
   "source": [
    "# Approach\n",
    "Build 'class Player' and 'class Class'"
   ]
  },
  {
   "cell_type": "markdown",
   "metadata": {},
   "source": [
    "# Code"
   ]
  },
  {
   "cell_type": "code",
   "execution_count": 7,
   "metadata": {},
   "outputs": [
    {
     "name": "stdout",
     "output_type": "stream",
     "text": [
      "2 1 0\n"
     ]
    }
   ],
   "source": [
    "class Player:\n",
    "\t# Each Player's Info\n",
    "\tdef __init__(self, pid, pwr):\n",
    "\t\tself.pid = pid # player id\n",
    "\t\tself.pwr = pwr # power score\n",
    "\n",
    "class Class:\n",
    "\t# Class of Contest\n",
    "\tdef __init__(self, que):\n",
    "\t\tself.que = que # [Player1,...]\n",
    "\t\tself.next = None # contest in next inferior level\n",
    "\n",
    "class Top3InContest:\n",
    "\t# Input Part\n",
    "\tdef GetInput(self)->None:\n",
    "\t\t'''\n",
    "\t\tGet Input Data and Preprocess Data\n",
    "\t\t'''\n",
    "\t\tplayers = list(map(int, input().strip().split(' ')))\n",
    "\t\t# build player NODES\n",
    "\t\tfor i in range(len(players)):\n",
    "\t\t\tplayer = Player(i, players[i])\n",
    "\t\t\tplayers[i] = player\n",
    "\t\tself.players = players # index is PID, value is PWR\n",
    "\n",
    "\t# Algorithm Part\n",
    "\tdef Solution(self)->int:\n",
    "\t\t'''\n",
    "\t\tAlgorithm Solving Problem\n",
    "\t\t'''\n",
    "\t\t# Get data from self\n",
    "\t\thead = Class(self.players) # head points to the top players at some time \n",
    "\t\tres = [] # [1st_id, 2nd_id, 3rd_id]\n",
    "\n",
    "\t\twhile len(head.que) > 1: # Only Champion hasn't show up\n",
    "\t\t\t# start a series of contests\n",
    "\t\t\tque = head.que\n",
    "\t\t\twinners, losers = [], []\n",
    "\t\t\tfor i in range(0, len(que), 2): # step is 2\n",
    "\t\t\t\tif (i + 1) <= len(que) - 1: #  Rival Exist\n",
    "\t\t\t\t\tp1, p2 = self.players[que[i].pid], self.players[que[i + 1].pid] # pointers\n",
    "\t\t\t\t\twinners.append(p1 if p1.pwr >= p2.pwr else p2)\n",
    "\t\t\t\t\tlosers.append(p1 if p1.pwr < p2.pwr else p2)\n",
    "\t\t\t\telse: # Alone\n",
    "\t\t\t\t\twinners.append(self.players[que[i].pid])\n",
    "\t\t\t# 1st Class(head.que) -> 2nd Class(head.next.que) -> 3rd Class ->...\n",
    "\t\t\thead.que = winners # update head\n",
    "\t\t\ttmp = head.next # build head.next\n",
    "\t\t\thead.next = Class(losers)\n",
    "\t\t\thead.next.next = tmp\n",
    "\n",
    "\t\t# get top three players to 'res'\n",
    "\t\tcur = head\n",
    "\t\tfor i in range(3):\n",
    "\t\t\tif len(cur.que) == 1: # only player\n",
    "\t\t\t\tres.append(cur.que[0].pid)\n",
    "\t\t\telse:\n",
    "\t\t\t\tres.append(cur.que[0].pid \n",
    "\t\t\t\t\t\t\tif cur.que[0].pwr >= cur.que[1].pwr \n",
    "\t\t\t\t\t\t\telse cur.que[1].pid)\n",
    "\t\t\tcur = cur.next\n",
    "\n",
    "\t\treturn ' '.join([str(s) for s in res]) # return mustn't be LIST\n",
    "\n",
    "# Execution Part\n",
    "if __name__ == \"__main__\":\n",
    "\t# Instantiate\n",
    "\tobj = Top3InContest()\n",
    "\t# Get Input\n",
    "\tobj.GetInput()\n",
    "\t# Get Result\n",
    "\tprint(obj.Solution())\n"
   ]
  },
  {
   "cell_type": "markdown",
   "metadata": {},
   "source": [
    "# Test Cases\n",
    "```\n",
    "2 3 4 5\n",
    "1 2 3 4 5\n",
    "0 1 2 3 4 5 6 7 8\n",
    "```"
   ]
  }
 ],
 "metadata": {
  "kernelspec": {
   "display_name": "Python 3",
   "language": "python",
   "name": "python3"
  },
  "language_info": {
   "codemirror_mode": {
    "name": "ipython",
    "version": 3
   },
   "file_extension": ".py",
   "mimetype": "text/x-python",
   "name": "python",
   "nbconvert_exporter": "python",
   "pygments_lexer": "ipython3",
   "version": "3.11.4"
  },
  "orig_nbformat": 4
 },
 "nbformat": 4,
 "nbformat_minor": 2
}
