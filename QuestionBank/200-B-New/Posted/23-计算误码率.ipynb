{
 "cells": [
  {
   "cell_type": "markdown",
   "metadata": {},
   "source": [
    "# Topic\n",
    "23-计算误码率  \n",
    "BER-HUAWEI-CodingInterview"
   ]
  },
  {
   "cell_type": "markdown",
   "metadata": {},
   "source": [
    "# Problem Description\n",
    "![https://fcqian.blog.csdn.net/article/details/130774905?spm=1001.2014.3001.5502](https://res.cloudinary.com/dnyeldv5r/image/upload/v1691318062/2023-08-06_183357_gyyoh2.png)"
   ]
  },
  {
   "cell_type": "markdown",
   "metadata": {},
   "source": [
    "# Key Point & Tag\n",
    "|  Key   | Value  |\n",
    "|  :----:  | :----:  |\n",
    "| Difficulty Assessment  | Medium⭐⭐ |\n",
    "| Tag  | RE  |\n",
    "| Similar Problem | []()|"
   ]
  },
  {
   "cell_type": "markdown",
   "metadata": {},
   "source": [
    "# Code"
   ]
  },
  {
   "cell_type": "markdown",
   "metadata": {},
   "source": [
    "## RE"
   ]
  },
  {
   "cell_type": "code",
   "execution_count": 21,
   "metadata": {},
   "outputs": [
    {
     "name": "stdout",
     "output_type": "stream",
     "text": [
      "2/32\n"
     ]
    }
   ],
   "source": [
    "import re\n",
    "class BER:\n",
    "\t# Input Part\n",
    "\tdef GetInput(self)->None:\n",
    "\t\t'''\n",
    "\t\tGet Input Data and Preprocess Data\n",
    "\t\t'''\n",
    "\t\ts1 = input().strip()\n",
    "\t\ts2 = input().strip()\n",
    "\t\tCnt1, Ch1 = re.findall(r'\\d+', s1), re.findall(r'[A-Za-z]', s1)\n",
    "\t\tCnt2, Ch2 = re.findall(r'\\d+', s2), re.findall(r'[A-Za-z]', s2)\n",
    "\t\tself.N = 0 # Total Length of Uncompressed Str\n",
    "\n",
    "\t\t# Expected (Send) & Actual (Recv)\n",
    "\t\tself.SND, self.RCV = [], [] # [['A', 3],..] # Send and Receive\n",
    "\t\tfor i in range(len(Cnt1)):\n",
    "\t\t\tself.SND.append({'C': Ch1[i], 'N': int(Cnt1[i])})\n",
    "\t\t\tself.N += int(Cnt1[i])\n",
    "\n",
    "\t\tfor i in range(len(Cnt2)):\n",
    "\t\t\tself.RCV.append({'C': Ch2[i], 'N': int(Cnt2[i])})\n",
    "\n",
    "\t# Algorithm Part\n",
    "\tdef Solution(self)->int:\n",
    "\t\t'''\n",
    "\t\tAlgorithm Solving Problem\n",
    "\t\t'''\n",
    "\t\t# Get data from self\n",
    "\t\tSND, RCV = self.SND, self.RCV\n",
    "\t\tN = self.N\n",
    "\t\tcpr1 = 0 # current index of uncompressed str in SND\n",
    "\t\tcpr2 = 0\n",
    "\n",
    "\t\tERR = 0 # Cnt of Errors\n",
    "\t\tCPL = True # Complete Comparison in RCV or Not\n",
    "\n",
    "\t\tfor cpr1 in range(0, len(SND)):\n",
    "\t\t\t# Total Amount to be Compared in SND\n",
    "\t\t\tsnd, TOT = SND[cpr1]['C'], SND[cpr1]['N']\n",
    "\t\t\t\n",
    "\t\t\t# Iterate RCV till AMT == TOT\n",
    "\t\t\twhile TOT > 0: # Actual < Expected\n",
    "\t\t\t\trcv = RCV[cpr2]['C']\n",
    "\t\t\t\tAMT = RCV[cpr2]['N'] if CPL else RMN\n",
    "\t\t\t\t# If TOT >= AMT, take full advantage of TOT\n",
    "\t\t\t\tif TOT >= AMT: \n",
    "\t\t\t\t\tTOT -= AMT # Subtract to TOT\n",
    "\t\t\t\t\tERR += AMT * (rcv != snd) # Add to ERR if Inequal\n",
    "\t\t\t\t\tcpr2 += 1 # move cpr2 to next\n",
    "\t\t\t\t\tCPL = True # Complete AMT\n",
    "\t\t\t\t# If TOT < AMT, take full advantage of TOT\n",
    "\t\t\t\telse: \n",
    "\t\t\t\t\tRMN = AMT - TOT # Record Remainder of AMT\n",
    "\t\t\t\t\tERR += TOT * (rcv != snd) # update ERR\n",
    "\t\t\t\t\tTOT = 0 # Subtract TOT to Zero\n",
    "\t\t\t\t\tCPL = False # Didn't Complete AMT\n",
    "\n",
    "\t\treturn f'{ERR}/{N}'\n",
    "\n",
    "# Execution Part\n",
    "if __name__ == \"__main__\":\n",
    "\t# Instantiate\n",
    "\tobj = BER()\n",
    "\t# Get Input\n",
    "\tobj.GetInput()\n",
    "\t# Get Result\n",
    "\tprint(obj.Solution())\n"
   ]
  },
  {
   "cell_type": "markdown",
   "metadata": {},
   "source": [
    "## LIST pop and insert without RE"
   ]
  },
  {
   "cell_type": "code",
   "execution_count": 5,
   "metadata": {},
   "outputs": [
    {
     "name": "stdout",
     "output_type": "stream",
     "text": [
      "1/6\n"
     ]
    }
   ],
   "source": [
    "class BER:\n",
    "\t# Input Part\n",
    "\tdef GetInput(self)->None:\n",
    "\t\t'''\n",
    "\t\tGet Input Data and Preprocess Data\n",
    "\t\t'''\n",
    "\t\ts1 = input().strip()\n",
    "\t\ts2 = input().strip()\n",
    "\t\t# Expected (Send) & Actual (Recv)\n",
    "\t\tself.SND, self.RCV = [], [] # [['A', 3],..] # Send and Receive\n",
    "\t\t\n",
    "\t\tnum = []\n",
    "\t\tfor i in range(len(s1)):\n",
    "\t\t\tc = s1[i]\n",
    "\t\t\tif c.isdigit():\n",
    "\t\t\t\tnum.append(c)\n",
    "\t\t\telse:\n",
    "\t\t\t\tself.SND.append({'C': int(\"\".join(num)), 'N': c})\n",
    "\t\t\t\tnum.clear()\n",
    "\n",
    "\t\tnum = []\n",
    "\t\tfor i in range(len(s2)):\n",
    "\t\t\tc = s2[i]\n",
    "\t\t\tif c.isdigit():\n",
    "\t\t\t\tnum.append(c)\n",
    "\t\t\telse:\n",
    "\t\t\t\tself.RCV.append({'C': int(\"\".join(num)), 'N': c})\n",
    "\t\t\t\tnum.clear()\n",
    "\n",
    "\t# Algorithm Part\n",
    "\tdef Solution(self)->int:\n",
    "\t\t'''\n",
    "\t\tAlgorithm Solving Problem\n",
    "\t\t'''\n",
    "\t\t# Get data from self\n",
    "\t\tSND, RCV = self.SND, self.RCV\n",
    "\t\t\n",
    "\t\tdiff = 0\n",
    "\t\tsame = 0\n",
    "\n",
    "\t\twhile len(SND) > 0:\n",
    "\t\t\tnum1, c1 = SND.pop(0).values() # {'C':, 'N':}\n",
    "\t\t\tnum2, c2 = RCV.pop(0).values()\n",
    "\t\n",
    "\t\t\tcompareCount = min(num1, num2)\n",
    "\t\n",
    "\t\t\tif c1 != c2:\n",
    "\t\t\t\tdiff += compareCount\n",
    "\t\t\telse:\n",
    "\t\t\t\tsame += compareCount\n",
    "\t\n",
    "\t\t\tif num1 > num2:\n",
    "\t\t\t\tSND.insert(0, {'C': num1 - num2, 'N':c1})\n",
    "\t\t\telif num1 < num2:\n",
    "\t\t\t\tRCV.insert(0, {'C': num2 - num1, 'N':c2})\n",
    "\t\n",
    "\t\treturn f\"{diff}/{diff + same}\"\n",
    "\n",
    "# Execution Part\n",
    "if __name__ == \"__main__\":\n",
    "\t# Instantiate\n",
    "\tobj = BER()\n",
    "\t# Get Input\n",
    "\tobj.GetInput()\n",
    "\t# Get Result\n",
    "\tprint(obj.Solution())\n"
   ]
  },
  {
   "cell_type": "markdown",
   "metadata": {},
   "source": [
    "# Test Cases\n",
    "```\n",
    "3A3B\n",
    "2A4B\n",
    "\n",
    "5Y5Z\n",
    "5Y5Z\n",
    "\n",
    "4Y5Z\n",
    "9Y\n",
    "```"
   ]
  }
 ],
 "metadata": {
  "kernelspec": {
   "display_name": "Python 3",
   "language": "python",
   "name": "python3"
  },
  "language_info": {
   "codemirror_mode": {
    "name": "ipython",
    "version": 3
   },
   "file_extension": ".py",
   "mimetype": "text/x-python",
   "name": "python",
   "nbconvert_exporter": "python",
   "pygments_lexer": "ipython3",
   "version": "3.11.4"
  },
  "orig_nbformat": 4
 },
 "nbformat": 4,
 "nbformat_minor": 2
}
