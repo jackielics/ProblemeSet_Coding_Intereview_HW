{
 "cells": [
  {
   "cell_type": "markdown",
   "metadata": {},
   "source": [
    "# Topic\n",
    "15-报文重排序  \n",
    "MsgReSort-HUAWEI-CodingInterview"
   ]
  },
  {
   "cell_type": "markdown",
   "metadata": {},
   "source": [
    "# Problem Description\n",
    "![]()"
   ]
  },
  {
   "cell_type": "markdown",
   "metadata": {},
   "source": [
    "# Key Point & Tag\n",
    "Difficulty Assessment: Easy"
   ]
  },
  {
   "cell_type": "markdown",
   "metadata": {},
   "source": [
    "# Code"
   ]
  },
  {
   "cell_type": "code",
   "execution_count": 6,
   "metadata": {},
   "outputs": [
    {
     "name": "stdout",
     "output_type": "stream",
     "text": [
      "Exchanging all kinds of precious gifts and things\n"
     ]
    }
   ],
   "source": [
    "import re\n",
    "\n",
    "class MsgReSort:\n",
    "\t# Input Part\n",
    "\tdef GetInput(self)->None:\n",
    "\t\t'''\n",
    "\t\tGet Input Data and Preprocess Data\n",
    "\t\t'''\n",
    "\t\tself.n = int(input()) # amount\n",
    "\t\tarr = list(map(str, input().strip().split(' ')))\n",
    "\t\t\n",
    "\t\treg = re.compile(r\"([a-zA-Z]+)(\\d+)\")\n",
    "\n",
    "\t\tself.dic = {} # {no:str,}\n",
    "\t\tfor s in arr:\n",
    "\t\t\tmatcher = reg.search(s)\n",
    "\t\t\tif matcher:\n",
    "\t\t\t\tself.dic[int(matcher.group(2))] = matcher.group(1)\n",
    "\t\t\n",
    "\n",
    "\t# Algorithm Part\n",
    "\tdef Solution(self)->int:\n",
    "\t\t'''\n",
    "\t\tAlgorithm Solving Problem\n",
    "\t\t'''\n",
    "\t\t# Get data from self\n",
    "\t\tn = self.n\n",
    "\t\tdic = self.dic\n",
    "\n",
    "\t\tres = list(map(lambda x: x[1], sorted(dic.items()))) # consider uncontinuous situation\n",
    "\n",
    "\t\treturn ' '.join(res) # return mustn't be LIST\n",
    "\n",
    "# Execution Part\n",
    "if __name__ == \"__main__\":\n",
    "\t# Instantiate\n",
    "\tobj = MsgReSort()\n",
    "\t# Get Input\n",
    "\tobj.GetInput()\n",
    "\t# Get Result\n",
    "\tprint(obj.Solution())\n"
   ]
  },
  {
   "cell_type": "code",
   "execution_count": 10,
   "metadata": {},
   "outputs": [
    {
     "data": {
      "text/plain": [
       "['like', 'a', 'rolling', 'stone']"
      ]
     },
     "execution_count": 10,
     "metadata": {},
     "output_type": "execute_result"
    }
   ],
   "source": [
    "list(map(lambda x: x[1], sorted(dic.items())))"
   ]
  },
  {
   "cell_type": "markdown",
   "metadata": {},
   "source": [
    "# Test Cases\n",
    "```\n",
    "4\n",
    "rolling3 stone4 like1 a2\n",
    "\n",
    "8\n",
    "gifts6 and7 Exchanging1 all2 precious5 things8 kinds3 of4\n",
    "```"
   ]
  }
 ],
 "metadata": {
  "kernelspec": {
   "display_name": "Python 3",
   "language": "python",
   "name": "python3"
  },
  "language_info": {
   "codemirror_mode": {
    "name": "ipython",
    "version": 3
   },
   "file_extension": ".py",
   "mimetype": "text/x-python",
   "name": "python",
   "nbconvert_exporter": "python",
   "pygments_lexer": "ipython3",
   "version": "3.11.4"
  },
  "orig_nbformat": 4
 },
 "nbformat": 4,
 "nbformat_minor": 2
}
