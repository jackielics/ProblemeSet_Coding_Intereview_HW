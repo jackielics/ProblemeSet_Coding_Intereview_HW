{
 "cells": [
  {
   "cell_type": "markdown",
   "metadata": {},
   "source": [
    "# Topic\n",
    "3-宜居星球改造计划  \n",
    "HabitablePlanet-HUAWEI-CodingInterview"
   ]
  },
  {
   "cell_type": "markdown",
   "metadata": {},
   "source": [
    "# Problem Description\n",
    "![https://blog.csdn.net/qfc_128220/article/details/130774524](https://res.cloudinary.com/dnyeldv5r/image/upload/v1690618518/2023-07-29_161431_nw9bf2.png)"
   ]
  },
  {
   "cell_type": "markdown",
   "metadata": {},
   "source": [
    "# Key Point & Tag\n",
    "\n",
    "|  Key   | Value  |\n",
    "|  :----:  | :----:  |\n",
    "| Difficulty Assessment  | Medium⭐⭐ |\n",
    "| Tag  | BFS, deepcopy, global and local var |\n",
    "| Similar Problem | []()|"
   ]
  },
  {
   "cell_type": "markdown",
   "metadata": {},
   "source": [
    "# Approach\n",
    "MultiSource BFS"
   ]
  },
  {
   "cell_type": "markdown",
   "metadata": {},
   "source": [
    "# Code"
   ]
  },
  {
   "cell_type": "code",
   "execution_count": 37,
   "metadata": {},
   "outputs": [
    {
     "name": "stdout",
     "output_type": "stream",
     "text": [
      "-1\n"
     ]
    }
   ],
   "source": [
    "import copy\n",
    "\n",
    "class HabitablePlanet:\n",
    "\t# Input Part\n",
    "\tdef GetInput(self)->None:\n",
    "\t\t'''\n",
    "\t\tGet Input Data and Preprocess Data\n",
    "\t\t'''\n",
    "\t\tself.mat = []\n",
    "\t\t# amount of yes, amount of na, total amount, R:amount of rows, C:amount of cols\n",
    "\t\tself.yes = self.na = self.N = self.R = self.C = 0\n",
    "\t\twhile (input_data := input()):\n",
    "\t\t\tself.mat.append(list(map(str, (tmp := input_data.strip().split(' ')))))\n",
    "\t\t\tself.yes += tmp.count('YES')\n",
    "\t\t\tself.na += tmp.count('NA')\n",
    "\t\t\tself.N += len(tmp)\n",
    "\t\t\tself.R += 1\n",
    "\t\t\tself.C = len(tmp)\n",
    "\n",
    "\t# Algorithm Part\n",
    "\tdef Solution(self)->int:\n",
    "\t\t'''\n",
    "\t\tAlgorithm Solving Problem\n",
    "\t\t'''\n",
    "\t\t# Get data from self\n",
    "\t\tmat = self.mat\n",
    "\t\tglobal yes # declare 'yes' global var instead of LocalVar in Solution\n",
    "\t\tyes, na, N = self.yes, self.na, self.N\n",
    "\t\tR, C = self.R, self.C\n",
    "\n",
    "\t\tif yes == 0: # can't spread\n",
    "\t\t\treturn -1\n",
    "\t\telif yes == N: # no need to spread\n",
    "\t\t\treturn 0\n",
    "\n",
    "\t\tres = 0 # amount of round of spreading\n",
    "\n",
    "\t\tdef spread(i, j): # spread from (x, y)\n",
    "\t\t\tglobal yes # declare 'yes' as global \n",
    "\t\t\tif i > 0 and mat[i - 1][j] == 'NO':\n",
    "\t\t\t\tmat[i - 1][j] = 'YES'\n",
    "\t\t\t\tyes += 1\n",
    "\t\t\tif j > 0 and mat[i][j - 1] == 'NO':\n",
    "\t\t\t\tmat[i][j - 1] = 'YES'\n",
    "\t\t\t\tyes += 1\n",
    "\t\t\tif i < R - 1 and mat[i + 1][j] == 'NO':\n",
    "\t\t\t\tmat[i + 1][j] = 'YES'\n",
    "\t\t\t\tyes += 1\n",
    "\t\t\tif j < C - 1 and mat[i][j + 1] == 'NO':\n",
    "\t\t\t\tmat[i][j + 1] = 'YES'\n",
    "\t\t\t\tyes += 1\n",
    "\n",
    "\t\twhile True:\n",
    "\t\t\tyes_i = yes # yes before spread round\n",
    "\t\t\tres += 1\n",
    "\t\t\tmat_i = copy.deepcopy(mat) # mat before spread round\n",
    "\t\t\t# start a round of spreading\n",
    "\t\t\tfor i in range(R):\n",
    "\t\t\t\tfor j in range(C):\n",
    "\t\t\t\t\tif mat_i[i][j] == 'YES': # a place to spread\n",
    "\t\t\t\t\t\tspread(i, j)\n",
    "\n",
    "\t\t\tif yes_i == yes: # spread stopped\n",
    "\t\t\t\treturn -1 if yes + na < N else res - 1\n",
    "\n",
    "# Execution Part\n",
    "if __name__ == \"__main__\":\n",
    "\t# Instantiate\n",
    "\tobj = HabitablePlanet()\n",
    "\t# Get Input\n",
    "\tobj.GetInput()\n",
    "\t# Get Result\n",
    "\tprint(obj.Solution())\n"
   ]
  },
  {
   "cell_type": "markdown",
   "metadata": {},
   "source": [
    "# Test Cases\n",
    "```\n",
    "YES YES NO\n",
    "NO NO NO\n",
    "YES NO NO\n",
    "\n",
    "YES NO NO NO\n",
    "NO NO NO NO\n",
    "NO NO NO NO\n",
    "NO NO NO NO\n",
    "\n",
    "NO NA\n",
    "\n",
    "YES NO NO YES\n",
    "NO NO YES NO\n",
    "NO YES NA NA\n",
    "YES NO NA NO\n",
    "```"
   ]
  }
 ],
 "metadata": {
  "kernelspec": {
   "display_name": "Python 3",
   "language": "python",
   "name": "python3"
  },
  "language_info": {
   "codemirror_mode": {
    "name": "ipython",
    "version": 3
   },
   "file_extension": ".py",
   "mimetype": "text/x-python",
   "name": "python",
   "nbconvert_exporter": "python",
   "pygments_lexer": "ipython3",
   "version": "3.11.4"
  },
  "orig_nbformat": 4
 },
 "nbformat": 4,
 "nbformat_minor": 2
}
