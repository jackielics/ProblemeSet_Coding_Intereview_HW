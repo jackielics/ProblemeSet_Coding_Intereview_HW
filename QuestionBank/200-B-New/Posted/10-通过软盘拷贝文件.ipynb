{
 "cells": [
  {
   "cell_type": "markdown",
   "metadata": {},
   "source": [
    "# Topic\n",
    "10-通过软盘拷贝文件  \n",
    "CopyFile-HUAWEI-CodingInterview"
   ]
  },
  {
   "cell_type": "markdown",
   "metadata": {},
   "source": [
    "# Problem Description\n",
    "![https://blog.csdn.net/qfc_128220/article/details/130765207?spm=1001.2014.3001.5501](https://res.cloudinary.com/dnyeldv5r/image/upload/v1690963342/2023-08-02_160142_fsketr.png)"
   ]
  },
  {
   "cell_type": "markdown",
   "metadata": {},
   "source": [
    "# Key Point & Tag\n",
    "|  Key   | Value  |\n",
    "|  :----:  | :----:  |\n",
    "| Difficulty Assessment  | Medium⭐⭐ |\n",
    "| Tag  | 2-DP  |\n",
    "| Similar Problem | []()|"
   ]
  },
  {
   "cell_type": "markdown",
   "metadata": {},
   "source": [
    "# Code"
   ]
  },
  {
   "cell_type": "code",
   "execution_count": 9,
   "metadata": {},
   "outputs": [
    {
     "name": "stdout",
     "output_type": "stream",
     "text": [
      "1400000\n"
     ]
    }
   ],
   "source": [
    "import math\n",
    "\n",
    "class CopyFile:\n",
    "\t# Input Part\n",
    "\tdef GetInput(self)->None:\n",
    "\t\t'''\n",
    "\t\tGet Input Data and Preprocess Data\n",
    "\t\t'''\n",
    "\t\tself.N = int(input()) \n",
    "\t\t# Size and Block\n",
    "\t\tself.dic = [dict(zip(['SZ', 'BLK'], \n",
    "\t\t\t\t\t\t[size := int(input().strip()), math.ceil(size / 512)])\n",
    "\t\t\t\t\t\t) for _ in range(self.N)]\n",
    "\n",
    "\t# Algorithm Part\n",
    "\tdef Solution(self)->int:\n",
    "\t\t'''\n",
    "\t\tAlgorithm Solving Problem\n",
    "\t\t'''\n",
    "\t\t# Get data from self\n",
    "\t\tdic = self.dic\n",
    "\t\tdic.insert(0, {'SZ': 0, 'BLK': 0})\n",
    "\n",
    "\t\tMAX_BLK = 2880\n",
    "\t\tDP = [[0] * len(dic) for _ in range(MAX_BLK + 1)]\n",
    "\n",
    "\t\tfor cap in range(MAX_BLK + 1): # row: max capacity(blk)\n",
    "\t\t\tfor idx in range(len(dic)): # col: index of dic\n",
    "\t\t\t\tif idx == 0:\n",
    "\t\t\t\t\tDP[cap][idx] = 0\n",
    "\t\t\t\t\tcontinue\n",
    "\t\t\t\tDP[cap][idx] = DP[cap][idx - 1] # inherit\n",
    "\t\t\t\tif dic[idx]['BLK'] <= cap:\n",
    "\t\t\t\t\tDP[cap][idx] = max(DP[cap][idx], dic[idx]['SZ'] + DP[cap - dic[idx]['BLK']][idx - 1])\n",
    "\t\t\t\t\t\n",
    "\n",
    "\t\t\n",
    "\t\treturn DP[-1][-1]\n",
    "\n",
    "# Execution Part\n",
    "if __name__ == \"__main__\":\n",
    "\t# Instantiate\n",
    "\tobj = CopyFile()\n",
    "\t# Get Input\n",
    "\tobj.GetInput()\n",
    "\t# Get Result\n",
    "\tprint(obj.Solution())\n"
   ]
  },
  {
   "cell_type": "markdown",
   "metadata": {},
   "source": [
    "# Test Cases\n",
    "```\n",
    "3\n",
    "737270\n",
    "737272\n",
    "737288\n",
    "\n",
    "6\n",
    "400000\n",
    "200000\n",
    "200000\n",
    "200000\n",
    "400000\n",
    "400000\n",
    "```"
   ]
  }
 ],
 "metadata": {
  "kernelspec": {
   "display_name": "Python 3",
   "language": "python",
   "name": "python3"
  },
  "language_info": {
   "codemirror_mode": {
    "name": "ipython",
    "version": 3
   },
   "file_extension": ".py",
   "mimetype": "text/x-python",
   "name": "python",
   "nbconvert_exporter": "python",
   "pygments_lexer": "ipython3",
   "version": "3.11.4"
  },
  "orig_nbformat": 4
 },
 "nbformat": 4,
 "nbformat_minor": 2
}
