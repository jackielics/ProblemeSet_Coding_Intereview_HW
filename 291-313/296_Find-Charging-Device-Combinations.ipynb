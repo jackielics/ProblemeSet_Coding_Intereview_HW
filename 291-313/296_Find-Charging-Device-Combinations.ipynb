{
 "cells": [
  {
   "cell_type": "code",
   "execution_count": 3,
   "metadata": {},
   "outputs": [
    {
     "name": "stdout",
     "output_type": "stream",
     "text": [
      "90\n"
     ]
    }
   ],
   "source": [
    "def solution(N, power, pm):\n",
    "\t'''\n",
    "\tN: number of powers\n",
    "\tpower: [power,...]\n",
    "\tpm: max power\n",
    "\t'''\n",
    "\t# dp[amount-of-charger][max-power-in-total]: Actual-max-power under given condition\n",
    "\tdp = [[0] * (pm + 1) for _ in range(N + 1)]\n",
    "\tfor i in range(1, N + 1):\n",
    "\t\tfor v in range(min(power), pm + 1):\n",
    "\t\t\tif power[i - 1] > v: # current value greater than max power\n",
    "\t\t\t\tdp[i][v] = dp[i - 1][v]\n",
    "\t\t\telse:\n",
    "\t\t\t\tdp[i][v] = max(dp[i - 1][v], power[i - 1] + dp[i - 1][v - power[i - 1]])\n",
    "\treturn dp[N][pm]\n",
    "\n",
    "if __name__ == \"__main__\":\n",
    "\tN = int(input())\n",
    "\tpower = list(map(int, input().split()))\n",
    "\tpm = int(input())\n",
    "\tprint(solution(N, power, pm))\n",
    "\t# print(solution(4, [50, 20, 20, 60], 90))"
   ]
  },
  {
   "cell_type": "code",
   "execution_count": null,
   "metadata": {},
   "outputs": [],
   "source": []
  }
 ],
 "metadata": {
  "kernelspec": {
   "display_name": "Python 3",
   "language": "python",
   "name": "python3"
  },
  "language_info": {
   "codemirror_mode": {
    "name": "ipython",
    "version": 3
   },
   "file_extension": ".py",
   "mimetype": "text/x-python",
   "name": "python",
   "nbconvert_exporter": "python",
   "pygments_lexer": "ipython3",
   "version": "3.11.4"
  },
  "orig_nbformat": 4
 },
 "nbformat": 4,
 "nbformat_minor": 2
}
