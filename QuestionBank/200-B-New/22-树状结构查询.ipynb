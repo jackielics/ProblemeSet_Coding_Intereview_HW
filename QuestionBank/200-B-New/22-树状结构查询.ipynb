{
 "cells": [
  {
   "cell_type": "markdown",
   "metadata": {},
   "source": [
    "# Topic\n",
    "22-树状结构查询  \n",
    "TreeQuery-HUAWEI-CodingInterview"
   ]
  },
  {
   "cell_type": "markdown",
   "metadata": {},
   "source": [
    "# Problem Description\n",
    "![]()"
   ]
  },
  {
   "cell_type": "markdown",
   "metadata": {},
   "source": [
    "# Key Point & Tag\n",
    "Difficulty Assessment: Medium  \n",
    "Tag:   \n",
    "Similar Problem: []()  "
   ]
  },
  {
   "cell_type": "markdown",
   "metadata": {},
   "source": [
    "# Code"
   ]
  },
  {
   "cell_type": "code",
   "execution_count": 18,
   "metadata": {},
   "outputs": [
    {
     "name": "stdout",
     "output_type": "stream",
     "text": [
      "d\n",
      "e\n",
      "f\n"
     ]
    }
   ],
   "source": [
    "class TreeQuery:\n",
    "\t# Input Part\n",
    "\tdef GetInput(self)->None:\n",
    "\t\t'''\n",
    "\t\tGet Input Data and Preprocess Data\n",
    "\t\t'''\n",
    "\t\tself.N = int(input()) \n",
    "\t\tmat = [list(map(str, input().split())) for _ in range(self.N)]\n",
    "\t\tself.K = input().strip() # Query Key Words\n",
    "\t\t\n",
    "\t\t# mat = [\t['b', 'a'],\n",
    "\t\t# \t\t['c', 'a'],\n",
    "\t\t# \t\t['d', 'c'],\n",
    "\t\t# \t\t['e', 'c'],\n",
    "\t\t# \t\t['f', 'd']]\n",
    "\t\t# self.K = 'c' # Query Key Words\n",
    "\n",
    "\t\tself.dic = {} # {k1:[v1, v2]}\n",
    "\t\tfor v, k in mat:\n",
    "\t\t\tself.dic[k] = self.dic.get(k, set()) | {v} # Union Two Set\n",
    "\n",
    "\t# Algorithm Part\n",
    "\tdef Solution(self)->int:\n",
    "\t\t'''\n",
    "\t\tAlgorithm Solving Problem\n",
    "\t\t'''\n",
    "\t\t# Get data from self\n",
    "\t\tK = self.K\n",
    "\t\tdic = self.dic\n",
    "\n",
    "\t\tres = [x for x in dic[K]] # each elem\n",
    "\t\ti = 0\n",
    "\t\twhile i < len(res):\n",
    "\t\t\t# res.append(q[i])\n",
    "\t\t\tif dic.get(res[i], None):\n",
    "\t\t\t\tres += [x for x in dic[res[i]]]\n",
    "\t\t\ti += 1\n",
    "\t\t\n",
    "\t\tres.sort() # ASC Sort by Lexicographical Order\n",
    "\t\treturn '\\n'.join(res)\n",
    "\n",
    "# Execution Part\n",
    "if __name__ == \"__main__\":\n",
    "\t# Instantiate\n",
    "\tobj = TreeQuery()\n",
    "\t# Get Input\n",
    "\tobj.GetInput()\n",
    "\t# Get Result\n",
    "\tprint(obj.Solution())\n"
   ]
  },
  {
   "cell_type": "markdown",
   "metadata": {},
   "source": [
    "# Test Cases\n",
    "```\n",
    "5\n",
    "b a\n",
    "c a\n",
    "d c\n",
    "e c\n",
    "f d\n",
    "c\n",
    "```"
   ]
  }
 ],
 "metadata": {
  "kernelspec": {
   "display_name": "Python 3",
   "language": "python",
   "name": "python3"
  },
  "language_info": {
   "codemirror_mode": {
    "name": "ipython",
    "version": 3
   },
   "file_extension": ".py",
   "mimetype": "text/x-python",
   "name": "python",
   "nbconvert_exporter": "python",
   "pygments_lexer": "ipython3",
   "version": "3.11.4"
  },
  "orig_nbformat": 4
 },
 "nbformat": 4,
 "nbformat_minor": 2
}
