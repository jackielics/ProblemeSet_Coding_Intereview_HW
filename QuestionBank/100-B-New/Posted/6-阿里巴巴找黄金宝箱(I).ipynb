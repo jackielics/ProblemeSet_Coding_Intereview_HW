{
 "cells": [
  {
   "cell_type": "markdown",
   "metadata": {},
   "source": [
    "# Title\n",
    "6-阿里巴巴找黄金宝箱(I)  \n",
    "AlibabaFindingGoldenTreasureBox(I)-HUAWEI-CodingInterview"
   ]
  },
  {
   "cell_type": "markdown",
   "metadata": {},
   "source": [
    "# Problem Description\n",
    "![https://fcqian.blog.csdn.net/article/details/130764272](https://res.cloudinary.com/dnyeldv5r/image/upload/v1690183762/2023-07-24_152832_qjmsuw.png)"
   ]
  },
  {
   "cell_type": "markdown",
   "metadata": {},
   "source": [
    "# Key Point & Tag\n",
    "Difficulty Assessment: Easy"
   ]
  },
  {
   "cell_type": "markdown",
   "metadata": {},
   "source": [
    "# Approach\n",
    "iterate and calculate left sum and right sum respectively"
   ]
  },
  {
   "cell_type": "markdown",
   "metadata": {},
   "source": [
    "# Code"
   ]
  },
  {
   "cell_type": "code",
   "execution_count": 7,
   "metadata": {},
   "outputs": [
    {
     "name": "stdout",
     "output_type": "stream",
     "text": [
      "0\n"
     ]
    }
   ],
   "source": [
    "# Input Part\n",
    "def get_input()->dict:\n",
    "\t'''\n",
    "    Get Input Data\n",
    "\t'''\n",
    "\tarr = list(map(int, input().split(',')))\n",
    "\treturn {'arr': arr}\n",
    "\n",
    "# Algorithm Part\n",
    "class TreasureBoxFinder:\n",
    "\tdef Solution(self, arr)->int:\n",
    "\t\tLS = 0 # Left Sum\n",
    "\t\tRS = sum(arr) # Right Sum\n",
    "\t\t# res = 0\n",
    "\t\tfor i in range(len(arr)):\n",
    "\t\t\tlS += arr[i - 1] if i >= 1 else 0\n",
    "\t\t\tRS -= arr[i]\n",
    "\t\t\tif lS == RS:\n",
    "\t\t\t\treturn i # 1st index which makes left == right\n",
    "\t\treturn -1 # Failed\n",
    "\n",
    "# Execution Part\n",
    "if __name__ == \"__main__\":\n",
    "\t# Get Input\n",
    "\tdata = get_input()\n",
    "\n",
    "\t# Get Result\n",
    "\tprint(TreasureBoxFinder().Solution(data['arr']))\n"
   ]
  }
 ],
 "metadata": {
  "kernelspec": {
   "display_name": "Python 3",
   "language": "python",
   "name": "python3"
  },
  "language_info": {
   "codemirror_mode": {
    "name": "ipython",
    "version": 3
   },
   "file_extension": ".py",
   "mimetype": "text/x-python",
   "name": "python",
   "nbconvert_exporter": "python",
   "pygments_lexer": "ipython3",
   "version": "3.11.4"
  },
  "orig_nbformat": 4
 },
 "nbformat": 4,
 "nbformat_minor": 2
}
