{
 "cells": [
  {
   "cell_type": "markdown",
   "metadata": {},
   "source": [
    "# Title\n",
    "10-座位调整  \n",
    "SeatAdjust-HUAWEI-CodingInterview"
   ]
  },
  {
   "cell_type": "markdown",
   "metadata": {},
   "source": [
    "# Problem Description\n",
    "![https://blog.csdn.net/qfc_128220/article/details/130764903?spm=1001.2014.3001.5501](https://res.cloudinary.com/dnyeldv5r/image/upload/v1690208296/2023-07-24_221724_gxgody.png)"
   ]
  },
  {
   "cell_type": "markdown",
   "metadata": {},
   "source": [
    "# Key Point & Tag\n",
    "Difficulty Assessment: Easy"
   ]
  },
  {
   "cell_type": "markdown",
   "metadata": {},
   "source": [
    "# Code"
   ]
  },
  {
   "cell_type": "code",
   "execution_count": 1,
   "metadata": {},
   "outputs": [
    {
     "name": "stdout",
     "output_type": "stream",
     "text": [
      "1\n"
     ]
    }
   ],
   "source": [
    "# Input Part\n",
    "def get_input()->dict:\n",
    "\t'''\n",
    "    Get Input Data\n",
    "\t'''\n",
    "\tarr = list(map(int, input().strip().split(','))) # ' ' as separator (default)\n",
    "\treturn {'arr': arr}\n",
    "\n",
    "# Algorithm Part\n",
    "class MonitorCounter:\n",
    "\tdef Solution(self, arr)->int:\n",
    "\t\tres = 0\n",
    "\t\t# for i in range(len(arr)):\\\n",
    "\t\ti = 0 # current index\n",
    "\t\twhile i < len(arr):\n",
    "\t\t\tif arr[i] == 0 and \\\n",
    "\t\t\t\t(i == 0 or arr[i - 1] == 0) and \\\n",
    "\t\t\t\t(i == len(arr) - 1 or arr[i + 1] == 0):\n",
    "\t\t\t\t\n",
    "\t\t\t\tarr[i] = 1\n",
    "\t\t\t\tres += 1\n",
    "\t\t\t# move rightwards\n",
    "\t\t\ti += 2 if arr[i] == 1 else 1\n",
    "\n",
    "\t\treturn res\n",
    "\t\t# return ' '.join([str(v) for v in res]) # return mustn't be LIST\n",
    "\n",
    "# Execution Part\n",
    "if __name__ == \"__main__\":\n",
    "\t# Get Input\n",
    "\tdata = get_input()\n",
    "\n",
    "\t# Get Result\n",
    "\tprint(MonitorCounter().Solution(data['arr']))\n"
   ]
  },
  {
   "cell_type": "markdown",
   "metadata": {},
   "source": [
    "# Test Cases\n",
    "```\n",
    "1,0,0,0,1\n",
    "```"
   ]
  }
 ],
 "metadata": {
  "kernelspec": {
   "display_name": "Python 3",
   "language": "python",
   "name": "python3"
  },
  "language_info": {
   "codemirror_mode": {
    "name": "ipython",
    "version": 3
   },
   "file_extension": ".py",
   "mimetype": "text/x-python",
   "name": "python",
   "nbconvert_exporter": "python",
   "pygments_lexer": "ipython3",
   "version": "3.11.4"
  },
  "orig_nbformat": 4
 },
 "nbformat": 4,
 "nbformat_minor": 2
}
