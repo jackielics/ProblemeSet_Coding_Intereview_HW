{
 "cells": [
  {
   "cell_type": "markdown",
   "metadata": {},
   "source": [
    "# Topic\n",
    "11-数据最节约的备份方法  \n",
    "EcoCopy-HUAWEI-CodingInterview"
   ]
  },
  {
   "cell_type": "markdown",
   "metadata": {},
   "source": [
    "# Problem Description\n",
    "![https://blog.csdn.net/qfc_128220/article/details/131019925](https://res.cloudinary.com/dnyeldv5r/image/upload/v1691065064/2023-08-03_201709_trdw8k.png)"
   ]
  },
  {
   "cell_type": "markdown",
   "metadata": {},
   "source": [
    "# Key Point & Tag\n",
    "|  Key   | Value  |\n",
    "|  :----:  | :----:  |\n",
    "| Difficulty Assessment  | Medium⭐⭐ |\n",
    "| Tag  | Backtrack, DFS Recurse, Binary Search    |\n",
    "| Similar Problem | [875. Koko Eating Bananas](https://leetcode.com/problems/koko-eating-bananas/), [698. Partition to K Equal Sum Subsets](https://leetcode.com/problems/partition-to-k-equal-sum-subsets/description/)|"
   ]
  },
  {
   "cell_type": "markdown",
   "metadata": {},
   "source": [
    "# Code"
   ]
  },
  {
   "cell_type": "markdown",
   "metadata": {},
   "source": [
    "## Binary Search + Backtrack"
   ]
  },
  {
   "cell_type": "code",
   "execution_count": null,
   "metadata": {},
   "outputs": [
    {
     "name": "stdout",
     "output_type": "stream",
     "text": [
      "5\n"
     ]
    }
   ],
   "source": [
    "class EcoCopy:\n",
    "\t# Input Part\n",
    "\tdef GetInput(self)->None:\n",
    "\t\t'''\n",
    "\t\tGet Input Data and Preprocess Data\n",
    "\t\t'''\n",
    "\t\t# self.nums = list(map(int, input().strip().split(',')))\n",
    "\t\t# self.nums = [100, 500, 300, 200, 400]\n",
    "\t\tself.nums = [50,150,200,250,300,400,450,490]\n",
    "\n",
    "\t# Algorithm Part\n",
    "\tdef Solution(self)->int:\n",
    "\t\t'''\n",
    "\t\tAlgorithm Solving Problem\n",
    "\t\t'''\n",
    "\t\t# Get data from self\n",
    "\t\tnums = sorted(self.nums, reverse = True) # ASC\n",
    "\n",
    "\t\tdef backtrack(idx, buckets):\n",
    "\t\t\t'''\n",
    "\t\t\tCheck if All buckets Can Hold All Items\n",
    "\t\t\t'''\n",
    "\t\t\tif idx == len(nums): # Reach End\n",
    "\t\t\t\treturn True\n",
    "\n",
    "\t\t\tfor i in range(len(buckets)): # Iterate Every Buckets\n",
    "\t\t\t\t# Skip Duplicates\n",
    "\t\t\t\tif i > 0 and buckets[i] == buckets[i - 1]:\n",
    "\t\t\t\t\tcontinue\n",
    "\t\t\t\tif buckets[i] + nums[idx] <= 500:\n",
    "\t\t\t\t\tbuckets[i] += nums[idx]\n",
    "\t\t\t\t\tif backtrack(idx + 1, buckets):\n",
    "\t\t\t\t\t\treturn True\n",
    "\t\t\t\t\tbuckets[i] -= nums[idx]\n",
    "\n",
    "\t\t\treturn False # Space-Poor\n",
    "\n",
    "\t\tl, r = 1, len(nums) # Possible Min and Max Res\n",
    "\t\tres = r # Start with Possible Max Res\n",
    "\t\t\n",
    "\t\twhile l <= r:\n",
    "\t\t\tm = (l + r) >> 1 # (l + r) // 2\n",
    "\t\t\t# If Workable\n",
    "\t\t\tif backtrack(0, [0] * m):\n",
    "\t\t\t\tres = m\n",
    "\t\t\t\t# Try Smaller Res\n",
    "\t\t\t\tr = m - 1\n",
    "\t\t\telse: # Unworkable, Try to Increase 'm'\n",
    "\t\t\t\tl = m + 1\n",
    "\n",
    "\t\treturn res\n",
    "\n",
    "# Execution Part\n",
    "if __name__ == \"__main__\":\n",
    "\t# Instantiate\n",
    "\tobj = EcoCopy()\n",
    "\t# Get Input\n",
    "\tobj.GetInput()\n",
    "\t# Get Result\n",
    "\tprint(obj.Solution())\n"
   ]
  },
  {
   "cell_type": "markdown",
   "metadata": {},
   "source": [
    "## Backtrack \n",
    "(TLE)"
   ]
  },
  {
   "cell_type": "code",
   "execution_count": null,
   "metadata": {},
   "outputs": [
    {
     "name": "stdout",
     "output_type": "stream",
     "text": [
      "5\n"
     ]
    }
   ],
   "source": [
    "class EcoCopy:\n",
    "\t# Input Part\n",
    "\tdef GetInput(self)->None:\n",
    "\t\t'''\n",
    "\t\tGet Input Data and Preprocess Data\n",
    "\t\t'''\n",
    "\t\t# self.nums = list(map(int, input().strip().split(',')))\n",
    "\t\t# self.nums = [100, 500, 300, 200, 400]\n",
    "\t\tself.nums = [50,150,200,250,300,400,450,490]\n",
    "\n",
    "\t# Algorithm Part\n",
    "\tdef Solution(self)->int:\n",
    "\t\t'''\n",
    "\t\tAlgorithm Solving Problem\n",
    "\t\t'''\n",
    "\t\t# Get data from self\n",
    "\t\tnums = sorted(self.nums) # ASC\n",
    "\t\t\n",
    "\t\tglobal res\n",
    "\t\tres = len(nums) # Max Possible cnt of Containers\n",
    "\t\t\n",
    "\t\tvst = [False] * len(nums)\n",
    "\t\tdef backtrack(idx , curS, cnt):\n",
    "\t\t\t'''\n",
    "\t\t\tidx: Current Index Considered\n",
    "\t\t\tcurS: Current Sum\n",
    "\t\t\tcnt: Count of Containers Used\n",
    "\t\t\t'''\n",
    "\t\t\tif all(x == True for x in vst): # All Used\n",
    "\t\t\t\tglobal res\n",
    "\t\t\t\tres = min(res, cnt)\n",
    "\t\t\t\treturn\n",
    "\n",
    "\t\t\tavai = False\n",
    "\t\t\tfor i in range(idx, len(nums)):\n",
    "\t\t\t\tif not vst[i]:\n",
    "\t\t\t\t\tif curS + nums[i] <= 500: # Take nums[i] into current container\n",
    "\t\t\t\t\t\tavai = True\n",
    "\t\t\t\t\t\tvst[i] = True\n",
    "\t\t\t\t\t\tbacktrack(i + 1, curS + nums[i], cnt)\n",
    "\t\t\t\t\t\tvst[i] = False\n",
    "\t\t\t\t\telse:\n",
    "\t\t\t\t\t\tbreak # ASC\n",
    "\n",
    "\t\t\tif not avai:\n",
    "\t\t\t\tbacktrack(0, 0, cnt + 1)\n",
    "\n",
    "\t\tbacktrack(0, 0, 1)\n",
    "\t\treturn res\n",
    "\n",
    "# Execution Part\n",
    "if __name__ == \"__main__\":\n",
    "\t# Instantiate\n",
    "\tobj = EcoCopy()\n",
    "\t# Get Input\n",
    "\tobj.GetInput()\n",
    "\t# Get Result\n",
    "\tprint(obj.Solution())\n"
   ]
  },
  {
   "cell_type": "markdown",
   "metadata": {},
   "source": [
    "# Test Cases\n",
    "```\n",
    "100,500,300,200,400\n",
    "\n",
    "1,100,200,300\n",
    "\n",
    "50,80,100,150,170,200\n",
    "\n",
    "50,150,200,250,300,400,450,490\n",
    "```"
   ]
  }
 ],
 "metadata": {
  "kernelspec": {
   "display_name": "Python 3",
   "language": "python",
   "name": "python3"
  },
  "language_info": {
   "codemirror_mode": {
    "name": "ipython",
    "version": 3
   },
   "file_extension": ".py",
   "mimetype": "text/x-python",
   "name": "python",
   "nbconvert_exporter": "python",
   "pygments_lexer": "ipython3",
   "version": "3.11.4"
  },
  "orig_nbformat": 4
 },
 "nbformat": 4,
 "nbformat_minor": 2
}
