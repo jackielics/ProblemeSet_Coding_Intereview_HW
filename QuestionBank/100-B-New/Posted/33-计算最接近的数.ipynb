{
 "cells": [
  {
   "cell_type": "markdown",
   "metadata": {},
   "source": [
    "# Topic\n",
    "33-计算最接近的数  \n",
    "CalcTheClosest-HUAWEI-CodingInterview"
   ]
  },
  {
   "cell_type": "markdown",
   "metadata": {},
   "source": [
    "# Problem Description\n",
    "![https://blog.csdn.net/qfc_128220/article/details/131174846](https://res.cloudinary.com/dnyeldv5r/image/upload/v1691743276/2023-08-11_164045_vx7lt6.png)"
   ]
  },
  {
   "cell_type": "markdown",
   "metadata": {},
   "source": [
    "# Key Point & Tag\n",
    "Difficulty Assessment: Easy  "
   ]
  },
  {
   "cell_type": "markdown",
   "metadata": {},
   "source": [
    "# Code"
   ]
  },
  {
   "cell_type": "code",
   "execution_count": 25,
   "metadata": {},
   "outputs": [
    {
     "name": "stdout",
     "output_type": "stream",
     "text": [
      "1\n"
     ]
    }
   ],
   "source": [
    "import re\n",
    "\n",
    "class CalcTheClosest:\n",
    "\t# Input Part\n",
    "\tdef GetInput(self)->None:\n",
    "\t\t'''\n",
    "\t\tGet Input Data and Preprocess Data\n",
    "\t\t'''\n",
    "\t\tmatcher = re.search(r\"(\\[.*\\]),(.*)\", input())\n",
    "\t\tif matcher:\n",
    "\t\t\tself.arr, self.K = eval(matcher.group(1)), int(matcher.group(2))\n",
    "\n",
    "\t# Algorithm Part\n",
    "\tdef Solution(self)->int:\n",
    "\t\t'''\n",
    "\t\tAlgorithm Solving Problem\n",
    "\t\t'''\n",
    "\t\t# Get data from self\n",
    "\t\tK, arr = self.K, self.arr\n",
    "\t\tif K > len(arr): # in case over-boundary\n",
    "\t\t\treturn -1\n",
    "\t\t\n",
    "\t\tarr_sort = sorted(arr)\n",
    "\t\tMED = arr_sort[len(arr) // 2] # median number\n",
    "\n",
    "\t\tfor i in range(0, len(arr) - K + 1):\n",
    "\t\t\tif i == 0:\n",
    "\t\t\t\tsum_N = sum(arr[1 : K]) # sum of K number\n",
    "\t\t\t\tres = {'i': 0, 'v': abs(arr[i] - sum_N - MED)}\n",
    "\t\t\telse:\n",
    "\t\t\t\tsum_N = sum_N + arr[i + K - 1] - arr[i] # move sum_N\n",
    "\t\t\t\tif (v := abs(arr[i] - sum_N - MED)) < res['v'] or (\n",
    "\t\t\t\t\tv == res['v'] and i > res['i']\n",
    "\t\t\t\t):\n",
    "\t\t\t\t\tres = {'i': i, 'v': v} # update res\n",
    "\n",
    "\n",
    "\t\treturn res['i']\n",
    "\n",
    "# Execution Part\n",
    "if __name__ == \"__main__\":\n",
    "\t# Instantiate\n",
    "\tobj = CalcTheClosest()\n",
    "\t# Get Input\n",
    "\tobj.GetInput()\n",
    "\t# Get Result\n",
    "\tprint(obj.Solution())\n"
   ]
  },
  {
   "cell_type": "markdown",
   "metadata": {},
   "source": [
    "# Test Cases\n",
    "```\n",
    "[50,50,2,3],2\n",
    "```"
   ]
  }
 ],
 "metadata": {
  "kernelspec": {
   "display_name": "Python 3",
   "language": "python",
   "name": "python3"
  },
  "language_info": {
   "codemirror_mode": {
    "name": "ipython",
    "version": 3
   },
   "file_extension": ".py",
   "mimetype": "text/x-python",
   "name": "python",
   "nbconvert_exporter": "python",
   "pygments_lexer": "ipython3",
   "version": "3.11.4"
  },
  "orig_nbformat": 4
 },
 "nbformat": 4,
 "nbformat_minor": 2
}
