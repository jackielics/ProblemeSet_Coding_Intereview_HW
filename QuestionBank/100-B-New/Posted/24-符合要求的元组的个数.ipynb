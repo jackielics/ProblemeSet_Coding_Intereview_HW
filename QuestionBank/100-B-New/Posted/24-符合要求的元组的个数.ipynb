{
 "cells": [
  {
   "cell_type": "markdown",
   "metadata": {},
   "source": [
    "# Topic\n",
    "24-符合要求的元组的个数  \n",
    "TupleMeetRequirement-HUAWEI-CodingInterview"
   ]
  },
  {
   "cell_type": "markdown",
   "metadata": {},
   "source": [
    "# Problem Description\n",
    "![https://blog.csdn.net/qfc_128220/article/details/130771177](https://res.cloudinary.com/dnyeldv5r/image/upload/v1690459298/2023-07-27_200107_ib5fdv.png)"
   ]
  },
  {
   "cell_type": "markdown",
   "metadata": {},
   "source": [
    "# Key Point & Tag\n",
    "Difficulty Assessment: Medium  \n",
    "Backtrace, Recurse  "
   ]
  },
  {
   "cell_type": "markdown",
   "metadata": {},
   "source": [
    "# Code"
   ]
  },
  {
   "cell_type": "markdown",
   "metadata": {},
   "source": [
    "## Iterate"
   ]
  },
  {
   "cell_type": "code",
   "execution_count": null,
   "metadata": {},
   "outputs": [
    {
     "name": "stdout",
     "output_type": "stream",
     "text": [
      "1\n"
     ]
    }
   ],
   "source": [
    "class TupleMeetRequirement:\n",
    "\t# Input Part\n",
    "\tdef GetInput(self)->None:\n",
    "\t\t'''\n",
    "\t\tGet Input Data and Preprocess Data\n",
    "\t\t'''\n",
    "\t\tself.nums = list(map(int, input().strip().split(' '))) \n",
    "\t\tself.N = int(input()) # Amount of Elems\n",
    "\t\tself.T = int(input()) # Target Value\n",
    "\n",
    "\t# Algorithm Part\n",
    "\tdef Solution(self)->int:\n",
    "\t\t'''\n",
    "\t\tAlgorithm Solving Problem\n",
    "\t\t'''\n",
    "\t\t# Get data from self\n",
    "\t\tN, T = self.N, self.T\n",
    "\t\tnums = self.nums\n",
    "\t\t\n",
    "\t\tnums.sort() # sort asc\n",
    "\t\tres = []\n",
    "\n",
    "\t\tdef NSum(N, st, tgt, cur):\n",
    "\t\t\t'''\n",
    "\t\t\tN: Amount of Elems\n",
    "\t\t\tst:\tStarting index\n",
    "\t\t\ttgt: Target Value\n",
    "\t\t\tcur: Current list[]\n",
    "\t\t\t'''\n",
    "\t\t\tif N >= 3:\n",
    "\t\t\t\tfor i in range(st, len(nums) - N + 1): # index of elem currently being used\n",
    "\t\t\t\t\t# Skip Duplicates\n",
    "\t\t\t\t\tif i > st and nums[i] == nums[i - 1]: \n",
    "\t\t\t\t\t\tcontinue\n",
    "\t\t\t\t\telse:\n",
    "\t\t\t\t\t\tNSum(N = N - 1, st = i + 1, tgt = tgt - nums[i], cur = cur + [nums[i]])\n",
    "\n",
    "\t\t\telse: # <= 2\n",
    "\t\t\t\tl, r = st, len(nums) -1 # don't look back\n",
    "\t\t\t\twhile l < r:\n",
    "\t\t\t\t\t# skip duplicate in [l] or [r], then no duplicate will be in res\n",
    "\t\t\t\t\twhile l < r and l > st and nums[l] == nums[l - 1]:\n",
    "\t\t\t\t\t\tl += 1\n",
    "\t\t\t\t\twhile l < r and r < len(nums) - 1 and nums[r] == nums[r + 1]:\n",
    "\t\t\t\t\t\tr -= 1\n",
    "\n",
    "\t\t\t\t\t# Bounds Checker\n",
    "\t\t\t\t\tif l >= r:\n",
    "\t\t\t\t\t\tbreak\n",
    "\t\t\t\t\telif nums[l] + nums[r] == tgt:\n",
    "\t\t\t\t\t\t# if nums[l] != nums[r]: # Different\n",
    "\t\t\t\t\t\tres.append(cur + [nums[l], nums[r]])\n",
    "\t\t\t\t\t\tl += 1\n",
    "\t\t\t\t\t\tr -= 1\n",
    "\t\t\t\t\telif nums[l] + nums[r] < tgt:\n",
    "\t\t\t\t\t\tl += 1\n",
    "\t\t\t\t\telse:\n",
    "\t\t\t\t\t\tr -= 1\n",
    "\n",
    "\t\tNSum(N, 0, T, [])\n",
    "\t\treturn len(res)\n",
    "\n",
    "\n",
    "# Execution Part\n",
    "if __name__ == \"__main__\":\n",
    "\t# Instantiate\n",
    "\tobj = TupleMeetRequirement()\n",
    "\t# Get Input\n",
    "\tobj.GetInput()\n",
    "\t# Get Result\n",
    "\tprint(obj.Solution())\n"
   ]
  },
  {
   "cell_type": "markdown",
   "metadata": {},
   "source": [
    "## Backtracking(TLE)"
   ]
  },
  {
   "cell_type": "code",
   "execution_count": null,
   "metadata": {},
   "outputs": [],
   "source": [
    "class TupleMeetRequirement:\n",
    "\t# Input Part\n",
    "\tdef GetInput(self)->None:\n",
    "\t\t'''\n",
    "\t\tGet Input Data and Preprocess Data\n",
    "\t\t'''\n",
    "\t\tself.nums = list(map(int, input().strip().split(' '))) \n",
    "\t\tself.N = int(input()) # Amount of Elems\n",
    "\t\tself.T = int(input()) # Target Value\n",
    "\n",
    "\t\t# self.nums = [2, 7, 11, 15]\n",
    "\t\t# self.N = 2\n",
    "\t\t# self.T = 9\n",
    "\n",
    "\t# Algorithm Part\n",
    "\tdef Solution(self)->int:\n",
    "\t\t'''\n",
    "\t\tAlgorithm Solving Problem\n",
    "\t\t'''\n",
    "\t\t# Get data from self\n",
    "\t\tN, T = self.N, self.T\n",
    "\t\tnums = self.nums\n",
    "\t\t\n",
    "\t\tres = set()\n",
    "\n",
    "\t\tdef backtrack(i, cur):\n",
    "\t\t\tif len(cur) == N:\n",
    "\t\t\t\tif sum(cur) == T:\n",
    "\t\t\t\t\tres.add(tuple(sorted(cur))) # Unique\n",
    "\t\t\t\telse:\n",
    "\t\t\t\t\treturn\n",
    "\t\t\tif i >= len(nums): # Out-of-Bounds\n",
    "\t\t\t\treturn\n",
    "\n",
    "\t\t\tbacktrack(i + 1, cur.copy()) # Ignore nums[i]\n",
    "\t\t\tcur.append(nums[i])\n",
    "\t\t\tbacktrack(i + 1, cur.copy()) # Ignore nums[i]\n",
    "\t\t\n",
    "\n",
    "\t\tbacktrack(0, [])\n",
    "\n",
    "\t\treturn len(res)\n",
    "\n",
    "\n",
    "# Execution Part\n",
    "if __name__ == \"__main__\":\n",
    "\t# Instantiate\n",
    "\tobj = TupleMeetRequirement()\n",
    "\t# Get Input\n",
    "\tobj.GetInput()\n",
    "\t# Get Result\n",
    "\tprint(obj.Solution())"
   ]
  },
  {
   "cell_type": "markdown",
   "metadata": {},
   "source": [
    "# Test Cases\n",
    "```\n",
    "-1 0 1 2 -1 -4\n",
    "3\n",
    "0\n",
    "\n",
    "2 7 11 15\n",
    "2\n",
    "9\n",
    "# self.nums = [2, 7, 11, 15]\n",
    "# self.N = 2\n",
    "# self.T = 9\n",
    "```"
   ]
  }
 ],
 "metadata": {
  "kernelspec": {
   "display_name": "Python 3",
   "language": "python",
   "name": "python3"
  },
  "language_info": {
   "codemirror_mode": {
    "name": "ipython",
    "version": 3
   },
   "file_extension": ".py",
   "mimetype": "text/x-python",
   "name": "python",
   "nbconvert_exporter": "python",
   "pygments_lexer": "ipython3",
   "version": "3.11.4"
  },
  "orig_nbformat": 4
 },
 "nbformat": 4,
 "nbformat_minor": 2
}
