{
 "cells": [
  {
   "cell_type": "markdown",
   "metadata": {},
   "source": [
    "# Topic\n",
    "8-找出两个整数数组中同时出现的整数  \n",
    "SameInt-HUAWEI-CodingInterview"
   ]
  },
  {
   "cell_type": "markdown",
   "metadata": {},
   "source": [
    "# Problem Description\n",
    "![https://blog.csdn.net/qfc_128220/article/details/130764650?spm=1001.2014.3001.5501](https://res.cloudinary.com/dnyeldv5r/image/upload/v1690877235/2023-08-01_160648_w1ztoy.png)"
   ]
  },
  {
   "cell_type": "markdown",
   "metadata": {},
   "source": [
    "# Key Point & Tag\n",
    "Difficulty Assessment: Easy  \n",
    "Tag: Two Pointers  \n",
    "Similar Problem:  "
   ]
  },
  {
   "cell_type": "markdown",
   "metadata": {},
   "source": [
    "# Code"
   ]
  },
  {
   "cell_type": "code",
   "execution_count": 15,
   "metadata": {},
   "outputs": [],
   "source": [
    "class SameIntFreq:\n",
    "\t# Input Part\n",
    "\tdef GetInput(self)->None:\n",
    "\t\t'''\n",
    "\t\tGet Input Data and Preprocess Data\n",
    "\t\t'''\n",
    "\t\tself.arr1 = list(map(int, input().strip().split(',')))\n",
    "\t\tself.arr2 = list(map(int, input().strip().split(',')))\n",
    "\n",
    "\t# Algorithm Part\n",
    "\tdef Solution(self)->int:\n",
    "\t\t'''\n",
    "\t\tAlgorithm Solving Problem\n",
    "\t\t'''\n",
    "\t\t# Get data from self\n",
    "\t\tarr1, arr2 = sorted(self.arr1), sorted(self.arr2)\n",
    "\t\tp1, p2 = 0, 0\n",
    "\t\tdic = {} # {elem:freq}\n",
    "\n",
    "\t\twhile p1 < len(arr1) and p2 < len(arr2):\n",
    "\t\t\tif arr1[p1] == arr2[p2]:\n",
    "\t\t\t\tdic[arr1[p1]] = dic.get(arr1[p1], 0) + 1 # update freq\n",
    "\t\t\t\tp1 += 1\n",
    "\t\t\t\tp2 += 1\n",
    "\t\t\telif arr1[p1] > arr2[p2]:\n",
    "\t\t\t\tp2 += 1 # move the smaller one \n",
    "\t\t\telse:\n",
    "\t\t\t\tp1 += 1 \n",
    "\t\tres = {} # {freq1: [elem1,...],...}\n",
    "\t\tfor k, v in dic.items(): # k: elem, v: freq\n",
    "\t\t\tres[v] = res.get(v, []) + [str(k)]\n",
    "\n",
    "\t\treturn dict(sorted(res.items()))\n",
    "\n",
    "# Execution Part\n",
    "if __name__ == \"__main__\":\n",
    "\t# Instantiate\n",
    "\tobj = SameIntFreq()\n",
    "\t# Get Input\n",
    "\tobj.GetInput()\n",
    "\t# Get Result\n",
    "\tres = obj.Solution()\n",
    "\t# Print Result\n",
    "\tif res:\n",
    "\t\tfor k, v in res.items():\n",
    "\t\t\tprint(f\"{k}:{','.join(v)}\")\n",
    "\telse:\n",
    "\t\tprint(\"NULL\")"
   ]
  },
  {
   "cell_type": "markdown",
   "metadata": {},
   "source": [
    "# Test Cases\n",
    "```\n",
    "5,3,6,-8,0,11\n",
    "2,8,8,8,-1,15\n",
    "\n",
    "5,8,11,3,6,8,8,-1,11,2,11,11\n",
    "11,2,11,8,6,8,8,-1,8,15,3,-9,11\n",
    "```"
   ]
  }
 ],
 "metadata": {
  "kernelspec": {
   "display_name": "Python 3",
   "language": "python",
   "name": "python3"
  },
  "language_info": {
   "codemirror_mode": {
    "name": "ipython",
    "version": 3
   },
   "file_extension": ".py",
   "mimetype": "text/x-python",
   "name": "python",
   "nbconvert_exporter": "python",
   "pygments_lexer": "ipython3",
   "version": "3.11.4"
  },
  "orig_nbformat": 4
 },
 "nbformat": 4,
 "nbformat_minor": 2
}
