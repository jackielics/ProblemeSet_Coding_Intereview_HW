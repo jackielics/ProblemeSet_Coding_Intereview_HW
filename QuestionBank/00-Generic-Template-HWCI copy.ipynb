{
 "cells": [
  {
   "cell_type": "markdown",
   "metadata": {},
   "source": [
    "# Topic\n",
    "  \n",
    "-HUAWEI-CodingInterview"
   ]
  },
  {
   "cell_type": "markdown",
   "metadata": {},
   "source": [
    "# Problem Description\n",
    "![]()"
   ]
  },
  {
   "cell_type": "markdown",
   "metadata": {},
   "source": [
    "# Key Point & Tag\n",
    "|  Key   | Value  |\n",
    "|  :----:  | :----:  |\n",
    "| Difficulty Assessment  | Medium⭐⭐ |\n",
    "| Tag  |   |\n",
    "| Similar Problem | []()|"
   ]
  },
  {
   "cell_type": "markdown",
   "metadata": {},
   "source": [
    "# Approach"
   ]
  },
  {
   "cell_type": "markdown",
   "metadata": {},
   "source": [
    "# Code"
   ]
  },
  {
   "cell_type": "code",
   "execution_count": null,
   "metadata": {},
   "outputs": [],
   "source": [
    "class AlGORITHM:\n",
    "\t# Input Part\n",
    "\tdef GetInput(self)->None:\n",
    "\t\t'''\n",
    "\t\tGet Input Data and Preprocess Data\n",
    "\t\t'''\n",
    "\t\tself.N = int(input()) \n",
    "\t\tself.R, self.C = map(int, input().strip().split(' '))\n",
    "\t\tself.nums = eval(input())\n",
    "\t\tself.nums1 = list(map(int, input().strip().split(' ')))\n",
    "\t\tself.nums2 = list(map(int, input().strip().split(' ')))\n",
    "\t\tself.mat = [list(map(int, input().split())) for _ in range(self.N)]\n",
    "\t\tself.dics = [dict(zip(['ppt', 'arg'], map(str, input().strip().split(' ')))) for _ in range(self.N)]\n",
    "\n",
    "\t\tself.nums = []\n",
    "\t\twhile (input_item := input().strip()) != '':\n",
    "\t\t\tself.nums.append(list(map(int, input_item.split(' '))))\n",
    "\n",
    "\n",
    "\t# Algorithm Part\n",
    "\tdef Solution(self)->int:\n",
    "\t\t'''\n",
    "\t\tAlgorithm Solving Problem\n",
    "\t\t'''\n",
    "\t\t# Get Data from self\n",
    "\t\tN = self.N\n",
    "\t\tR, C = self.R, self.C\n",
    "\t\tnums = self.nums\n",
    "\t\tnums1, nums2 = self.nums1, self.nums2\n",
    "\t\tmat = self.mat\n",
    "\t\tdics = self.dics\n",
    "\t\t\n",
    "\t\tres = 0\n",
    "\t\t\n",
    "\t\treturn res \n",
    "\n",
    "# Execution Part\n",
    "if __name__ == \"__main__\":\n",
    "\t# Instantiate\n",
    "\tobj = AlGORITHM()\n",
    "\t# Get Input\n",
    "\tobj.GetInput()\n",
    "\t# Get Result\n",
    "\tprint(obj.Solution())\n"
   ]
  },
  {
   "cell_type": "markdown",
   "metadata": {},
   "source": [
    "# Test Cases\n",
    "```\n",
    "\n",
    "```"
   ]
  }
 ],
 "metadata": {
  "kernelspec": {
   "display_name": "Python 3",
   "language": "python",
   "name": "python3"
  },
  "language_info": {
   "codemirror_mode": {
    "name": "ipython",
    "version": 3
   },
   "file_extension": ".py",
   "mimetype": "text/x-python",
   "name": "python",
   "nbconvert_exporter": "python",
   "pygments_lexer": "ipython3",
   "version": "3.11.4"
  },
  "orig_nbformat": 4
 },
 "nbformat": 4,
 "nbformat_minor": 2
}
