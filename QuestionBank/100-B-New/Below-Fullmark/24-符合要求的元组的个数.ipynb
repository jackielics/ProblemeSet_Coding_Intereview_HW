{
 "cells": [
  {
   "cell_type": "markdown",
   "metadata": {},
   "source": [
    "# Topic\n",
    "24-符合要求的元组的个数  \n",
    "TupleMeetRequirement-HUAWEI-CodingInterview"
   ]
  },
  {
   "cell_type": "markdown",
   "metadata": {},
   "source": [
    "# Problem Description\n",
    "![https://blog.csdn.net/qfc_128220/article/details/130771177](https://res.cloudinary.com/dnyeldv5r/image/upload/v1690459298/2023-07-27_200107_ib5fdv.png)"
   ]
  },
  {
   "cell_type": "markdown",
   "metadata": {},
   "source": [
    "# Key Point & Tag\n",
    "Difficulty Assessment: Medium  \n",
    "Backtrace, Recurse  "
   ]
  },
  {
   "cell_type": "markdown",
   "metadata": {},
   "source": [
    "# Code"
   ]
  },
  {
   "cell_type": "code",
   "execution_count": null,
   "metadata": {},
   "outputs": [],
   "source": [
    "class TupleMeetRequirement:\n",
    "\t# Input Part\n",
    "\tdef GetInput(self)->None:\n",
    "\t\t'''\n",
    "\t\tGet Input Data and Preprocess Data\n",
    "\t\t'''\n",
    "\t\tarr = sorted(list(map(int, input().strip().split(' '))))\n",
    "\t\tn = int(input()) # amount of elems\n",
    "\t\tK = int(input()) # target sum\n",
    "\t\treturn {'arr': arr, 'n': n, 'K': K}\n",
    "\n",
    "\t# Algorithm Part\n",
    "\tdef TwoSum(self, arr, n, K, st)->int:\n",
    "\n",
    "\n",
    "\tdef KSum(self, arr, n, K, cnt)->int:\n",
    "\t\t'''\n",
    "\t\tAlgorithm Solving Problem\n",
    "\t\t'''\n",
    "\t\tif K == 2:\n",
    "\t\t\treturn TwoSum\n",
    "\n",
    "\t\treturn res \n",
    "\n",
    "# Execution Part\n",
    "if __name__ == \"__main__\":\n",
    "\t# Instantiate\n",
    "\tobj = TupleMeetRequirement()\n",
    "\t# Get Input\n",
    "\tdata = obj.GetInput()\n",
    "\t# Get Result\n",
    "\tprint(obj.KSum(data['arr'], data['n'], data['K']))\n"
   ]
  },
  {
   "cell_type": "markdown",
   "metadata": {},
   "source": [
    "# Test Cases\n",
    "```\n",
    "\n",
    "```"
   ]
  }
 ],
 "metadata": {
  "kernelspec": {
   "display_name": "Python 3",
   "language": "python",
   "name": "python3"
  },
  "language_info": {
   "name": "python",
   "version": "3.11.4"
  },
  "orig_nbformat": 4
 },
 "nbformat": 4,
 "nbformat_minor": 2
}
