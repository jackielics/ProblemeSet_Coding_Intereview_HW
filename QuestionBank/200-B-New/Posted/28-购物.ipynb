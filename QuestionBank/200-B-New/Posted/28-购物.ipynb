{
 "cells": [
  {
   "cell_type": "markdown",
   "metadata": {},
   "source": [
    "# Topic\n",
    "28-购物  \n",
    "Shopping-HUAWEI-CodingInterview"
   ]
  },
  {
   "cell_type": "markdown",
   "metadata": {},
   "source": [
    "# Problem Description\n",
    "![https://blog.csdn.net/qfc_128220/article/details/131605179](https://res.cloudinary.com/dnyeldv5r/image/upload/v1691499829/2023-08-08_210319_b5k0rn.png)"
   ]
  },
  {
   "cell_type": "markdown",
   "metadata": {},
   "source": [
    "# Key Point & Tag\n",
    "|  Key   | Value  |\n",
    "|  :----:  | :----:  |\n",
    "| Difficulty Assessment  | Medium⭐⭐ |\n",
    "| Tag  | Heap Sort  |\n",
    "| Similar Problem | []()|"
   ]
  },
  {
   "cell_type": "markdown",
   "metadata": {},
   "source": [
    "# Approach\n",
    "Create a class recording Previous Sum-Value, Index of to-add Elem in 'nums', and Current Sum-Value.  \n",
    "Construct a heap-sort-list and pop the min value dynamically, add new nodes considering and ignoring nums[idx] to the heap-sort-list "
   ]
  },
  {
   "cell_type": "markdown",
   "metadata": {},
   "source": [
    "# Code"
   ]
  },
  {
   "cell_type": "code",
   "execution_count": null,
   "metadata": {},
   "outputs": [],
   "source": [
    "import heapq\n",
    "\n",
    "class bfSumCurIdx:\n",
    "\tdef __init__(self, bfSum, idx):\n",
    "\t\tself.PrevS = bfSum  # Previous Sum-Value\n",
    "\t\tself.idx = idx  # Index of to-add Elem in 'nums'\n",
    "\t\tself.CurS = bfSum + nums[idx] # Current Sum-Value\n",
    "\n",
    "\tdef __lt__(self, other):\n",
    "\t\t# Compare by Current Sum-Value\n",
    "\t\treturn self.CurS < other.CurS\n",
    "\n",
    "class AlGORITHM:\n",
    "\t# Input Part\n",
    "\tdef GetInput(self)->None:\n",
    "\t\t'''\n",
    "\t\tGet Input Data and Preprocess Data\n",
    "\t\t'''\n",
    "\t\tself.N, self.M = map(int, input().split())\n",
    "\t\tself.nums = list(map(int, input().split()))\n",
    "\n",
    "\t# Algorithm Part\n",
    "\tdef Solution(self)->int:\n",
    "\t\t'''\n",
    "\t\tAlgorithm Solving Problem\n",
    "\t\t'''\n",
    "\t\t# Get data from self\n",
    "\t\tN, M = self.N, self.M\n",
    "\t\tglobal nums # Declare 'nums' global to influ 'class bfSumCurIdx'\n",
    "\t\tnums = sorted(self.nums) # ASC\n",
    "\n",
    "\t\tres = []\n",
    "\t\tcur = bfSumCurIdx(0, 0) # Start From bfSum=CurIdx=0\n",
    "\t\theap = [] # Heap Sort List\n",
    "\n",
    "\t\tfor _ in range(M):\n",
    "\t\t\tnxt_idx = cur.idx + 1 # Move Index Pointer\n",
    "\t\t\tres.append(str(cur.CurS))\n",
    "\t\t\t\n",
    "\t\t\t# Pop and Continue Without Push\n",
    "\t\t\tif nxt_idx >= N:\n",
    "\t\t\t\tpass\n",
    "\t\t\t# Within Bounds & Possible:\n",
    "\t\t\telse:\n",
    "\t\t\t\t# PUT In HeapSort With nums[cur.idx]\n",
    "\t\t\t\theapq.heappush(heap, bfSumCurIdx(cur.CurS, nxt_idx))\n",
    "\t\t\t\t# PUT In HeapSort Without nums[cur.idx]\n",
    "\t\t\t\theapq.heappush(heap, bfSumCurIdx(cur.PrevS, nxt_idx))\n",
    "\t\t\t\n",
    "\t\t\tif heap: # Consider Last in Full Permutation\n",
    "\t\t\t\tcur = heapq.heappop(heap) # Pop Min 'CurS' in Heap then Reconstruct Heap\n",
    "\n",
    "\t\treturn '\\n'.join(res)\n",
    "\n",
    "# Execution Part\n",
    "if __name__ == \"__main__\":\n",
    "\t# Instantiate\n",
    "\tobj = AlGORITHM()\n",
    "\t# Get Input\n",
    "\tobj.GetInput()\n",
    "\t# Get Result\n",
    "\tprint(obj.Solution())\n"
   ]
  },
  {
   "cell_type": "markdown",
   "metadata": {},
   "source": [
    "# Test Cases\n",
    "```\n",
    "5 6\n",
    "1 1 2 3 3\n",
    "\n",
    "3 5\n",
    "1 100 101\n",
    "\n",
    "10 1023\n",
    "1 9 2 8 3 7 4 6 5 5\n",
    "\n",
    "1 1\n",
    "100\n",
    "```"
   ]
  }
 ],
 "metadata": {
  "kernelspec": {
   "display_name": "Python 3",
   "language": "python",
   "name": "python3"
  },
  "language_info": {
   "codemirror_mode": {
    "name": "ipython",
    "version": 3
   },
   "file_extension": ".py",
   "mimetype": "text/x-python",
   "name": "python",
   "nbconvert_exporter": "python",
   "pygments_lexer": "ipython3",
   "version": "3.11.4"
  },
  "orig_nbformat": 4
 },
 "nbformat": 4,
 "nbformat_minor": 2
}
