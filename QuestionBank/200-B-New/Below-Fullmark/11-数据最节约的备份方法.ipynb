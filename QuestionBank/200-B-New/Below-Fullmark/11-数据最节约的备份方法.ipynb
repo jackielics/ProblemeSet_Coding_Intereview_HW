{
 "cells": [
  {
   "cell_type": "markdown",
   "metadata": {},
   "source": [
    "# Topic\n",
    "11-数据最节约的备份方法  \n",
    "EcoCopy-HUAWEI-CodingInterview"
   ]
  },
  {
   "cell_type": "markdown",
   "metadata": {},
   "source": [
    "# Problem Description\n",
    "![https://blog.csdn.net/qfc_128220/article/details/131019925](https://res.cloudinary.com/dnyeldv5r/image/upload/v1691065064/2023-08-03_201709_trdw8k.png)"
   ]
  },
  {
   "cell_type": "markdown",
   "metadata": {},
   "source": [
    "# Key Point & Tag\n",
    "Difficulty Assessment: Medium  \n",
    "Tag: Backtrack DFS Recurse  \n",
    "Similar Problem:  [koko-eating-bananas](https://leetcode.com/problems/koko-eating-bananas/)"
   ]
  },
  {
   "cell_type": "markdown",
   "metadata": {},
   "source": [
    "# Code"
   ]
  },
  {
   "cell_type": "code",
   "execution_count": 1,
   "metadata": {},
   "outputs": [
    {
     "ename": "TypeError",
     "evalue": "EcoCopy.Solution.<locals>.backtrack() takes 2 positional arguments but 3 were given",
     "output_type": "error",
     "traceback": [
      "\u001b[1;31m---------------------------------------------------------------------------\u001b[0m",
      "\u001b[1;31mTypeError\u001b[0m                                 Traceback (most recent call last)",
      "Cell \u001b[1;32mIn[1], line 47\u001b[0m\n\u001b[0;32m     45\u001b[0m obj\u001b[39m.\u001b[39mGetInput()\n\u001b[0;32m     46\u001b[0m \u001b[39m# Get Result\u001b[39;00m\n\u001b[1;32m---> 47\u001b[0m \u001b[39mprint\u001b[39m(obj\u001b[39m.\u001b[39;49mSolution())\n",
      "Cell \u001b[1;32mIn[1], line 37\u001b[0m, in \u001b[0;36mEcoCopy.Solution\u001b[1;34m(self)\u001b[0m\n\u001b[0;32m     34\u001b[0m \t\tbacktrack(i \u001b[39m+\u001b[39m \u001b[39m1\u001b[39m, cap\u001b[39m.\u001b[39mcopy())\n\u001b[0;32m     36\u001b[0m \u001b[39m# start from index_elem=0, all full(500) capacity, first_available_cap=0\u001b[39;00m\n\u001b[1;32m---> 37\u001b[0m backtrack(\u001b[39m0\u001b[39;49m, [\u001b[39m500\u001b[39;49m] \u001b[39m*\u001b[39;49m \u001b[39mlen\u001b[39;49m(arr), \u001b[39m0\u001b[39;49m) \n\u001b[0;32m     38\u001b[0m \u001b[39mreturn\u001b[39;00m res\n",
      "\u001b[1;31mTypeError\u001b[0m: EcoCopy.Solution.<locals>.backtrack() takes 2 positional arguments but 3 were given"
     ]
    }
   ],
   "source": [
    "class EcoCopy:\n",
    "\t# Input Part\n",
    "\tdef GetInput(self)->None:\n",
    "\t\t'''\n",
    "\t\tGet Input Data and Preprocess Data\n",
    "\t\t'''\n",
    "\t\tself.arr = list(map(int, input().strip().split(',')))\n",
    "\n",
    "\t# Algorithm Part\n",
    "\tdef Solution(self)->int:\n",
    "\t\t'''\n",
    "\t\tAlgorithm Solving Problem\n",
    "\t\t'''\n",
    "\t\t# Get data from self\n",
    "\t\tarr = sorted(self.arr)\n",
    "\t\t\n",
    "\t\tres = set() # all possible results\n",
    "\n",
    "\t\tdef backtrack(i, cap, ic):\n",
    "\t\t\t'''\n",
    "\t\t\ti:\tindex current unassigned elem\n",
    "\t\t\tcur:\tcurrent status(value) of each container\n",
    "\t\t\t'''\n",
    "\t\t\tif i >= len(arr): # all elems assigned\n",
    "\t\t\t\tres.add(len(arr) - cap.count(500))\n",
    "\t\t\t\treturn \n",
    "\t\t\telif min(arr) < 0: # run out\n",
    "\t\t\t\treturn \n",
    "\t\t\t\n",
    "\t\t\tcap[ic] -= arr[i] # fill in current capacity\n",
    "\t\t\t\n",
    "\t\t\tbacktrack(i, cap[ic], ic)\n",
    "\t\t\t\n",
    "\n",
    "\t\t\t# backtrack(i + 1, cap.copy())\n",
    "\t\t\t# for j in range(len(cap)):\n",
    "\t\t\t# \tcap[j] -= arr[i]\n",
    "\t\t\t# \tbacktrack(i + 1, cap.copy())\n",
    "\n",
    "\t\t# start from index_elem=0, all full(500) capacity, first_available_cap=0\n",
    "\t\tbacktrack(0, [500] * len(arr), 0) \n",
    "\t\treturn res \n",
    "\n",
    "# Execution Part\n",
    "if __name__ == \"__main__\":\n",
    "\t# Instantiate\n",
    "\tobj = EcoCopy()\n",
    "\t# Get Input\n",
    "\tobj.GetInput()\n",
    "\t# Get Result\n",
    "\tprint(obj.Solution())\n"
   ]
  },
  {
   "cell_type": "code",
   "execution_count": null,
   "metadata": {},
   "outputs": [],
   "source": [
    "class EcoCopy:\n",
    "\t# Input Part\n",
    "\tdef GetInput(self)->None:\n",
    "\t\t'''\n",
    "\t\tGet Input Data and Preprocess Data\n",
    "\t\t'''\n",
    "\t\tself.arr = list(map(int, input().strip().split(',')))\n",
    "\n",
    "\t# Algorithm Part\n",
    "\tdef Solution(self)->int:\n",
    "\t\t'''\n",
    "\t\tAlgorithm Solving Problem\n",
    "\t\t'''\n",
    "\t\t# Get data from self\n",
    "\t\tarr = sorted(self.arr)\n",
    "\t\t\n",
    "\t\tres = 0\n",
    "\t\tcap = 0\n",
    "\t\tl, r = 0, len(arr) - 1\n",
    "\t\twhile l <= r:\n",
    "\t\t\t\n",
    "\t\t\tif cap - arr[l] < 0:\n",
    "\t\t\t\tres += 1 # add a package\n",
    "\t\t\t\tcap = 500 # reset capacity\n",
    "\t\t\t\tcap -= arr[r] # Minus Right\n",
    "\t\t\t\tr -= 1 # move [r]\n",
    "\t\t\telse:\n",
    "\t\t\t\tcap -= arr[l] # update remaining capacity\n",
    "\t\t\t\tl += 1 # move [l]\n",
    "\n",
    "\t\t\n",
    "\t\treturn res \n",
    "\n",
    "# Execution Part\n",
    "if __name__ == \"__main__\":\n",
    "\t# Instantiate\n",
    "\tobj = EcoCopy()\n",
    "\t# Get Input\n",
    "\tobj.GetInput()\n",
    "\t# Get Result\n",
    "\tprint(obj.Solution())\n"
   ]
  },
  {
   "cell_type": "markdown",
   "metadata": {},
   "source": [
    "# Test Cases\n",
    "```\n",
    "100,500,300,200,400\n",
    "\n",
    "1,100,200,300\n",
    "\n",
    "50,80,100,150,170,200\n",
    "\n",
    "50,150,200,250,300,400,450,490\n",
    "```"
   ]
  }
 ],
 "metadata": {
  "kernelspec": {
   "display_name": "Python 3",
   "language": "python",
   "name": "python3"
  },
  "language_info": {
   "codemirror_mode": {
    "name": "ipython",
    "version": 3
   },
   "file_extension": ".py",
   "mimetype": "text/x-python",
   "name": "python",
   "nbconvert_exporter": "python",
   "pygments_lexer": "ipython3",
   "version": "3.11.4"
  },
  "orig_nbformat": 4
 },
 "nbformat": 4,
 "nbformat_minor": 2
}
