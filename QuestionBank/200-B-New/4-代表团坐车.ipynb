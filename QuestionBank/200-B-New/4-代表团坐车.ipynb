{
 "cells": [
  {
   "cell_type": "markdown",
   "metadata": {},
   "source": [
    "# Topic\n",
    "4-代表团坐车  \n",
    "DelegationRide-HUAWEI-CodingInterview"
   ]
  },
  {
   "cell_type": "markdown",
   "metadata": {},
   "source": [
    "# Problem Description\n",
    "![https://blog.csdn.net/qfc_128220/article/details/130792462](https://res.cloudinary.com/dnyeldv5r/image/upload/v1690631178/2023-07-29_194551_dbt5yj.png)"
   ]
  },
  {
   "cell_type": "markdown",
   "metadata": {},
   "source": [
    "# Key Point & Tag\n",
    "Difficulty Assessment: Median  \n",
    "Tag: DP, DFS  \n",
    "Similar Problem:  "
   ]
  },
  {
   "cell_type": "markdown",
   "metadata": {},
   "source": [
    "# Code"
   ]
  },
  {
   "cell_type": "code",
   "execution_count": 5,
   "metadata": {},
   "outputs": [
    {
     "name": "stdout",
     "output_type": "stream",
     "text": [
      "2\n"
     ]
    }
   ],
   "source": [
    "class DelegationRide:\n",
    "\t# Input Part\n",
    "\tdef GetInput(self)->None:\n",
    "\t\t'''\n",
    "\t\tGet Input Data and Preprocess Data\n",
    "\t\t'''\n",
    "\t\tself.arr = list(map(int, input().split(\",\")))\n",
    "\t\tself.T = int(input()) \n",
    "\n",
    "\t# Algorithm Part\n",
    "\tdef Solution(self)->int:\n",
    "\t\t'''\n",
    "\t\tAlgorithm Solving Problem\n",
    "\t\t'''\n",
    "\t\t# Get data from self\n",
    "\t\tT = self.T\n",
    "\t\tarr = self.arr\n",
    "\n",
    "\t\tif T <= 0 or not arr: # no room\n",
    "\t\t\treturn 0\n",
    "\t\t\n",
    "\t\tDP = [[0] * (len(arr) + 1) for _ in range(T + 1)] # DP[0][...] = 1\n",
    "\n",
    "\t\tfor tar in range(T + 1): # row: used amount of elems [0, arr[0],...]\n",
    "\t\t\tfor idx in range(len(arr) + 1): # col: total from 0 to N\n",
    "\t\t\t\tif tar == 0: # DP[0][...] = 1, take none\n",
    "\t\t\t\t\tDP[tar][idx] = 1\n",
    "\t\t\t\telse:\n",
    "\t\t\t\t\tif idx == 0:\n",
    "\t\t\t\t\t\tDP[tar][idx] = 0 # no ways to sum up to i(i > 0) using j solely\n",
    "\t\t\t\t\tif idx > 0:\n",
    "\t\t\t\t\t\tDP[tar][idx] += DP[tar][idx - 1] # add former(i - 1)\n",
    "\t\t\t\t\t\tif tar - arr[idx - 1] >= 0:\n",
    "\t\t\t\t\t\t\tDP[tar][idx] += DP[tar - arr[idx - 1]][idx - 1] # \n",
    "\n",
    "\n",
    "\t\treturn DP[-1][-1]\n",
    "\n",
    "# Execution Part\n",
    "if __name__ == \"__main__\":\n",
    "\t# Instantiate\n",
    "\tobj = DelegationRide()\n",
    "\t# Get Input\n",
    "\tobj.GetInput()\n",
    "\t# Get Result\n",
    "\tprint(obj.Solution())\n"
   ]
  },
  {
   "cell_type": "markdown",
   "metadata": {},
   "source": [
    "# Test Cases\n",
    "```\n",
    "5,4,2,3,2,4,9\n",
    "10\n",
    "```"
   ]
  }
 ],
 "metadata": {
  "kernelspec": {
   "display_name": "Python 3",
   "language": "python",
   "name": "python3"
  },
  "language_info": {
   "codemirror_mode": {
    "name": "ipython",
    "version": 3
   },
   "file_extension": ".py",
   "mimetype": "text/x-python",
   "name": "python",
   "nbconvert_exporter": "python",
   "pygments_lexer": "ipython3",
   "version": "3.11.4"
  },
  "orig_nbformat": 4
 },
 "nbformat": 4,
 "nbformat_minor": 2
}
