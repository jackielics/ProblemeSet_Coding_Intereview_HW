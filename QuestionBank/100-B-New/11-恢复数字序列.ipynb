{
 "cells": [
  {
   "cell_type": "markdown",
   "metadata": {},
   "source": [
    "# Topic\n",
    "11-恢复数字序列  \n",
    "RestoreDigSeq-HUAWEI-CodingInterview"
   ]
  },
  {
   "cell_type": "markdown",
   "metadata": {},
   "source": [
    "# Problem Description\n",
    "![https://fcqian.blog.csdn.net/article/details/130912996](https://res.cloudinary.com/dnyeldv5r/image/upload/v1690264786/2023-07-25_13-59-10_mheowk.png)"
   ]
  },
  {
   "cell_type": "markdown",
   "metadata": {},
   "source": [
    "# Key Point & Tag\n",
    "Difficulty Assessment: Easy"
   ]
  },
  {
   "cell_type": "markdown",
   "metadata": {},
   "source": [
    "# Code"
   ]
  },
  {
   "cell_type": "code",
   "execution_count": 2,
   "metadata": {},
   "outputs": [
    {
     "name": "stdout",
     "output_type": "stream",
     "text": [
      "8\n"
     ]
    }
   ],
   "source": [
    "class RestoreDigSeq:\n",
    "\t# Input Part\n",
    "\tdef get_input(self)->dict:\n",
    "\t\t'''\n",
    "\t\tGet Input Data\n",
    "\t\t'''\n",
    "\t\tarr, n = map(str, input().strip().split()) # .strip() remove space in each end\n",
    "\t\treturn {'n': n, 'arr': arr}\n",
    "\t\n",
    "\t# Algorithm Part\n",
    "\tdef Solution(self, n, arr)->int:\n",
    "\t\t'''\n",
    "\t\tSolve Problem\n",
    "\t\t'''\n",
    "\t\tdic, dic_i = {i: 0 for i in range(10)}, {i: 0 for i in range(10)}\n",
    "\t\tfor v in range(n): # from Zero to n-1\n",
    "\t\t\tfor c in str(v):\n",
    "\t\t\t\tdic[int(c)] += 1\n",
    "\t\tfor c in arr:\n",
    "\t\t\tdic_i[int(c)] += 1\n",
    "\t\tcur = n # current next max\n",
    "\t\twhile True:\n",
    "\t\t\tif dic_i == dic:\n",
    "\t\t\t\tbreak\n",
    "\t\t\tfor c in str(cur): # add new\n",
    "\t\t\t\tdic[int(c)] += 1\n",
    "\n",
    "\t\t\tfor c in str(cur - n): # remove odd\n",
    "\t\t\t\tdic[int(c)] -= 1\n",
    "\n",
    "\t\t\tcur += 1\n",
    "\n",
    "\t\treturn cur - n \n",
    "\n",
    "# Execution Part\n",
    "if __name__ == \"__main__\":\n",
    "\t# Instantiate \n",
    "\tobj = RestoreDigSeq()\n",
    "\t# Get Input\n",
    "\tdata = obj.get_input()\n",
    "\t# Get Result\n",
    "\tprint(obj.Solution(int(data['n']), data['arr']))\n"
   ]
  },
  {
   "cell_type": "markdown",
   "metadata": {},
   "source": [
    "# Test Cases\n",
    "```\n",
    "19801211 5\n",
    "```"
   ]
  }
 ],
 "metadata": {
  "kernelspec": {
   "display_name": "Python 3",
   "language": "python",
   "name": "python3"
  },
  "language_info": {
   "codemirror_mode": {
    "name": "ipython",
    "version": 3
   },
   "file_extension": ".py",
   "mimetype": "text/x-python",
   "name": "python",
   "nbconvert_exporter": "python",
   "pygments_lexer": "ipython3",
   "version": "3.11.4"
  },
  "orig_nbformat": 4
 },
 "nbformat": 4,
 "nbformat_minor": 2
}
