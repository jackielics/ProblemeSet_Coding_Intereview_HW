{
 "cells": [
  {
   "cell_type": "markdown",
   "metadata": {},
   "source": [
    "# Title\n",
    "3-AI面板识别  \n",
    "AiPanelRecognition-HUAWEI-CodingInterview"
   ]
  },
  {
   "cell_type": "markdown",
   "metadata": {},
   "source": [
    "# Problem Description\n",
    "![https://fcqian.blog.csdn.net/article/details/130770084](https://res.cloudinary.com/dnyeldv5r/image/upload/v1690122178/2023-07-23_222025_hs59hh.png)"
   ]
  },
  {
   "cell_type": "markdown",
   "metadata": {},
   "source": [
    "# Key Point & Tag\n",
    "Difficulty Assessment: Easy"
   ]
  },
  {
   "cell_type": "markdown",
   "metadata": {},
   "source": [
    "# Code"
   ]
  },
  {
   "cell_type": "code",
   "execution_count": 3,
   "metadata": {},
   "outputs": [
    {
     "name": "stdout",
     "output_type": "stream",
     "text": [
      "[1, 2, 3, 5, 4]\n"
     ]
    }
   ],
   "source": [
    "# Input Part\n",
    "def get_input()->dict:\n",
    "\t'''\n",
    "    Get Input Data\n",
    "\t'''\n",
    "\t# amount of lights\n",
    "\tn = int(input())\n",
    "\t# [id, x1, y1, x2, y2]\n",
    "\tmat = [dict(zip(['id', 'x1', 'y1', 'x2', 'y2'], map(int, input().split()))) for _ in range(n)]\n",
    "\n",
    "\treturn {'n': n, 'mat':mat}\n",
    "\n",
    "# :Algorithm Part\n",
    "class MonitorCounter:\n",
    "\tdef Solution(self, n, mat)->str:\n",
    "\t\tres = []\n",
    "\t\tmat.sort(key = lambda x: [x['y1'], x['x1']]) # sort by height(y1) ascending then x1\n",
    "\t\tcur = 0 # current index indicator\n",
    "\t\twhile cur < n:\n",
    "\t\t\tres.append(mat[cur]['id']) # base light\n",
    "\t\t\tbh = mat[cur]['y2'] - mat[cur]['y1'] # base height\n",
    "\t\t\t# Find lights shorter no greater than 1/2 its height\n",
    "\t\t\tcur_i = cur + 1\n",
    "\t\t\twhile cur_i < n:\n",
    "\t\t\t\th_diff = mat[cur_i]['y1'] - mat[cur]['y1'] # difference of height\n",
    "\t\t\t\tif h_diff <= bh/2:\n",
    "\t\t\t\t\tres.append(mat[cur_i]['id'])\n",
    "\t\t\t\t\tcur_i = cur_i + 1\n",
    "\t\t\t\telse:\n",
    "\t\t\t\t\tbreak\n",
    "\t\t\tcur = cur_i # change base light to next\n",
    "\n",
    "\t\treturn ' '.join([str(v) for v in res])\n",
    "\n",
    "# Execution Part\n",
    "if __name__ == \"__main__\":\n",
    "\t# Get Input\n",
    "\tdata = get_input()\n",
    "\n",
    "\t# Get Result\n",
    "\tprint(MonitorCounter().Solution(data['n'], data['mat']))\n"
   ]
  },
  {
   "cell_type": "markdown",
   "metadata": {},
   "source": [
    "# Test Cases\n",
    "```\n",
    "5\n",
    "1 0 0 2 2\n",
    "2 6 1 8 3\n",
    "3 3 2 5 4\n",
    "5 5 4 7 6\n",
    "4 0 4 2 6\n",
    "```"
   ]
  }
 ],
 "metadata": {
  "kernelspec": {
   "display_name": "Python 3",
   "language": "python",
   "name": "python3"
  },
  "language_info": {
   "codemirror_mode": {
    "name": "ipython",
    "version": 3
   },
   "file_extension": ".py",
   "mimetype": "text/x-python",
   "name": "python",
   "nbconvert_exporter": "python",
   "pygments_lexer": "ipython3",
   "version": "3.11.4"
  },
  "orig_nbformat": 4
 },
 "nbformat": 4,
 "nbformat_minor": 2
}
