{
 "cells": [
  {
   "cell_type": "markdown",
   "metadata": {},
   "source": [
    "# Topic\n",
    "24-数字序列比大小  \n",
    "SeqSize-HUAWEI-CodingInterview"
   ]
  },
  {
   "cell_type": "markdown",
   "metadata": {},
   "source": [
    "# Problem Description\n",
    "![https://blog.csdn.net/qfc_128220/article/details/131185797](https://res.cloudinary.com/dnyeldv5r/image/upload/v1691338264/2023-08-07_001032_mvswuu.png)"
   ]
  },
  {
   "cell_type": "markdown",
   "metadata": {},
   "source": [
    "# Key Point & Tag\n",
    "|  Key   | Value  |\n",
    "|  :----:  | :----:  |\n",
    "| Difficulty Assessment  | Medium⭐⭐ |\n",
    "| Tag  | Greedy, Two Pointer  |\n",
    "| Similar Problem | [advantage-shuffle](https://leetcode.com/problems/advantage-shuffle/description/) |"
   ]
  },
  {
   "cell_type": "markdown",
   "metadata": {},
   "source": [
    "# Code"
   ]
  },
  {
   "cell_type": "code",
   "execution_count": 2,
   "metadata": {},
   "outputs": [
    {
     "name": "stdout",
     "output_type": "stream",
     "text": [
      "3\n"
     ]
    }
   ],
   "source": [
    "class SeqSize:\n",
    "\t# Input Part\n",
    "\tdef GetInput(self)->None:\n",
    "\t\t'''\n",
    "\t\tGet Input Data and Preprocess Data\n",
    "\t\t'''\n",
    "\t\tself.N = int(input()) \n",
    "\t\tself.nums1 = list(map(int, input().strip().split(' ')))\n",
    "\t\tself.nums2 = list(map(int, input().strip().split(' ')))\n",
    "\n",
    "\t\t# self.nums1 = [4, 8, 10]\n",
    "\t\t# self.nums2 = [3, 6, 4]\n",
    "\n",
    "\t# Algorithm Part\n",
    "\tdef Solution(self)->int:\n",
    "\t\t'''\n",
    "\t\tAlgorithm Solving Problem\n",
    "\t\t'''\n",
    "\t\t# Get data from self\n",
    "\t\tnums1, nums2 = sorted(self.nums1), sorted(self.nums2) # ASC\n",
    "\t\t\n",
    "\t\tl1 = l2 = 0 # Weakest Pointer\n",
    "\t\tr1 = r2 = len(nums1) - 1 # Strongest Pointer\n",
    "\t\tres = 0 # Total Scores\n",
    "\t\t\n",
    "\t\twhile l1 <= r1:\n",
    "\t\t\tif nums1[r1] > nums2[r2]: # Compare B/W Strongest If Stronger\n",
    "\t\t\t\tres += 1 # Update Res\n",
    "\t\t\t\tr1 -= 1 # Move Pointer\n",
    "\t\t\t\tr2 -= 1\n",
    "\t\t\telif nums1[r1] < nums2[r2]: # If Weaker, Compare Weakest with Strongest\n",
    "\t\t\t\tres -= 1\n",
    "\t\t\t\tl1 += 1\n",
    "\t\t\t\tr2 -= 1\n",
    "\t\t\telse: # Strongest Equal, Compare Strongest with a Must-lose\n",
    "\t\t\t\t# nums1's Current Weakest is not a Must-lose, Compare Weakest\n",
    "\t\t\t\tif nums1[l1] > nums2[l2]: \n",
    "\t\t\t\t\tres += 1\n",
    "\t\t\t\t\tl1 += 1\n",
    "\t\t\t\t\tl2 += 1\n",
    "\t\t\t\telse: # Compare nums1's Current Weakest with nums2's Strongest\n",
    "\t\t\t\t\tif nums2[r2] > nums1[l1]:\n",
    "\t\t\t\t\t\tres -= 1\n",
    "\t\t\t\t\tl1 += 1\n",
    "\t\t\t\t\tr2 -= 1\n",
    "\n",
    "\t\treturn res\n",
    "\n",
    "\n",
    "# Execution Part\n",
    "if __name__ == \"__main__\":\n",
    "\t# Instantiate\n",
    "\tobj = SeqSize()\n",
    "\t# Get Input\n",
    "\tobj.GetInput()\n",
    "\t# Get Result\n",
    "\tprint(obj.Solution())\n"
   ]
  },
  {
   "cell_type": "markdown",
   "metadata": {},
   "source": [
    "# Test Cases\n",
    "```\n",
    "3\n",
    "4 8 10\n",
    "3 6 4\n",
    "```"
   ]
  }
 ],
 "metadata": {
  "kernelspec": {
   "display_name": "Python 3",
   "language": "python",
   "name": "python3"
  },
  "language_info": {
   "codemirror_mode": {
    "name": "ipython",
    "version": 3
   },
   "file_extension": ".py",
   "mimetype": "text/x-python",
   "name": "python",
   "nbconvert_exporter": "python",
   "pygments_lexer": "ipython3",
   "version": "3.11.4"
  },
  "orig_nbformat": 4
 },
 "nbformat": 4,
 "nbformat_minor": 2
}
