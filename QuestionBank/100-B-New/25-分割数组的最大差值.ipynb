{
 "cells": [
  {
   "cell_type": "markdown",
   "metadata": {},
   "source": [
    "# Topic\n",
    "25-分割数组的最大差值  \n",
    "SplitArrayDiff-HUAWEI-CodingInterview"
   ]
  },
  {
   "cell_type": "markdown",
   "metadata": {},
   "source": [
    "# Problem Description\n",
    "![https://fcqian.blog.csdn.net/article/details/130767443](https://res.cloudinary.com/dnyeldv5r/image/upload/v1690469027/2023-07-27_224313_ae4c9o.png)"
   ]
  },
  {
   "cell_type": "markdown",
   "metadata": {},
   "source": [
    "# Key Point & Tag\n",
    "Difficulty Assessment: Easy  "
   ]
  },
  {
   "cell_type": "markdown",
   "metadata": {},
   "source": [
    "# Code"
   ]
  },
  {
   "cell_type": "code",
   "execution_count": null,
   "metadata": {},
   "outputs": [],
   "source": [
    "class SplitArrayDiff:\n",
    "\t# Input Part\n",
    "\tdef GetInput(self)->None:\n",
    "\t\t'''\n",
    "\t\tGet Input Data and Preprocess Data\n",
    "\t\t'''\n",
    "\t\tself.n = int(input()) # amount of elems\n",
    "\t\tself.arr = list(map(int, input().strip().split(' ')))\n",
    "\t\n",
    "\t# Algorithm Part\n",
    "\tdef Solution(self)->int:\n",
    "\t\t'''\n",
    "\t\tAlgorithm Solving Problem\n",
    "\t\t'''\n",
    "\t\t# Get data from self\n",
    "\t\tn = self.n\n",
    "\t\tarr = self.arr\n",
    "\n",
    "\t\tres = float('-inf')\n",
    "\n",
    "\t\tlsum, rsum = 0, sum(arr)\n",
    "\n",
    "\t\tfor i in range(len(arr) - 1):\n",
    "\t\t\tlsum += arr[i]\n",
    "\t\t\trsum -= arr[i]\n",
    "\t\t\tres = max(res, abs(lsum - rsum))\n",
    "\n",
    "\t\treturn res \n",
    "\n",
    "# Execution Part\n",
    "if __name__ == \"__main__\":\n",
    "\t# Instantiate\n",
    "\tobj = SplitArrayDiff()\n",
    "\t# Get Input\n",
    "\tobj.GetInput()\n",
    "\t# Get Result\n",
    "\tprint(obj.Solution())\n"
   ]
  },
  {
   "cell_type": "markdown",
   "metadata": {},
   "source": [
    "# Test Cases\n",
    "```\n",
    "\n",
    "```"
   ]
  }
 ],
 "metadata": {
  "kernelspec": {
   "display_name": "Python 3",
   "language": "python",
   "name": "python3"
  },
  "language_info": {
   "name": "python",
   "version": "3.11.4"
  },
  "orig_nbformat": 4
 },
 "nbformat": 4,
 "nbformat_minor": 2
}
