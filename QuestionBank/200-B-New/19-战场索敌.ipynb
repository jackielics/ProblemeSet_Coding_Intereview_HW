{
 "cells": [
  {
   "cell_type": "markdown",
   "metadata": {},
   "source": [
    "# Topic\n",
    "19-战场索敌  \n",
    "FindEnemy-HUAWEI-CodingInterview"
   ]
  },
  {
   "cell_type": "markdown",
   "metadata": {},
   "source": [
    "# Problem Description\n",
    "![https://blog.csdn.net/qfc_128220/article/details/130774007](https://res.cloudinary.com/dnyeldv5r/image/upload/v1691300642/2023-08-06_134331_csg5jf.png)"
   ]
  },
  {
   "cell_type": "markdown",
   "metadata": {},
   "source": [
    "# Key Point & Tag\n",
    "Difficulty Assessment: Medium  \n",
    "Tag:   \n",
    "Similar Problem: []()  "
   ]
  },
  {
   "cell_type": "markdown",
   "metadata": {},
   "source": [
    "# Code"
   ]
  },
  {
   "cell_type": "code",
   "execution_count": 13,
   "metadata": {},
   "outputs": [
    {
     "ename": "RecursionError",
     "evalue": "maximum recursion depth exceeded",
     "output_type": "error",
     "traceback": [
      "\u001b[1;31m---------------------------------------------------------------------------\u001b[0m",
      "\u001b[1;31mRecursionError\u001b[0m                            Traceback (most recent call last)",
      "Cell \u001b[1;32mIn[13], line 67\u001b[0m\n\u001b[0;32m     65\u001b[0m obj\u001b[39m.\u001b[39mGetInput()\n\u001b[0;32m     66\u001b[0m \u001b[39m# Get Result\u001b[39;00m\n\u001b[1;32m---> 67\u001b[0m \u001b[39mprint\u001b[39m(obj\u001b[39m.\u001b[39;49mSolution())\n",
      "Cell \u001b[1;32mIn[13], line 56\u001b[0m, in \u001b[0;36mFindEnemy.Solution\u001b[1;34m(self)\u001b[0m\n\u001b[0;32m     54\u001b[0m \t\u001b[39mfor\u001b[39;00m c \u001b[39min\u001b[39;00m \u001b[39mrange\u001b[39m(C):\n\u001b[0;32m     55\u001b[0m \t\t\u001b[39mif\u001b[39;00m mat[r][c] \u001b[39m!=\u001b[39m \u001b[39m'\u001b[39m\u001b[39m#\u001b[39m\u001b[39m'\u001b[39m:\n\u001b[1;32m---> 56\u001b[0m \t\t\tcnt \u001b[39m=\u001b[39m dfs(r, c) \u001b[39m# count of 'E's in a area\u001b[39;00m\n\u001b[0;32m     57\u001b[0m \t\t\tres \u001b[39m+\u001b[39m\u001b[39m=\u001b[39m (cnt \u001b[39m<\u001b[39m K)\n\u001b[0;32m     58\u001b[0m \u001b[39mreturn\u001b[39;00m res\n",
      "Cell \u001b[1;32mIn[13], line 50\u001b[0m, in \u001b[0;36mFindEnemy.Solution.<locals>.dfs\u001b[1;34m(i, j)\u001b[0m\n\u001b[0;32m     48\u001b[0m \t\t\u001b[39m# Within Bounds & Accessible\u001b[39;00m\n\u001b[0;32m     49\u001b[0m \t\t\u001b[39mif\u001b[39;00m \u001b[39m-\u001b[39m\u001b[39m1\u001b[39m \u001b[39m<\u001b[39m i1 \u001b[39m<\u001b[39m R \u001b[39mand\u001b[39;00m \u001b[39m-\u001b[39m\u001b[39m1\u001b[39m \u001b[39m<\u001b[39m j1 \u001b[39m<\u001b[39m C \u001b[39mand\u001b[39;00m mat[i1][j1] \u001b[39m!=\u001b[39m \u001b[39m'\u001b[39m\u001b[39m#\u001b[39m\u001b[39m'\u001b[39m:\n\u001b[1;32m---> 50\u001b[0m \t\t\tret \u001b[39m+\u001b[39m\u001b[39m=\u001b[39m dfs(i1, j1)\n\u001b[0;32m     51\u001b[0m \u001b[39mreturn\u001b[39;00m ret\n",
      "Cell \u001b[1;32mIn[13], line 50\u001b[0m, in \u001b[0;36mFindEnemy.Solution.<locals>.dfs\u001b[1;34m(i, j)\u001b[0m\n\u001b[0;32m     48\u001b[0m \t\t\u001b[39m# Within Bounds & Accessible\u001b[39;00m\n\u001b[0;32m     49\u001b[0m \t\t\u001b[39mif\u001b[39;00m \u001b[39m-\u001b[39m\u001b[39m1\u001b[39m \u001b[39m<\u001b[39m i1 \u001b[39m<\u001b[39m R \u001b[39mand\u001b[39;00m \u001b[39m-\u001b[39m\u001b[39m1\u001b[39m \u001b[39m<\u001b[39m j1 \u001b[39m<\u001b[39m C \u001b[39mand\u001b[39;00m mat[i1][j1] \u001b[39m!=\u001b[39m \u001b[39m'\u001b[39m\u001b[39m#\u001b[39m\u001b[39m'\u001b[39m:\n\u001b[1;32m---> 50\u001b[0m \t\t\tret \u001b[39m+\u001b[39m\u001b[39m=\u001b[39m dfs(i1, j1)\n\u001b[0;32m     51\u001b[0m \u001b[39mreturn\u001b[39;00m ret\n",
      "    \u001b[1;31m[... skipping similar frames: FindEnemy.Solution.<locals>.dfs at line 50 (2970 times)]\u001b[0m\n",
      "Cell \u001b[1;32mIn[13], line 50\u001b[0m, in \u001b[0;36mFindEnemy.Solution.<locals>.dfs\u001b[1;34m(i, j)\u001b[0m\n\u001b[0;32m     48\u001b[0m \t\t\u001b[39m# Within Bounds & Accessible\u001b[39;00m\n\u001b[0;32m     49\u001b[0m \t\t\u001b[39mif\u001b[39;00m \u001b[39m-\u001b[39m\u001b[39m1\u001b[39m \u001b[39m<\u001b[39m i1 \u001b[39m<\u001b[39m R \u001b[39mand\u001b[39;00m \u001b[39m-\u001b[39m\u001b[39m1\u001b[39m \u001b[39m<\u001b[39m j1 \u001b[39m<\u001b[39m C \u001b[39mand\u001b[39;00m mat[i1][j1] \u001b[39m!=\u001b[39m \u001b[39m'\u001b[39m\u001b[39m#\u001b[39m\u001b[39m'\u001b[39m:\n\u001b[1;32m---> 50\u001b[0m \t\t\tret \u001b[39m+\u001b[39m\u001b[39m=\u001b[39m dfs(i1, j1)\n\u001b[0;32m     51\u001b[0m \u001b[39mreturn\u001b[39;00m ret\n",
      "\u001b[1;31mRecursionError\u001b[0m: maximum recursion depth exceeded"
     ]
    }
   ],
   "source": [
    "class FindEnemy:\n",
    "\t# Input Part\n",
    "\tdef GetInput(self)->None:\n",
    "\t\t'''\n",
    "\t\tGet Input Data and Preprocess Data\n",
    "\t\t'''\n",
    "\t\tself.R, self.C, self.K = map(int, input().strip().split(' '))\n",
    "\t\tself.mat = [list(input()) for _ in range(self.R)]\n",
    "\t\t\n",
    "\t\t# self.R, self.C, self.K = 100, 100, 1\n",
    "\t\t# self.mat = [['.' for _ in range(100)] for _ in range(100)]\n",
    "\n",
    "\t# Algorithm Part\n",
    "\tdef Solution(self)->int:\n",
    "\t\t'''\n",
    "\t\tAlgorithm Solving Problem\n",
    "\t\t'''\n",
    "\t\t# Get data from self\n",
    "\t\tR, C, K = self.R, self.C, self.K\n",
    "\t\tmat = self.mat\n",
    "\t\t\n",
    "\t\tcnt_hash = cnt_E = cnt_dot = 0\n",
    "\t\tfor row in mat:\n",
    "\t\t\tcnt_hash += row.count('#')\n",
    "\t\t\tcnt_E += row.count('E')\n",
    "\t\t\tcnt_dot += row.count('.')\n",
    "\t\t# Single Area to Avoid Recursion Stack Overflow\n",
    "\t\tif cnt_hash == 0: \n",
    "\t\t\tif cnt_E < K:\n",
    "\t\t\t\treturn 1\n",
    "\t\t\telse:\n",
    "\t\t\t\treturn 0\n",
    "\t\t\t\n",
    "\t\tres = 0 # count\n",
    "\n",
    "\t\tdef dfs(i, j):\n",
    "\t\t\t# Unaccessible => Break Recurse\n",
    "\t\t\tif mat[i][j] == '#':\n",
    "\t\t\t\treturn 0\n",
    "\t\t\t# Accessible\n",
    "\t\t\telif mat[i][j] == 'E': # Count + 1\n",
    "\t\t\t\t\tret = 1 # Initial ret\n",
    "\t\t\telif mat[i][j] == '.': # Empty Space\n",
    "\t\t\t\t\tret = 0\n",
    "\t\t\tmat[i][j] = '#' # Mark Visited\n",
    "\t\t\tfor off1, off2 in ((-1, 0), (1, 0), (0, -1), (0, 1)):\n",
    "\t\t\t\t\ti1, j1 = i + off1, j + off2\n",
    "\t\t\t\t\t# Within Bounds & Accessible\n",
    "\t\t\t\t\tif -1 < i1 < R and -1 < j1 < C and mat[i1][j1] != '#':\n",
    "\t\t\t\t\t\tret += dfs(i1, j1)\n",
    "\t\t\treturn ret\n",
    "\n",
    "\t\tfor r in range(R):\n",
    "\t\t\tfor c in range(C):\n",
    "\t\t\t\tif mat[r][c] != '#':\n",
    "\t\t\t\t\tcnt = dfs(r, c) # count of 'E's in a area\n",
    "\t\t\t\t\tres += (cnt < K)\n",
    "\t\treturn res\n",
    "\n",
    "# Execution Part\n",
    "if __name__ == \"__main__\":\n",
    "\t# Instantiate\n",
    "\tobj = FindEnemy()\n",
    "\t# Get Input\n",
    "\tobj.GetInput()\n",
    "\t# Get Result\n",
    "\tprint(obj.Solution())\n"
   ]
  },
  {
   "cell_type": "markdown",
   "metadata": {},
   "source": [
    "# Test Cases\n",
    "```\n",
    "3 5 2\n",
    "..#EE\n",
    "E.#E.\n",
    "###..\n",
    "```"
   ]
  }
 ],
 "metadata": {
  "kernelspec": {
   "display_name": "Python 3",
   "language": "python",
   "name": "python3"
  },
  "language_info": {
   "codemirror_mode": {
    "name": "ipython",
    "version": 3
   },
   "file_extension": ".py",
   "mimetype": "text/x-python",
   "name": "python",
   "nbconvert_exporter": "python",
   "pygments_lexer": "ipython3",
   "version": "3.11.4"
  },
  "orig_nbformat": 4
 },
 "nbformat": 4,
 "nbformat_minor": 2
}
