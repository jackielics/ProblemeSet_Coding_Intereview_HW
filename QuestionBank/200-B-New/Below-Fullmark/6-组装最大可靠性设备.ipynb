{
 "cells": [
  {
   "cell_type": "markdown",
   "metadata": {},
   "source": [
    "# Topic\n",
    "6-组装最大可靠性设备  \n",
    "AssembleMaxReliableDev-HUAWEI-CodingInterview"
   ]
  },
  {
   "cell_type": "markdown",
   "metadata": {},
   "source": [
    "# Problem Description\n",
    "![https://fcqian.blog.csdn.net/article/details/130764202](https://res.cloudinary.com/dnyeldv5r/image/upload/v1690822767/2023-08-01_005841_u9cbzx.png)"
   ]
  },
  {
   "cell_type": "markdown",
   "metadata": {},
   "source": [
    "# Key Point & Tag\n",
    "Difficulty Assessment: Easy  \n",
    "Tag:   \n",
    "Similar Problem:  "
   ]
  },
  {
   "cell_type": "markdown",
   "metadata": {},
   "source": [
    "# Code"
   ]
  },
  {
   "cell_type": "code",
   "execution_count": null,
   "metadata": {},
   "outputs": [],
   "source": [
    "class AssemMaxReliableDev:\n",
    "\t# Input Part\n",
    "\tdef GetInput(self)->None:\n",
    "\t\t'''\n",
    "\t\tGet Input Data and Preprocess Data\n",
    "\t\t'''\n",
    "\t\tself.N = int(input()) \n",
    "\t\tself.R, self.C = map(int, input().strip().split(' '))\n",
    "\t\tself.arr = eval(input())\n",
    "\t\tself.arr1 = list(map(int, input().strip().split(' ')))\n",
    "\t\tself.arr2 = list(map(int, input().strip().split(' ')))\n",
    "\t\tself.mat = [list(map(int, input().split())) for _ in range(self.N)]\n",
    "\t\tself.dic = [dict(zip(['ppt', 'arg'], map(str, input().strip().split(' ')))) for _ in range(self.n)]\n",
    "\n",
    "\n",
    "\t# Algorithm Part\n",
    "\tdef Solution(self)->int:\n",
    "\t\t'''\n",
    "\t\tAlgorithm Solving Problem\n",
    "\t\t'''\n",
    "\t\t# Get data from self\n",
    "\t\tN = self.N\n",
    "\t\tR, C = self.R, self.C\n",
    "\t\tarr = self.arr\n",
    "\t\tarr1, arr2 = self.arr1, self.arr2\n",
    "\t\tmat = self.mat\n",
    "\t\tdic = self.dic\n",
    "\t\t\n",
    "\t\tres = 0\n",
    "\t\t\n",
    "\t\treturn res \n",
    "\n",
    "# Execution Part\n",
    "if __name__ == \"__main__\":\n",
    "\t# Instantiate\n",
    "\tobj = AssemMaxReliableDev()\n",
    "\t# Get Input\n",
    "\tobj.GetInput()\n",
    "\t# Get Result\n",
    "\tprint(obj.Solution())\n"
   ]
  },
  {
   "cell_type": "markdown",
   "metadata": {},
   "source": [
    "# Test Cases\n",
    "```\n",
    "\n",
    "```"
   ]
  }
 ],
 "metadata": {
  "kernelspec": {
   "display_name": "Python 3",
   "language": "python",
   "name": "python3"
  },
  "language_info": {
   "codemirror_mode": {
    "name": "ipython",
    "version": 3
   },
   "file_extension": ".py",
   "mimetype": "text/x-python",
   "name": "python",
   "nbconvert_exporter": "python",
   "pygments_lexer": "ipython3",
   "version": "3.11.4"
  },
  "orig_nbformat": 4
 },
 "nbformat": 4,
 "nbformat_minor": 2
}
