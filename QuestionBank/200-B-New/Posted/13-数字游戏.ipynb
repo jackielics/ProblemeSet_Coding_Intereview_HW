{
 "cells": [
  {
   "cell_type": "markdown",
   "metadata": {},
   "source": [
    "# Topic\n",
    "13-数字游戏  \n",
    "NumGame-HUAWEI-CodingInterview"
   ]
  },
  {
   "cell_type": "markdown",
   "metadata": {},
   "source": [
    "# Problem Description\n",
    "![https://blog.csdn.net/qfc_128220/article/details/130775047?spm=1001.2014.3001.5501](https://res.cloudinary.com/dnyeldv5r/image/upload/v1691229068/2023-08-05_175040_csxbno.png)"
   ]
  },
  {
   "cell_type": "markdown",
   "metadata": {},
   "source": [
    "# Key Point & Tag\n",
    "|  Key   | Value  |\n",
    "|  :----:  | :----:  |\n",
    "| Difficulty Assessment  | Medium⭐⭐ |\n",
    "| Tag  | Math |\n",
    "| Similar Problem | []()|"
   ]
  },
  {
   "cell_type": "markdown",
   "metadata": {},
   "source": [
    "# Approach\n",
    "Math Principle: If x % k == y % k, then (x - y) % k == 0"
   ]
  },
  {
   "cell_type": "markdown",
   "metadata": {},
   "source": [
    "# Code"
   ]
  },
  {
   "cell_type": "code",
   "execution_count": 2,
   "metadata": {},
   "outputs": [
    {
     "name": "stdout",
     "output_type": "stream",
     "text": [
      "1\n"
     ]
    }
   ],
   "source": [
    "class NumGame:\n",
    "\t# Input Part\n",
    "\tdef GetInput(self)->None:\n",
    "\t\t'''\n",
    "\t\tGet Input Data and Preprocess Data\n",
    "\t\t'''\n",
    "\t\tself.T = [] # Target Sum\n",
    "\t\tself.arrs = [] # each list regarding to each Target\n",
    "\t\twhile (input_item := input().strip()) != '':\n",
    "\t\t\tself.T.append(list(map(int, input_item.split(' ')))[1])\n",
    "\t\t\tself.arrs.append(list(map(int, input().strip().split(' '))))\n",
    "\n",
    "\t# Algorithm Part\n",
    "\tdef Solution(self)->int:\n",
    "\t\t'''\n",
    "\t\tAlgorithm Solving Problem\n",
    "\t\tMath Principle: If x % k == y % k, then (x - y) % k == 0\n",
    "\t\t'''\n",
    "\t\t# Get data from self\n",
    "\t\tT = self.T\n",
    "\t\tarrs = self.arrs\n",
    "\n",
    "\t\tres = [] # res for each arr found or not\n",
    "\t\t\n",
    "\t\tfor i in range(len(T)):\n",
    "\t\t\ttar, arr = T[i], arrs[i]\n",
    "\t\t\ttotal = 0 # Total Value From Begining\n",
    "\t\t\tremainder = {0} # Set that Stores Every Remainder\n",
    "\t\t\tfound = False # Secceed or Not \n",
    "\t\t\tfor v in arr:\n",
    "\t\t\t\ttotal += v\n",
    "\t\t\t\tif total % tar in remainder:\n",
    "\t\t\t\t\tres.append('1')\n",
    "\t\t\t\t\tfound = True\n",
    "\t\t\t\t\tbreak # res found, end loop\n",
    "\t\t\t\telse:\n",
    "\t\t\t\t\tremainder.add(total % tar)\n",
    "\t\t\tif not found:\n",
    "\t\t\t\tres.append('0')\n",
    "\n",
    "\t\treturn '\\n'.join(res)\n",
    "\n",
    "# Execution Part\n",
    "if __name__ == \"__main__\":\n",
    "\t# Instantiate\n",
    "\tobj = NumGame()\n",
    "\t# Get Input\n",
    "\tobj.GetInput()\n",
    "\t# Get Result\n",
    "\tprint(obj.Solution())\n"
   ]
  },
  {
   "cell_type": "markdown",
   "metadata": {},
   "source": [
    "# Test Cases\n",
    "```\n",
    "6 7\n",
    "2 12 6 3 5 5\n",
    "10 11\n",
    "1 1 1 1 1 1 1 1 1 1\n",
    "\n",
    "4 7\n",
    "1 3 7 8\n",
    "```"
   ]
  }
 ],
 "metadata": {
  "kernelspec": {
   "display_name": "Python 3",
   "language": "python",
   "name": "python3"
  },
  "language_info": {
   "codemirror_mode": {
    "name": "ipython",
    "version": 3
   },
   "file_extension": ".py",
   "mimetype": "text/x-python",
   "name": "python",
   "nbconvert_exporter": "python",
   "pygments_lexer": "ipython3",
   "version": "3.11.4"
  },
  "orig_nbformat": 4
 },
 "nbformat": 4,
 "nbformat_minor": 2
}
