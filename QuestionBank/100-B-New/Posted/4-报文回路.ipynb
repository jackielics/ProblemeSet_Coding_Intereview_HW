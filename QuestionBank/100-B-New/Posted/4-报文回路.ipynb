{
 "cells": [
  {
   "cell_type": "markdown",
   "metadata": {},
   "source": [
    "# Title\n",
    "4-报文回路  \n",
    "MessageLoop-HUAWEI-CodingInterview"
   ]
  },
  {
   "cell_type": "markdown",
   "metadata": {},
   "source": [
    "# Problem Description\n",
    "![https://blog.csdn.net/qfc_128220/article/details/130768658](https://res.cloudinary.com/dnyeldv5r/image/upload/v1690175577/2023-07-24_131158_gefnvn.png)"
   ]
  },
  {
   "cell_type": "markdown",
   "metadata": {},
   "source": [
    "# Key Point & Tag\n",
    "Difficulty Assessment: Easy"
   ]
  },
  {
   "cell_type": "markdown",
   "metadata": {},
   "source": [
    "# Code"
   ]
  },
  {
   "cell_type": "code",
   "execution_count": 12,
   "metadata": {},
   "outputs": [
    {
     "name": "stdout",
     "output_type": "stream",
     "text": [
      "False\n"
     ]
    }
   ],
   "source": [
    "# Input Part\n",
    "def get_input()->dict:\n",
    "\t'''\n",
    "    Get Input Data\n",
    "\t'''\n",
    "\tn = int(input()) # amount\n",
    "\t# mat = [list(map(str, input().split())) for _ in range(n)]\n",
    "\tdic = [dict(zip(['sender', 'recver'], map(str, input().split()))) for _ in range(n)]\n",
    "\treturn {'n': n, 'dic':dic}\n",
    "\n",
    "# Algorithm  Part\n",
    "class MessageLoopJudger:\n",
    "\tdef Solution(self, n, dic)->bool:\n",
    "\t\tdic_i = {} # {'sender1': [recver1, recver2, ...], ...}\n",
    "\t\t# turn list to dict\n",
    "\t\tfor v in dic:\n",
    "\t\t\t# if not dic.get(v[0], [])\n",
    "\t\t\tdic_i[v['sender']] = dic_i.get(v['sender'], []) + [v['recver']]\n",
    "\t\tfor v in dic:\n",
    "\t\t\tif v['recver'] not in dic_i.keys() or v['sender'] not in dic_i[v['recver']]:\n",
    "\t\t\t\treturn False\n",
    "\t\treturn True\n",
    "\n",
    "# Execution Part\n",
    "if __name__ == \"__main__\":\n",
    "\t# Get Input\n",
    "\tdata = get_input()\n",
    "\t# Get Result\n",
    "\tprint(MessageLoopJudger().Solution(data['n'], data['dic']))"
   ]
  }
 ],
 "metadata": {
  "kernelspec": {
   "display_name": "Python 3",
   "language": "python",
   "name": "python3"
  },
  "language_info": {
   "codemirror_mode": {
    "name": "ipython",
    "version": 3
   },
   "file_extension": ".py",
   "mimetype": "text/x-python",
   "name": "python",
   "nbconvert_exporter": "python",
   "pygments_lexer": "ipython3",
   "version": "3.11.4"
  },
  "orig_nbformat": 4
 },
 "nbformat": 4,
 "nbformat_minor": 2
}
