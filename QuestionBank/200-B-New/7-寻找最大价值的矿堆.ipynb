{
 "cells": [
  {
   "cell_type": "markdown",
   "metadata": {},
   "source": [
    "# Topic\n",
    "7-寻找最大价值的矿堆  \n",
    "MaxValueMine-HUAWEI-CodingInterview"
   ]
  },
  {
   "cell_type": "markdown",
   "metadata": {},
   "source": [
    "# Problem Description\n",
    "![https://fcqian.blog.csdn.net/article/details/130774841](https://res.cloudinary.com/dnyeldv5r/image/upload/v1690867598/2023-08-01_132612_afpau2.png)"
   ]
  },
  {
   "cell_type": "markdown",
   "metadata": {},
   "source": [
    "# Key Point & Tag\n",
    "Difficulty Assessment: Medium  \n",
    "Tag: DFS, recurse, stack  \n",
    "Similar Problem:  "
   ]
  },
  {
   "cell_type": "markdown",
   "metadata": {},
   "source": [
    "# Code\n",
    "## Stack DFS"
   ]
  },
  {
   "cell_type": "code",
   "execution_count": null,
   "metadata": {},
   "outputs": [
    {
     "name": "stdout",
     "output_type": "stream",
     "text": [
      "0\n"
     ]
    }
   ],
   "source": [
    "class MaxValueMine:\n",
    "\t'''\n",
    "\tDFS recurse\n",
    "\t'''\n",
    "\t# Input Part\n",
    "\tdef GetInput(self)->None:\n",
    "\t\t'''\n",
    "\t\tGet Input Data and Preprocess Data\n",
    "\t\t'''\n",
    "\t\tself.mat = []\n",
    "\t\twhile (input_item := input().strip()) != '':\n",
    "\t\t\tself.mat.append([int(x) for x in list(input_item)])\n",
    "\n",
    "\t# Algorithm Part\n",
    "\tdef Solution(self)->int:\n",
    "\t\t'''\n",
    "\t\tAlgorithm Solving Problem\n",
    "\t\t'''\n",
    "\t\t# Get data from self\n",
    "\t\tmat = self.mat\n",
    "\t\tif not mat:\n",
    "\t\t\treturn 0\n",
    "\t\tim, jm = len(mat), len(mat[0]) # max row / col\n",
    "\t\t\n",
    "\t\tdef dfs(i, j): # (x, y)\n",
    "\t\t\tif i == -1 or \\\n",
    "\t\t\t\ti == im or \\\n",
    "\t\t\t\tj == -1 or \\\n",
    "\t\t\t\tj == jm or \\\n",
    "\t\t\t\tmat[i][j] == 0: # reach bound\n",
    "\t\t\t\treturn 0\n",
    "\n",
    "\t\t\ts = mat[i][j]\n",
    "\t\t\tmat[i][j] = 0 # reset after calc\n",
    "\n",
    "\t\t\treturn s + \\\n",
    "\t\t\t\tdfs(i + 1, j) + \\\n",
    "\t\t\t\tdfs(i, j + 1) + \\\n",
    "\t\t\t\tdfs(i - 1, j) + \\\n",
    "\t\t\t\tdfs(i, j - 1)\n",
    "\n",
    "\t\tres = 0\n",
    "\n",
    "\t\tfor i in range(len(mat)): # row\n",
    "\t\t\tfor j in range(len(mat[0])): # col\n",
    "\t\t\t\tif mat[i][j] != 0:\n",
    "\t\t\t\t\tres = max(res, dfs(i, j))\n",
    "\n",
    "\t\treturn res\n",
    "\n",
    "# Execution Part\n",
    "if __name__ == \"__main__\":\n",
    "\t# Instantiate\n",
    "\tobj = MaxValueMine()\n",
    "\t# Get Input\n",
    "\tobj.GetInput()\n",
    "\t# Get Result\n",
    "\tprint(obj.Solution())\n"
   ]
  },
  {
   "cell_type": "markdown",
   "metadata": {},
   "source": [
    "\n",
    "## Recurse DFS"
   ]
  },
  {
   "cell_type": "code",
   "execution_count": 10,
   "metadata": {},
   "outputs": [
    {
     "name": "stdout",
     "output_type": "stream",
     "text": [
      "15\n"
     ]
    }
   ],
   "source": [
    "class AlGORITHM:\n",
    "\t'''\n",
    "\tDFS stack\n",
    "\t'''\n",
    "\t# Input Part\n",
    "\tdef GetInput(self)->None:\n",
    "\t\t'''\n",
    "\t\tGet Input Data and Preprocess Data\n",
    "\t\t'''\n",
    "\t\tself.mat = []\n",
    "\t\twhile (input_item := input().strip()) != '':\n",
    "\t\t\tself.mat.append([int(x) for x in list(input_item)])\n",
    "\n",
    "\t# Algorithm Part\n",
    "\tdef Solution(self)->int:\n",
    "\t\t'''\n",
    "\t\tAlgorithm Solving Problem\n",
    "\t\t'''\n",
    "\t\t# Get data from self\n",
    "\t\tmat = self.mat\n",
    "\t\tif not mat:\n",
    "\t\t\treturn 0\n",
    "\t\tim, jm = len(mat) - 1, len(mat[0]) - 1 # max row / col\n",
    "\t\t\n",
    "\t\tdef dfs(i, j): # (x, y)\n",
    "\t\t\tstack = [(i, j)]\n",
    "\t\t\ts = 0\n",
    "\t\t\twhile stack:\n",
    "\t\t\t\telem = stack.pop()\n",
    "\t\t\t\ti, j = elem[0], elem[1] # i:row, j:col\n",
    "\t\t\t\tif 0 <= i <= im and 0 <= j <= jm and mat[i][j] > 0: # within bound not empty\n",
    "\t\t\t\t\ts += mat[i][j]\n",
    "\t\t\t\t\tstack.extend([(i + 1, j), (i, j + 1), (i - 1, j), (i, j - 1)]) # spread\n",
    "\t\t\t\t\tmat[i][j] = 0 # reset to Zero after calc\n",
    "\n",
    "\t\t\treturn s\n",
    "\n",
    "\t\tres = 0\n",
    "\n",
    "\t\tfor i in range(len(mat)): # row\n",
    "\t\t\tfor j in range(len(mat[0])): # col\n",
    "\t\t\t\tif mat[i][j] != 0:\n",
    "\t\t\t\t\tres = max(res, dfs(i, j))\n",
    "\n",
    "\t\treturn res\n",
    "\n",
    "# Execution Part\n",
    "if __name__ == \"__main__\":\n",
    "\t# Instantiate\n",
    "\tobj = AlGORITHM()\n",
    "\t# Get Input\n",
    "\tobj.GetInput()\n",
    "\t# Get Result\n",
    "\tprint(obj.Solution())\n"
   ]
  },
  {
   "cell_type": "markdown",
   "metadata": {},
   "source": [
    "# Test Cases\n",
    "```\n",
    "22220\n",
    "00000\n",
    "00000\n",
    "01111\n",
    "\n",
    "22220\n",
    "00020\n",
    "00010\n",
    "01111\n",
    "\n",
    "20000\n",
    "00020\n",
    "00000\n",
    "00111\n",
    "```"
   ]
  }
 ],
 "metadata": {
  "kernelspec": {
   "display_name": "Python 3",
   "language": "python",
   "name": "python3"
  },
  "language_info": {
   "codemirror_mode": {
    "name": "ipython",
    "version": 3
   },
   "file_extension": ".py",
   "mimetype": "text/x-python",
   "name": "python",
   "nbconvert_exporter": "python",
   "pygments_lexer": "ipython3",
   "version": "3.11.4"
  },
  "orig_nbformat": 4
 },
 "nbformat": 4,
 "nbformat_minor": 2
}
