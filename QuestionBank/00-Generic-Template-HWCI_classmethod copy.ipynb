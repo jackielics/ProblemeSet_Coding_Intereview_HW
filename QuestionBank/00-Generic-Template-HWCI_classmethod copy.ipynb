{
 "cells": [
  {
   "cell_type": "markdown",
   "metadata": {},
   "source": [
    "# Topic\n",
    "  \n",
    "-HUAWEI-CodingInterview"
   ]
  },
  {
   "cell_type": "markdown",
   "metadata": {},
   "source": [
    "# Problem Description\n",
    "![]()"
   ]
  },
  {
   "cell_type": "markdown",
   "metadata": {},
   "source": [
    "# Key Point & Tag\n",
    "|  Key   | Value  |\n",
    "|  :----:  | :----:  |\n",
    "| Difficulty Assessment  | Medium⭐⭐ |\n",
    "| Tag  |   |\n",
    "| Similar Problem | []()|"
   ]
  },
  {
   "cell_type": "markdown",
   "metadata": {},
   "source": [
    "# Approach"
   ]
  },
  {
   "cell_type": "markdown",
   "metadata": {},
   "source": [
    "# Code"
   ]
  },
  {
   "cell_type": "code",
   "execution_count": 3,
   "metadata": {},
   "outputs": [
    {
     "ename": "ValueError",
     "evalue": "invalid literal for int() with base 10: ''",
     "output_type": "error",
     "traceback": [
      "\u001b[1;31m---------------------------------------------------------------------------\u001b[0m",
      "\u001b[1;31mValueError\u001b[0m                                Traceback (most recent call last)",
      "\u001b[1;32md:\\Codes\\ProblemSet_Coding-Interview_HW\\QuestionBank\\00-Generic-Template-HWCI.ipynb Cell 7\u001b[0m line \u001b[0;36m4\n\u001b[0;32m     <a href='vscode-notebook-cell:/d%3A/Codes/ProblemSet_Coding-Interview_HW/QuestionBank/00-Generic-Template-HWCI.ipynb#X10sZmlsZQ%3D%3D?line=45'>46</a>\u001b[0m \u001b[39m# Execution Part\u001b[39;00m\n\u001b[0;32m     <a href='vscode-notebook-cell:/d%3A/Codes/ProblemSet_Coding-Interview_HW/QuestionBank/00-Generic-Template-HWCI.ipynb#X10sZmlsZQ%3D%3D?line=46'>47</a>\u001b[0m \u001b[39mif\u001b[39;00m \u001b[39m__name__\u001b[39m \u001b[39m==\u001b[39m \u001b[39m\"\u001b[39m\u001b[39m__main__\u001b[39m\u001b[39m\"\u001b[39m:\n\u001b[0;32m     <a href='vscode-notebook-cell:/d%3A/Codes/ProblemSet_Coding-Interview_HW/QuestionBank/00-Generic-Template-HWCI.ipynb#X10sZmlsZQ%3D%3D?line=47'>48</a>\u001b[0m \t\u001b[39m# Instantiate\u001b[39;00m\n\u001b[1;32m---> <a href='vscode-notebook-cell:/d%3A/Codes/ProblemSet_Coding-Interview_HW/QuestionBank/00-Generic-Template-HWCI.ipynb#X10sZmlsZQ%3D%3D?line=48'>49</a>\u001b[0m \tobj \u001b[39m=\u001b[39m AlGORITHM\u001b[39m.\u001b[39;49mGetInput()\n\u001b[0;32m     <a href='vscode-notebook-cell:/d%3A/Codes/ProblemSet_Coding-Interview_HW/QuestionBank/00-Generic-Template-HWCI.ipynb#X10sZmlsZQ%3D%3D?line=49'>50</a>\u001b[0m \t\u001b[39m# Get Result\u001b[39;00m\n\u001b[0;32m     <a href='vscode-notebook-cell:/d%3A/Codes/ProblemSet_Coding-Interview_HW/QuestionBank/00-Generic-Template-HWCI.ipynb#X10sZmlsZQ%3D%3D?line=50'>51</a>\u001b[0m \t\u001b[39mprint\u001b[39m(obj\u001b[39m.\u001b[39mSolution())\n",
      "\u001b[1;32md:\\Codes\\ProblemSet_Coding-Interview_HW\\QuestionBank\\00-Generic-Template-HWCI.ipynb Cell 7\u001b[0m line \u001b[0;36m9\n\u001b[0;32m      <a href='vscode-notebook-cell:/d%3A/Codes/ProblemSet_Coding-Interview_HW/QuestionBank/00-Generic-Template-HWCI.ipynb#X10sZmlsZQ%3D%3D?line=4'>5</a>\u001b[0m \u001b[39m\u001b[39m\u001b[39m'''\u001b[39;00m\n\u001b[0;32m      <a href='vscode-notebook-cell:/d%3A/Codes/ProblemSet_Coding-Interview_HW/QuestionBank/00-Generic-Template-HWCI.ipynb#X10sZmlsZQ%3D%3D?line=5'>6</a>\u001b[0m \u001b[39mGet Input Data and Preprocess Data\u001b[39;00m\n\u001b[0;32m      <a href='vscode-notebook-cell:/d%3A/Codes/ProblemSet_Coding-Interview_HW/QuestionBank/00-Generic-Template-HWCI.ipynb#X10sZmlsZQ%3D%3D?line=6'>7</a>\u001b[0m \u001b[39m'''\u001b[39;00m\n\u001b[0;32m      <a href='vscode-notebook-cell:/d%3A/Codes/ProblemSet_Coding-Interview_HW/QuestionBank/00-Generic-Template-HWCI.ipynb#X10sZmlsZQ%3D%3D?line=7'>8</a>\u001b[0m N \u001b[39m=\u001b[39m \u001b[39mint\u001b[39m(\u001b[39minput\u001b[39m()) \n\u001b[1;32m----> <a href='vscode-notebook-cell:/d%3A/Codes/ProblemSet_Coding-Interview_HW/QuestionBank/00-Generic-Template-HWCI.ipynb#X10sZmlsZQ%3D%3D?line=8'>9</a>\u001b[0m R, C \u001b[39m=\u001b[39m \u001b[39mmap\u001b[39m(\u001b[39mint\u001b[39m, \u001b[39minput\u001b[39m()\u001b[39m.\u001b[39mstrip()\u001b[39m.\u001b[39msplit(\u001b[39m'\u001b[39m\u001b[39m \u001b[39m\u001b[39m'\u001b[39m))\n\u001b[0;32m     <a href='vscode-notebook-cell:/d%3A/Codes/ProblemSet_Coding-Interview_HW/QuestionBank/00-Generic-Template-HWCI.ipynb#X10sZmlsZQ%3D%3D?line=9'>10</a>\u001b[0m nums \u001b[39m=\u001b[39m \u001b[39meval\u001b[39m(\u001b[39minput\u001b[39m())\n\u001b[0;32m     <a href='vscode-notebook-cell:/d%3A/Codes/ProblemSet_Coding-Interview_HW/QuestionBank/00-Generic-Template-HWCI.ipynb#X10sZmlsZQ%3D%3D?line=10'>11</a>\u001b[0m nums1 \u001b[39m=\u001b[39m \u001b[39mlist\u001b[39m(\u001b[39mmap\u001b[39m(\u001b[39mint\u001b[39m, \u001b[39minput\u001b[39m()\u001b[39m.\u001b[39mstrip()\u001b[39m.\u001b[39msplit(\u001b[39m'\u001b[39m\u001b[39m \u001b[39m\u001b[39m'\u001b[39m)))\n",
      "\u001b[1;31mValueError\u001b[0m: invalid literal for int() with base 10: ''"
     ]
    }
   ],
   "source": [
    "class AlGORITHM:\n",
    "\t# Input Part\n",
    "\t@classmethod\n",
    "\tdef GetInput(cls)->None:\n",
    "\t\t'''\n",
    "\t\tGet Input Data and Preprocess Data\n",
    "\t\t'''\n",
    "\t\tN = int(input()) \n",
    "\t\tR, C = map(int, input().strip().split(' '))\n",
    "\t\tnums = eval(input())\n",
    "\t\tnums1 = list(map(int, input().strip().split(' ')))\n",
    "\t\tnums2 = list(map(int, input().strip().split(' ')))\n",
    "\t\tmat = [list(map(int, input().split())) for _ in range(N)]\n",
    "\t\tdics = [dict(zip(['ppt', 'arg'], map(str, input().strip().split(' ')))) for _ in range(N)]\n",
    "\n",
    "\t\tnums = []\n",
    "\t\twhile (input_item := input().strip()) != '':\n",
    "\t\t\tnums.append(list(map(int, input_item.split(' '))))\n",
    "\t\treturn cls(N)\n",
    "\n",
    "\tdef __init__(self, N, R, C, nums, nums1, nums2, mat, dics):\n",
    "\t\tself.N = N\n",
    "\t\tself.R, self.C = R, C\n",
    "\t\tself.nums = nums\n",
    "\t\tself.nums1, self.nums2 = nums1, nums2\n",
    "\t\tself.mat = mat\n",
    "\t\tself.dics = dics\n",
    "\n",
    "\t# Algorithm Part\n",
    "\tdef Solution(self)->int:\n",
    "\t\t'''\n",
    "\t\tAlgorithm Solving Problem\n",
    "\t\t'''\n",
    "\t\t# Get Data from self\n",
    "\t\tN = self.N\n",
    "\t\tR, C = self.R, self.C\n",
    "\t\tnums = self.nums\n",
    "\t\tnums1, nums2 = self.nums1, self.nums2\n",
    "\t\tmat = self.mat\n",
    "\t\tdics = self.dics\n",
    "\t\t\n",
    "\t\tres = 0\n",
    "\t\t\n",
    "\t\treturn res \n",
    "\n",
    "# Execution Part\n",
    "if __name__ == \"__main__\":\n",
    "\t# Instantiate\n",
    "\tobj = AlGORITHM.GetInput()\n",
    "\t# Get Result\n",
    "\tprint(obj.Solution())\n"
   ]
  },
  {
   "cell_type": "markdown",
   "metadata": {},
   "source": [
    "# Test Cases\n",
    "```\n",
    "\n",
    "```"
   ]
  }
 ],
 "metadata": {
  "kernelspec": {
   "display_name": "Python 3",
   "language": "python",
   "name": "python3"
  },
  "language_info": {
   "codemirror_mode": {
    "name": "ipython",
    "version": 3
   },
   "file_extension": ".py",
   "mimetype": "text/x-python",
   "name": "python",
   "nbconvert_exporter": "python",
   "pygments_lexer": "ipython3",
   "version": "3.11.4"
  },
  "orig_nbformat": 4
 },
 "nbformat": 4,
 "nbformat_minor": 2
}
