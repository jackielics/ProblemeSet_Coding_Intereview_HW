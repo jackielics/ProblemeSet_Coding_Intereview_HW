{
 "cells": [
  {
   "cell_type": "markdown",
   "metadata": {},
   "source": [
    "# Topic\n",
    "27-返回矩阵中非1的元素个数  \n",
    "CntNonOne-HUAWEI-CodingInterview"
   ]
  },
  {
   "cell_type": "markdown",
   "metadata": {},
   "source": [
    "# Problem Description\n",
    "![](https://res.cloudinary.com/dnyeldv5r/image/upload/v1691990962/2023-08-14_132850_fy6zkm.png)"
   ]
  },
  {
   "cell_type": "markdown",
   "metadata": {},
   "source": [
    "# Key Point & Tag\n",
    "|  Key   | Value  |\n",
    "|  :----:  | :----:  |\n",
    "| Difficulty Assessment  | Medium⭐⭐ |\n",
    "| Tag  | BFS |\n",
    "| Similar Problem | []()|"
   ]
  },
  {
   "cell_type": "markdown",
   "metadata": {},
   "source": [
    "# Code"
   ]
  },
  {
   "cell_type": "code",
   "execution_count": 3,
   "metadata": {},
   "outputs": [
    {
     "name": "stdout",
     "output_type": "stream",
     "text": [
      "9\n"
     ]
    }
   ],
   "source": [
    "class CntNonOne:\n",
    "\t# Input Part\n",
    "\tdef GetInput(self)->None:\n",
    "\t\t'''\n",
    "\t\tGet Input Data and Preprocess Data\n",
    "\t\t'''\n",
    "\t\tself.R, self.C = map(int, input().strip().split(' '))\n",
    "\t\tself.mat = [list(map(int, input().split())) for _ in range(self.R)]\n",
    "\n",
    "\t# Algorithm Part\n",
    "\tdef Solution(self)->int:\n",
    "\t\t'''\n",
    "\t\tAlgorithm Solving Problem\n",
    "\t\t'''\n",
    "\t\t# Get data from self\n",
    "\t\tR, C = self.R, self.C\n",
    "\t\tmat = self.mat\n",
    "\t\t\n",
    "\t\tADJ = ((-1, 0), (1, 0), (0, -1), (0, 1)) # Adjacent\n",
    "\t\tQ = [(0, 0)] # Queue: (x, y): All 1 Pos\n",
    "\t\tmat[0][0] = 1\n",
    "\t\tcnt = 0 # CNT of '1'\n",
    "\n",
    "\t\twhile Q:\n",
    "\t\t\tcur = Q.pop(0) # Pop [0]\n",
    "\t\t\tcnt += 1\n",
    "\t\t\tfor ofx, ofy in ADJ: # Iterate Adjacent\n",
    "\t\t\t\ti, j = ofx + cur[0], ofy + cur[1]\n",
    "\t\t\t\t# Reachable and Infectable\n",
    "\t\t\t\tif -1 < i < R and -1 < j < C and mat[i][j] == 0:\n",
    "\t\t\t\t\tQ.append((i, j))\n",
    "\t\t\t\t\tmat[i][j] = 1\n",
    "\n",
    "\t\treturn R * C - cnt\n",
    "\n",
    "# Execution Part\n",
    "if __name__ == \"__main__\":\n",
    "\t# Instantiate\n",
    "\tobj = CntNonOne()\n",
    "\t# Get Input\n",
    "\tobj.GetInput()\n",
    "\t# Get Result\n",
    "\tprint(obj.Solution())\n"
   ]
  },
  {
   "cell_type": "markdown",
   "metadata": {},
   "source": [
    "# Test Cases\n",
    "```\n",
    "4 4\n",
    "0 0 0 0\n",
    "0 2 2 2\n",
    "0 2 0 0\n",
    "0 2 0 0\n",
    "```"
   ]
  }
 ],
 "metadata": {
  "kernelspec": {
   "display_name": "Python 3",
   "language": "python",
   "name": "python3"
  },
  "language_info": {
   "codemirror_mode": {
    "name": "ipython",
    "version": 3
   },
   "file_extension": ".py",
   "mimetype": "text/x-python",
   "name": "python",
   "nbconvert_exporter": "python",
   "pygments_lexer": "ipython3",
   "version": "3.11.4"
  },
  "orig_nbformat": 4
 },
 "nbformat": 4,
 "nbformat_minor": 2
}
