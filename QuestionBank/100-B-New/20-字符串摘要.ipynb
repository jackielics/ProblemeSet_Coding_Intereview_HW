{
 "cells": [
  {
   "cell_type": "markdown",
   "metadata": {},
   "source": [
    "# Topic\n",
    "20-字符串摘要  \n",
    "StrSummary-HUAWEI-CodingInterview"
   ]
  },
  {
   "cell_type": "markdown",
   "metadata": {},
   "source": [
    "# Problem Description\n",
    "![https://blog.csdn.net/qfc_128220/article/details/130769939](https://res.cloudinary.com/dnyeldv5r/image/upload/v1690389263/2023-07-27_003341_yr3z5s.png)"
   ]
  },
  {
   "cell_type": "markdown",
   "metadata": {},
   "source": [
    "# Key Point & Tag\n",
    "Difficulty Assessment: Easy  \n",
    "System Design"
   ]
  },
  {
   "cell_type": "markdown",
   "metadata": {},
   "source": [
    "# Code"
   ]
  },
  {
   "cell_type": "code",
   "execution_count": 19,
   "metadata": {},
   "outputs": [
    {
     "name": "stdout",
     "output_type": "stream",
     "text": [
      "a0\n"
     ]
    }
   ],
   "source": [
    "class StrSummary:\n",
    "\t# Input Part\n",
    "\tdef GetInput(self)->None:\n",
    "\t\t'''\n",
    "\t\tGet Input Data and Preprocess Data\n",
    "\t\t'''\n",
    "\t\tself.S = input().strip()\n",
    "\t\n",
    "\t# Algorithm Part\n",
    "\tdef Solution(self)->int:\n",
    "\t\t'''\n",
    "\t\tAlgorithm Solving Problem\n",
    "\t\t'''\n",
    "\t\t# Get data from self\n",
    "\t\tS = ''.join([x.lower() for x in self.S if x.isalpha()])\n",
    "\n",
    "\t\tres_dic = [] # [[a,3],...]\n",
    "\t\tdic_total, dic_front = {}, {} # {char: freq,}\n",
    "\t\tfor c in S:\n",
    "\t\t\tdic_total[c] = dic_total.get(c, 0) + 1\n",
    "\n",
    "\t\ti = 0\n",
    "\t\twhile i < len(S):\n",
    "\t\t\tcur = S[i]\n",
    "\t\t\tcnt = 0\n",
    "\t\t\twhile i < len(S) and S[i] == cur:\n",
    "\t\t\t\tcur = S[i]\n",
    "\t\t\t\tdic_front[cur] = dic_front.get(cur, 0) + 1\n",
    "\t\t\t\tcnt += 1\n",
    "\t\t\t\ti += 1\n",
    "\t\t\tif cnt > 1: # continuous\n",
    "\t\t\t\t# res += cur + str(cnt)\n",
    "\t\t\t\tres_dic.append([cur, cnt])\n",
    "\t\t\telse: # not continuous\n",
    "\t\t\t\t# res += cur + str(dic_total[cur] - dic_front[cur])\n",
    "\t\t\t\tres_dic.append([cur, dic_total[cur] - dic_front[cur]])\n",
    "\t\tres_dic.sort(key = lambda x: [-x[1], x[0]], reverse = False)\n",
    "\t\tres_dic = [''.join([str(c) for c in x]) for x in res_dic]\n",
    "\t\treturn ''.join([str(s) for s in res_dic]) # return mustn't be LIST\n",
    "\n",
    "# Execution Part\n",
    "if __name__ == \"__main__\":\n",
    "\t# Instantiate\n",
    "\tobj = StrSummary()\n",
    "\t# Get Input\n",
    "\tobj.GetInput()\n",
    "\t# Get Result\n",
    "\tprint(obj.Solution())"
   ]
  },
  {
   "cell_type": "code",
   "execution_count": 22,
   "metadata": {},
   "outputs": [
    {
     "data": {
      "text/plain": [
       "'dfghjkdhja'"
      ]
     },
     "execution_count": 22,
     "metadata": {},
     "output_type": "execute_result"
    }
   ],
   "source": [
    "a = \"dfghjk1231dhja\"\n",
    "''.join([x for x in a if x.isalpha()])"
   ]
  },
  {
   "cell_type": "markdown",
   "metadata": {},
   "source": [
    "# Test Cases\n",
    "```\n",
    "aabbcc\n",
    "bAaAcBb\n",
    "```"
   ]
  }
 ],
 "metadata": {
  "kernelspec": {
   "display_name": "Python 3",
   "language": "python",
   "name": "python3"
  },
  "language_info": {
   "codemirror_mode": {
    "name": "ipython",
    "version": 3
   },
   "file_extension": ".py",
   "mimetype": "text/x-python",
   "name": "python",
   "nbconvert_exporter": "python",
   "pygments_lexer": "ipython3",
   "version": "3.11.4"
  },
  "orig_nbformat": 4
 },
 "nbformat": 4,
 "nbformat_minor": 2
}
