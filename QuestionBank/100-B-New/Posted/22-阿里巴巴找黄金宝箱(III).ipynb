{
 "cells": [
  {
   "cell_type": "markdown",
   "metadata": {},
   "source": [
    "# Topic\n",
    "21-阿里巴巴找黄金宝箱(III)  \n",
    "AlibabaFindingGoldenTreasureBox(III)-HUAWEI-CodingInterview"
   ]
  },
  {
   "cell_type": "markdown",
   "metadata": {},
   "source": [
    "# Problem Description\n",
    "![https://fcqian.blog.csdn.net/article/details/130766482](https://res.cloudinary.com/dnyeldv5r/image/upload/v1690457091/2023-07-27_192424_sficpi.png)"
   ]
  },
  {
   "cell_type": "markdown",
   "metadata": {},
   "source": [
    "# Key Point & Tag\n",
    "Difficulty Assessment: Easy  "
   ]
  },
  {
   "cell_type": "markdown",
   "metadata": {},
   "source": [
    "# Code"
   ]
  },
  {
   "cell_type": "code",
   "execution_count": null,
   "metadata": {},
   "outputs": [],
   "source": [
    "class AlibabaFindingGoldenTreasureBox:\n",
    "\t# Input Part\n",
    "\tdef GetInput(self)->None:\n",
    "\t\t'''\n",
    "\t\tGet Input Data and Preprocess Data\n",
    "\t\t'''\n",
    "\t\tself.arr = list(map(int, input().strip().split(',')))\n",
    "\t\tself.K = int(input()) # amount of s\n",
    "\t\n",
    "\t# Algorithm Part\n",
    "\tdef Solution(self)->int:\n",
    "\t\t'''\n",
    "\t\tAlgorithm Solving Problem\n",
    "\t\t'''\n",
    "\t\t# Get data from self\n",
    "\t\tK = self.K\n",
    "\t\tarr = self.arr\n",
    "\n",
    "\t\tdic = {} # {value: idx}\n",
    "\t\tmatched = [] # {index1,...}\n",
    "\n",
    "\t\tfor i in range(len(arr)):\n",
    "\t\t\tif arr[i] not in dic: # first time show up\n",
    "\t\t\t\tdic[arr[i]] = i # store value\n",
    "\t\t\telif i - dic[arr[i]] <= K: # appeared before\n",
    "\t\t\t\t\tmatched.append(dic[arr[i]])\n",
    "\t\t\telse: # over max-interval, update DIC\n",
    "\t\t\t\tdic[arr[i]] = i\n",
    "\n",
    "\t\treturn min(matched) if matched else -1 # failed\n",
    "\n",
    "# Execution Part\n",
    "if __name__ == \"__main__\":\n",
    "\t# Instantiate\n",
    "\tobj = AlibabaFindingGoldenTreasureBox()\n",
    "\t# Get Input\n",
    "\tobj.GetInput()\n",
    "\t# Get Result\n",
    "\tprint(obj.Solution())\n"
   ]
  },
  {
   "cell_type": "markdown",
   "metadata": {},
   "source": [
    "# Test Cases\n",
    "```\n",
    "6,3,1,6\n",
    "3\n",
    "\n",
    "5,6,7,5,6,7\n",
    "2\n",
    "```"
   ]
  }
 ],
 "metadata": {
  "kernelspec": {
   "display_name": "Python 3",
   "language": "python",
   "name": "python3"
  },
  "language_info": {
   "codemirror_mode": {
    "name": "ipython",
    "version": 3
   },
   "file_extension": ".py",
   "mimetype": "text/x-python",
   "name": "python",
   "nbconvert_exporter": "python",
   "pygments_lexer": "ipython3",
   "version": "3.11.4"
  },
  "orig_nbformat": 4
 },
 "nbformat": 4,
 "nbformat_minor": 2
}
