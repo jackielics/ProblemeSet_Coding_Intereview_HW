{
 "cells": [
  {
   "cell_type": "markdown",
   "metadata": {},
   "source": [
    "# Title\n",
    "2-告警抑制  \n",
    "WarningSuppression-HUAWEI-CodingInterview"
   ]
  },
  {
   "cell_type": "markdown",
   "metadata": {},
   "source": [
    "# Problem Description\n",
    "![https://fcqian.blog.csdn.net/article/details/130768150](https://i.imgur.com/dYkitWN.png)"
   ]
  },
  {
   "cell_type": "markdown",
   "metadata": {},
   "source": [
    "# Key Point & Tag\n",
    "Difficulty Assessment: Easy"
   ]
  },
  {
   "cell_type": "markdown",
   "metadata": {},
   "source": [
    "# Code"
   ]
  },
  {
   "cell_type": "code",
   "execution_count": 8,
   "metadata": {},
   "outputs": [
    {
     "name": "stdout",
     "output_type": "stream",
     "text": [
      "A A9\n"
     ]
    }
   ],
   "source": [
    "# Input Part\n",
    "def get_input()->dict:\n",
    "\t'''\n",
    "    Get Input Data\n",
    "\t'''\n",
    "\t# amount of suppression\n",
    "\tn = int(input())\n",
    "\t# suppression relationship arrays: 'char+numebr'\n",
    "\tmat = [dict(zip(['suppressor', 'suppressed'], input().split())) for _ in range(n)]\n",
    "\t# warning list\n",
    "\twarn = list(input().split())\n",
    "\treturn {'n': n, 'mat':mat, 'warn': warn}\n",
    "\n",
    "# :Algorithm  Part\n",
    "class WarnSuppressor:\n",
    "\tdef Solution(self,  n, mat, warn)->str:\n",
    "\t\tres = []\n",
    "\t\tsuppressed_set = set() # be suppressed\n",
    "\t\tfor v in mat:\n",
    "\t\t\tif v['suppressor'] in warn: # if suppressor not in actual warning list\n",
    "\t\t\t\tsuppressed_set.add(v['suppressed'])\n",
    "\t\tfor s in warn:\n",
    "\t\t\tif s not in suppressed_set:\n",
    "\t\t\t\tres.append(s)\n",
    "\t\treturn ' '.join(res)\n",
    "\n",
    "# Execution Part\n",
    "if __name__ == \"__main__\":\n",
    "\t# Get Input\n",
    "\tdata = get_input()\n",
    "\n",
    "\t# Get Result\n",
    "\tprint(WarnSuppressor().Solution(data['n'], data['mat'], data['warn']))\n"
   ]
  },
  {
   "cell_type": "code",
   "execution_count": 9,
   "metadata": {},
   "outputs": [
    {
     "data": {
      "text/plain": [
       "['12', '3', '4', '5', '6']"
      ]
     },
     "execution_count": 9,
     "metadata": {},
     "output_type": "execute_result"
    }
   ],
   "source": [
    "warn = list(input().split())\n",
    "warn"
   ]
  },
  {
   "cell_type": "code",
   "execution_count": null,
   "metadata": {},
   "outputs": [],
   "source": [
    "5\n",
    "A A0\n",
    "A0 A1\n",
    "A1 A9\n",
    "A9 A8\n",
    "A9 A7\n",
    "A A7 A8 A9\n",
    "..."
   ]
  }
 ],
 "metadata": {
  "kernelspec": {
   "display_name": "Python 3",
   "language": "python",
   "name": "python3"
  },
  "language_info": {
   "codemirror_mode": {
    "name": "ipython",
    "version": 3
   },
   "file_extension": ".py",
   "mimetype": "text/x-python",
   "name": "python",
   "nbconvert_exporter": "python",
   "pygments_lexer": "ipython3",
   "version": "3.11.4"
  },
  "orig_nbformat": 4
 },
 "nbformat": 4,
 "nbformat_minor": 2
}
