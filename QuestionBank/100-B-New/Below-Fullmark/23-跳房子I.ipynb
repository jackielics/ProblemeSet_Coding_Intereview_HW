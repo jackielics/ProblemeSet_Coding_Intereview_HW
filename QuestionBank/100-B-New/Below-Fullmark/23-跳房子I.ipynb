{
 "cells": [
  {
   "cell_type": "markdown",
   "metadata": {},
   "source": [
    "# Topic\n",
    "23-跳房子I  \n",
    "Hopscotch(I)-HUAWEI-CodingInterview"
   ]
  },
  {
   "cell_type": "markdown",
   "metadata": {},
   "source": [
    "# Problem Description\n",
    "![https://fcqian.blog.csdn.net/article/details/130766192?spm=1001.2014.3001.5502](https://res.cloudinary.com/dnyeldv5r/image/upload/v1690457573/2023-07-27_193221_lbb7ab.png)"
   ]
  },
  {
   "cell_type": "markdown",
   "metadata": {},
   "source": [
    "# Key Point & Tag\n",
    "Difficulty Assessment: Easy  "
   ]
  },
  {
   "cell_type": "markdown",
   "metadata": {},
   "source": [
    "# Code"
   ]
  },
  {
   "cell_type": "code",
   "execution_count": null,
   "metadata": {},
   "outputs": [],
   "source": [
    "class Hopscotch:\n",
    "\t# Input Part\n",
    "\tdef GetInput(self)->None:\n",
    "\t\t'''\n",
    "\t\tGet Input Data and Preprocess Data\n",
    "\t\t'''\n",
    "\t\tself.arr = list(map(int, input().strip(' []').split(','))) # strip ' ', '[' and ']'\n",
    "\t\tself.K = int(input()) # target amount\n",
    "\n",
    "\t# Algorithm Part\n",
    "\tdef Solution(self)->int:\n",
    "\t\t'''\n",
    "\t\tAlgorithm Solving Problem\n",
    "\t\t'''\n",
    "\t\t# Get data from self\n",
    "\t\tK = self.K\n",
    "\t\tarr = sorted(self.arr) # sort asc\n",
    "\n",
    "\t\tcomb = [] # possible combination [[index_l, index_r],...]\n",
    "\t\tl, r = 0, len(arr) - 1\n",
    "\t\twhile l < r:\n",
    "\t\t\tif arr[l] + arr[r] > K:\n",
    "\t\t\t\tr -= 1\n",
    "\t\t\telif arr[l] + arr[r] < K:\n",
    "\t\t\t\tl += 1\n",
    "\t\t\telse: # equal\n",
    "\t\t\t\tcomb.append([l, r])\n",
    "\t\t\t\tr -= 1 # elems are not unique in ARR, try finding smaller IndexSum\n",
    "\n",
    "\t\tcomb.sort(key = lambda x: sum(x))\n",
    "\t\treturn f'[{arr[comb[0][0]]}, {arr[comb[0][1]]}]'\n",
    "\n",
    "# Execution Part\n",
    "if __name__ == \"__main__\":\n",
    "\t# Instantiate\n",
    "\tobj = Hopscotch()\n",
    "\t# Get Input\n",
    "\tobj.GetInput()\n",
    "\t# Get Result\n",
    "\tprint(obj.Solution())\n"
   ]
  },
  {
   "cell_type": "code",
   "execution_count": 7,
   "metadata": {},
   "outputs": [
    {
     "data": {
      "text/plain": [
       "[[-1, -1], [1, -2]]"
      ]
     },
     "execution_count": 7,
     "metadata": {},
     "output_type": "execute_result"
    }
   ],
   "source": [
    "a = [[1,-2], [-1,-1]]\n",
    "a.sort(key = lambda x: sum(x))\n",
    "a"
   ]
  },
  {
   "cell_type": "markdown",
   "metadata": {},
   "source": [
    "# Test Cases\n",
    "```\n",
    "\n",
    "```"
   ]
  }
 ],
 "metadata": {
  "kernelspec": {
   "display_name": "Python 3",
   "language": "python",
   "name": "python3"
  },
  "language_info": {
   "codemirror_mode": {
    "name": "ipython",
    "version": 3
   },
   "file_extension": ".py",
   "mimetype": "text/x-python",
   "name": "python",
   "nbconvert_exporter": "python",
   "pygments_lexer": "ipython3",
   "version": "3.11.4"
  },
  "orig_nbformat": 4
 },
 "nbformat": 4,
 "nbformat_minor": 2
}
