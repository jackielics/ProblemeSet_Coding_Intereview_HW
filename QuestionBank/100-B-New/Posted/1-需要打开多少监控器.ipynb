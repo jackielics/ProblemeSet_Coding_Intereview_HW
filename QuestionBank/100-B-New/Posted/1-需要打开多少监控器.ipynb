{
 "cells": [
  {
   "cell_type": "markdown",
   "metadata": {},
   "source": [
    "# Title\n",
    "1-需要打开多少监控器\n",
    "MonitorCounter-HUAWEI-CodingInterview"
   ]
  },
  {
   "cell_type": "markdown",
   "metadata": {},
   "source": [
    "# Problem Description\n",
    "https://blog.csdn.net/qfc_128220/article/details/130632804\n",
    "https://wiki.amoscloud.com/zh/ProgramingPractice/NowCoder/Adecco/Topic0246"
   ]
  },
  {
   "cell_type": "markdown",
   "metadata": {},
   "source": [
    "# Key Point & Tag\n",
    "Difficulty Assessment: Easy\n",
    "iterate"
   ]
  },
  {
   "cell_type": "markdown",
   "metadata": {},
   "source": [
    "# Code"
   ]
  },
  {
   "cell_type": "code",
   "execution_count": null,
   "metadata": {},
   "outputs": [],
   "source": [
    "# Input Part\n",
    "def get_input()->dict:\n",
    "\t'''\n",
    "    Get Input Data\n",
    "\t'''\n",
    "\t# length of ranges and columns\n",
    "\tlr, lc = map(int, input().split())\n",
    "\tmat = [list(map(int, input().split())) for _ in range(lr)]\n",
    "\treturn {'lr': lr, 'lc':lc, 'mat': mat}\n",
    "\n",
    "# Algorithm  Part\n",
    "class MonitorCounter:\n",
    "\tdef Solution(self, lr, lc, mat)->None:\n",
    "\t\tres = 0 # quantity of Monitors\n",
    "\t\tfor i in range(lr): # range number\n",
    "\t\t\tfor j in range(lc): # column number\n",
    "\t\t\t\t# The 'and' takes precedence over 'or' in Python or C\n",
    "\t\t\t\tif mat[i][j] or \\\n",
    "\t\t\t\t\ti > 0 and mat[i - 1][j] or \\\n",
    "\t\t\t\t\tj > 0 and mat[i][j - 1] or \\\n",
    "\t\t\t\t\ti < lr - 1 and mat[i + 1][j] or \\\n",
    "\t\t\t\t\tj < lc - 1 and mat[i][j + 1]:\n",
    "\t\t\t\t\tres += 1\n",
    "\t\treturn res\n",
    "\n",
    "# Execution Part\n",
    "if __name__ == \"__main__\":\n",
    "\t# Get Input\n",
    "\tdata = get_input()\n",
    "\n",
    "\t# Get Result\n",
    "\tprint(MonitorCounter().Solution(data['lr'], data['lc'], data['mat']))\n"
   ]
  }
 ],
 "metadata": {
  "kernelspec": {
   "display_name": "Python 3",
   "language": "python",
   "name": "python3"
  },
  "language_info": {
   "codemirror_mode": {
    "name": "ipython",
    "version": 3
   },
   "file_extension": ".py",
   "mimetype": "text/x-python",
   "name": "python",
   "nbconvert_exporter": "python",
   "pygments_lexer": "ipython3",
   "version": "3.11.4"
  },
  "orig_nbformat": 4
 },
 "nbformat": 4,
 "nbformat_minor": 2
}
