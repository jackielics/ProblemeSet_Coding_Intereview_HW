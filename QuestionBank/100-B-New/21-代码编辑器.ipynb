{
 "cells": [
  {
   "cell_type": "markdown",
   "metadata": {},
   "source": [
    "# Topic\n",
    "21-代码编辑器  \n",
    "IDE-HUAWEI-CodingInterview"
   ]
  },
  {
   "cell_type": "markdown",
   "metadata": {},
   "source": [
    "# Problem Description\n",
    "![https://blog.csdn.net/qfc_128220/article/details/130770773](https://res.cloudinary.com/dnyeldv5r/image/upload/v1690434637/2023-07-27_131003_euas0s.png)"
   ]
  },
  {
   "cell_type": "markdown",
   "metadata": {},
   "source": [
    "# Key Point & Tag\n",
    "Difficulty Assessment: Easy  \n",
    "System Design"
   ]
  },
  {
   "cell_type": "markdown",
   "metadata": {},
   "source": [
    "# Code"
   ]
  },
  {
   "cell_type": "code",
   "execution_count": 28,
   "metadata": {},
   "outputs": [
    {
     "name": "stdout",
     "output_type": "stream",
     "text": [
      "123456789\n"
     ]
    }
   ],
   "source": [
    "class IDE:\n",
    "\t# Input Part\n",
    "\tdef GetInput(self)->None:\n",
    "\t\t'''\n",
    "\t\tGet Input Data and Preprocess Data\n",
    "\t\t'''\n",
    "\t\tself.n = int(input()) # amount of prompts(PPTs)\n",
    "\t\tself.S = input() # initial str\n",
    "\t\tself.dic = [dict(zip(['ppt', 'arg'], map(str, input().strip().split(' ')))) for _ in range(self.n)]\n",
    "\t\n",
    "\t# Algorithm Part\n",
    "\tdef Solution(self)->int:\n",
    "\t\t'''\n",
    "\t\tAlgorithm Solving Problem\n",
    "\t\t'''\n",
    "\t\t# Get data from self\n",
    "\t\tn = self.n\n",
    "\t\tS = self.S\n",
    "\t\tdic = self.dic\n",
    "\n",
    "\t\tp = 0 # initial pointer position (|a|b|c|d|e|f|g|) which represents how many chars before the pointer\n",
    "\n",
    "\t\tfor d in dic: # execute each prompt\n",
    "\t\t\tif d['ppt'] == 'FORWARD': # move pointer rightwards\n",
    "\t\t\t\tp = min(len(S), p + int(d['arg']))\n",
    "\n",
    "\t\t\telif d['ppt'] == 'BACKWARD': # move pointer leftwards\n",
    "\t\t\t\tp = max(0, p - int(d['arg']))\n",
    "\n",
    "\t\t\telif d['ppt'] == 'SEARCH-FORWARD': # search word rightwards\n",
    "\t\t\t\tif len(S) - p >= len(d['arg']): # len(S)-p represents how many chars after the pointer\n",
    "\t\t\t\t\tfor i in range(p, len(S) - len(d['arg']) + 1, 1):\n",
    "\t\t\t\t\t\tif d['arg'] == S[i : i + len(d['arg'])]:\n",
    "\t\t\t\t\t\t\tp = i\n",
    "\t\t\t\t\t\t\tbreak\n",
    "\n",
    "\t\t\t\t# with built-in method\n",
    "\t\t\t\t# if (i := S.find(d['arg'], p, len(S))) != -1:\n",
    "\t\t\t\t# \tp = i\n",
    "\n",
    "\t\t\telif d['ppt'] == 'SEARCH-BACKWARD': # search word leftwards(exclude current pos)\n",
    "\t\t\t\tif p >= len(d['arg']): # p represents how many chars before the pointer\n",
    "\t\t\t\t\tfor i in range(p - len(d['arg']), -1, -1):\n",
    "\t\t\t\t\t\tif d['arg'] == S[i : i + len(d['arg'])]:\n",
    "\t\t\t\t\t\t\tp = i\n",
    "\t\t\t\t\t\t\tbreak\n",
    "\t\t\t\t\t\t\n",
    "\t\t\t\t# with built-in method\n",
    "\t\t\t\t# if (i := S.rfind(d['arg'], 0, p)) != -1:\n",
    "\t\t\t\t# \tp = i\n",
    "\n",
    "\t\t\telif d['ppt'] == 'INSERT': # insert word at p, move p to end of the word\n",
    "\t\t\t\tS = S[:p] + d['arg'] + S[p:]\n",
    "\t\t\t\tp += len(d['arg'])\n",
    "\n",
    "\t\t\telif d['ppt'] == 'REPLACE': # replace \n",
    "\t\t\t\tS_l = list(S)\n",
    "\t\t\t\tdel S_l[p : p + len(d['arg'])]\n",
    "\t\t\t\tS_l.insert(p, d['arg'])\n",
    "\t\t\t\tS = ''.join(S_l)\n",
    "\n",
    "\t\t\telif d['ppt'] == 'DELETE': # delete rightwards\n",
    "\t\t\t\tS_l = list(S)\n",
    "\t\t\t\tdel S_l[p : p + int(d['arg'])]\n",
    "\t\t\t\tS = ''.join(S_l)\n",
    "\n",
    "\t\treturn S\n",
    "\n",
    "# Execution Part\n",
    "if __name__ == \"__main__\":\n",
    "\t# Instantiate\n",
    "\tobj = IDE()\n",
    "\t# Get Input\n",
    "\tobj.GetInput()\n",
    "\t# Get Result\n",
    "\tprint(obj.Solution())\n"
   ]
  },
  {
   "cell_type": "code",
   "execution_count": 30,
   "metadata": {},
   "outputs": [
    {
     "data": {
      "text/plain": [
       "-1"
      ]
     },
     "execution_count": 30,
     "metadata": {},
     "output_type": "execute_result"
    }
   ],
   "source": [
    "a = '123123123'\n",
    "a.rfind('9', 0, 6)"
   ]
  },
  {
   "cell_type": "code",
   "execution_count": 31,
   "metadata": {},
   "outputs": [
    {
     "name": "stdout",
     "output_type": "stream",
     "text": [
      "0\n"
     ]
    }
   ],
   "source": [
    "for i in range(0, 1):\n",
    "    print(i)"
   ]
  },
  {
   "cell_type": "markdown",
   "metadata": {},
   "source": [
    "# Test Cases\n",
    "```\n",
    "1\n",
    "ello\n",
    "INSERT h\n",
    "\n",
    "2\n",
    "hllo\n",
    "FORWARD 1\n",
    "INSERT e\n",
    "\n",
    "2\n",
    "hell\n",
    "FORWARD 1000\n",
    "INSERT o\n",
    "\n",
    "1\n",
    "hello\n",
    "REPLACE HELLO\n",
    "\n",
    "1\n",
    "hello\n",
    "REPLACE HELLO_WORLD\n",
    "\n",
    "2\n",
    "hell\n",
    "FORWARD 10000\n",
    "REPLACE O\n",
    "```"
   ]
  }
 ],
 "metadata": {
  "kernelspec": {
   "display_name": "Python 3",
   "language": "python",
   "name": "python3"
  },
  "language_info": {
   "codemirror_mode": {
    "name": "ipython",
    "version": 3
   },
   "file_extension": ".py",
   "mimetype": "text/x-python",
   "name": "python",
   "nbconvert_exporter": "python",
   "pygments_lexer": "ipython3",
   "version": "3.11.4"
  },
  "orig_nbformat": 4
 },
 "nbformat": 4,
 "nbformat_minor": 2
}
