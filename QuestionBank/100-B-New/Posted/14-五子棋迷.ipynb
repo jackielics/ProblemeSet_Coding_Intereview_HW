{
 "cells": [
  {
   "cell_type": "markdown",
   "metadata": {},
   "source": [
    "# Topic\n",
    "14-五子棋迷  \n",
    "GomokuFan-HUAWEI-CodingInterview"
   ]
  },
  {
   "cell_type": "markdown",
   "metadata": {},
   "source": [
    "# Problem Description\n",
    "![https://blog.csdn.net/qfc_128220/article/details/130766999](https://res.cloudinary.com/dnyeldv5r/image/upload/v1690292022/2023-07-25_213311_vk6xea.png)"
   ]
  },
  {
   "cell_type": "markdown",
   "metadata": {},
   "source": [
    "# Key Point & Tag\n",
    "Difficulty Assessment: Easy"
   ]
  },
  {
   "cell_type": "markdown",
   "metadata": {},
   "source": [
    "# Code"
   ]
  },
  {
   "cell_type": "code",
   "execution_count": 4,
   "metadata": {},
   "outputs": [
    {
     "name": "stdout",
     "output_type": "stream",
     "text": [
      "5\n"
     ]
    }
   ],
   "source": [
    "class GomokuFan:\n",
    "\t# Input Part\n",
    "\tdef GetInput(self)->None:\n",
    "\t\t'''\n",
    "\t\tGet Input Data and Preprocess Data\n",
    "\t\t'''\n",
    "\t\tself.K = int(input()) \n",
    "\t\tself.arr = list(map(int, input().strip().split(' ')))\n",
    "\t\n",
    "\t# Algorithm Part\n",
    "\tdef Solution(self)->int:\n",
    "\t\t'''\n",
    "\t\tAlgorithm Solving Problem\n",
    "\t\t'''\n",
    "\t\t# Get data from self\n",
    "\t\tK = self.K\n",
    "\t\tarr = self.arr\n",
    "\n",
    "\t\tdef GetContLen(i)->int:\n",
    "\t\t\t'''\n",
    "\t\t\tGet Max Continuous Length From 'arr[i]==0' to Leftwards and Rightwards\n",
    "\t\t\ti: current index\n",
    "\t\t\t'''\n",
    "\t\t\tl = r = i # Leftwards and Rightwards Pointer\n",
    "\t\t\t# interrupt continuity or beyond boundary\n",
    "\t\t\twhile r < len(arr) - 1 and arr[r + 1] == K:\n",
    "\t\t\t\tr += 1\n",
    "\t\t\twhile l > 0 and arr[l - 1] == K:\n",
    "\t\t\t\tl -= 1\n",
    "\t\t\t\n",
    "\t\t\treturn r - l + 1\n",
    "\n",
    "\t\t# Get current max continuous length without filling\n",
    "\t\tl = 0\n",
    "\t\tmaxLen = 0\n",
    "\t\twhile l < len(arr):\n",
    "\t\t\tcurLen = 0\n",
    "\t\t\twhile l < len(arr) and arr[l] == K:\n",
    "\t\t\t\tcurLen += 1\n",
    "\t\t\t\tl += 1\n",
    "\t\t\t\tmaxLen = max(maxLen, curLen)\n",
    "\t\t\telse: # if else \n",
    "\t\t\t\tl += 1\n",
    "\n",
    "\t\tl = r = len(arr)//2 # start from middle\n",
    "\t\tres = -1\n",
    "\t\twhile l >= 0 and r <= len(arr) - 1:\n",
    "\t\t\tif arr[l] == 0:\n",
    "\t\t\t\tcurLen = GetContLen(l)\n",
    "\t\t\t\tif curLen <= 5 and curLen > maxLen:\n",
    "\t\t\t\t\tres = l\n",
    "\t\t\t\t\tmaxLen = curLen\n",
    "\n",
    "\t\t\tif arr[r] == 0:\n",
    "\t\t\t\tcurLen = GetContLen(r)\n",
    "\t\t\t\tif curLen <= 5 and curLen > maxLen:\n",
    "\t\t\t\t\tres = r\n",
    "\t\t\t\t\tmaxLen = curLen\n",
    "\t\t\t# Spreading From Center to Leftwards and Rightwards\n",
    "\t\t\tl -= 1\n",
    "\t\t\tr += 1\n",
    "\t\t\t\n",
    "\t\treturn res \n",
    "\n",
    "# Execution Part\n",
    "if __name__ == \"__main__\":\n",
    "\t# Instantiate\n",
    "\tobj = GomokuFan()\n",
    "\t# Get Input\n",
    "\tobj.GetInput()\n",
    "\t# Get Result\n",
    "\tprint(obj.Solution())\n"
   ]
  },
  {
   "cell_type": "markdown",
   "metadata": {},
   "source": [
    "# Test Cases\n",
    "```\n",
    "1\n",
    "-1 0 1 1 1 0 1 -1 1\n",
    "\n",
    "-1\n",
    "-1 0 1 1 1 0 1 0 1 -1 1\n",
    "\n",
    "1\n",
    "0 0 0 0 1 0 0 0 0 1 0\n",
    "```"
   ]
  }
 ],
 "metadata": {
  "kernelspec": {
   "display_name": "Python 3",
   "language": "python",
   "name": "python3"
  },
  "language_info": {
   "codemirror_mode": {
    "name": "ipython",
    "version": 3
   },
   "file_extension": ".py",
   "mimetype": "text/x-python",
   "name": "python",
   "nbconvert_exporter": "python",
   "pygments_lexer": "ipython3",
   "version": "3.11.4"
  },
  "orig_nbformat": 4
 },
 "nbformat": 4,
 "nbformat_minor": 2
}
