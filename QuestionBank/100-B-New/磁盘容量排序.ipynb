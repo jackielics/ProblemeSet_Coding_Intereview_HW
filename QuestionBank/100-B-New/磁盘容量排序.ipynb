{
 "cells": [
  {
   "cell_type": "code",
   "execution_count": 4,
   "metadata": {},
   "outputs": [
    {
     "name": "stdout",
     "output_type": "stream",
     "text": [
      "3M2G\n",
      "2G4M\n",
      "1T\n"
     ]
    }
   ],
   "source": [
    "N = int(input())\n",
    "S = [input() for _ in range(N)]\n",
    "\n",
    "# N = 3\n",
    "# S = ['2G4M', '3M2G', '1T']\n",
    "\n",
    "trans = {'M': 1, 'G': 1024, 'T': 1024 * 1024} # Transform Dic\n",
    "dics = [] # [{'s':, 'u': u, 'n':}] # String, Unit, Size 'M'\n",
    "for s in S:\n",
    "\tn = ''\n",
    "\tsize = 0\n",
    "\tfor c in s: # Each Char\n",
    "\t\tif '0'<= c <='9':\n",
    "\t\t\tn += c\n",
    "\t\telse: # Unit\n",
    "\t\t\tsize += int(n) * trans[c] # Acutal Size in Unit 'M'\n",
    "\t\t\tn = '' # Reset n\n",
    "\tdics.append({'str': s, 'size': size}) \n",
    "\n",
    "dics.sort(key = lambda x: x['size']) # ASC\n",
    "res = [x['str'] for x in dics]\n",
    "print('\\n'.join(res))"
   ]
  },
  {
   "cell_type": "code",
   "execution_count": 36,
   "metadata": {},
   "outputs": [
    {
     "ename": "AttributeError",
     "evalue": "'list' object has no attribute 'group'",
     "output_type": "error",
     "traceback": [
      "\u001b[1;31m---------------------------------------------------------------------------\u001b[0m",
      "\u001b[1;31mAttributeError\u001b[0m                            Traceback (most recent call last)",
      "Cell \u001b[1;32mIn[36], line 4\u001b[0m\n\u001b[0;32m      2\u001b[0m a \u001b[39m=\u001b[39m \u001b[39m'\u001b[39m\u001b[39m3G1024M\u001b[39m\u001b[39m'\u001b[39m\n\u001b[0;32m      3\u001b[0m matches \u001b[39m=\u001b[39m re\u001b[39m.\u001b[39mfindall(\u001b[39mr\u001b[39m\u001b[39m'\u001b[39m\u001b[39m([0-9]*)([MGT])\u001b[39m\u001b[39m'\u001b[39m, a)\n\u001b[1;32m----> 4\u001b[0m matches\u001b[39m.\u001b[39;49mgroup(\u001b[39m2\u001b[39m)\n",
      "\u001b[1;31mAttributeError\u001b[0m: 'list' object has no attribute 'group'"
     ]
    }
   ],
   "source": [
    "import re\n",
    "a = '3G1024M'\n",
    "matches = re.findall(r'([0-9]*)([MGT])', a)\n",
    "# matches.group(2)\\\n"
   ]
  },
  {
   "cell_type": "markdown",
   "metadata": {},
   "source": [
    "# Test Case"
   ]
  },
  {
   "cell_type": "markdown",
   "metadata": {},
   "source": [
    "```\n",
    "3\n",
    "1G\n",
    "2G\n",
    "1024M\n",
    "\n",
    "3\n",
    "2G4M\n",
    "3M2G\n",
    "1T\n",
    "```"
   ]
  }
 ],
 "metadata": {
  "kernelspec": {
   "display_name": "Python 3",
   "language": "python",
   "name": "python3"
  },
  "language_info": {
   "codemirror_mode": {
    "name": "ipython",
    "version": 3
   },
   "file_extension": ".py",
   "mimetype": "text/x-python",
   "name": "python",
   "nbconvert_exporter": "python",
   "pygments_lexer": "ipython3",
   "version": "3.11.4"
  },
  "orig_nbformat": 4
 },
 "nbformat": 4,
 "nbformat_minor": 2
}
