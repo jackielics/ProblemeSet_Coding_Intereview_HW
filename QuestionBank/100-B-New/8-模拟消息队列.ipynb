{
 "cells": [
  {
   "cell_type": "markdown",
   "metadata": {},
   "source": [
    "# Title\n",
    "8-模拟消息队列  \n",
    "MockMessageQueue-HUAWEI-CodingInterview"
   ]
  },
  {
   "cell_type": "markdown",
   "metadata": {},
   "source": [
    "# Problem Description\n",
    "![https://fcqian.blog.csdn.net/article/details/130764579](https://res.cloudinary.com/dnyeldv5r/image/upload/v1690194237/2023-07-24_182308_rgfidw.png)"
   ]
  },
  {
   "cell_type": "markdown",
   "metadata": {},
   "source": [
    "# Key Point & Tag\n",
    "Difficulty Assessment: Easy"
   ]
  },
  {
   "cell_type": "markdown",
   "metadata": {},
   "source": [
    "# Code"
   ]
  },
  {
   "cell_type": "code",
   "execution_count": 3,
   "metadata": {},
   "outputs": [
    {
     "name": "stdout",
     "output_type": "stream",
     "text": [
      "-1\n",
      "-1\n",
      "76\n",
      "-1\n",
      "72 56 49\n"
     ]
    }
   ],
   "source": [
    "# Input Part\n",
    "def get_input()->dict:\n",
    "\t'''\n",
    "    Get Input Data\n",
    "\t'''\n",
    "\tprod = list(map(int, input().strip().split(' '))) # remove space in each end\n",
    "\tcons = list(map(int, input().strip().split(' ')))\n",
    "\treturn {'prod': prod, 'cons': cons}\n",
    "\n",
    "# Algorithm Part\n",
    "class MockMessageQueue:\n",
    "\tdef Solution(self, prod, cons)->int:\n",
    "\t\tprod_dic = [] # [{'t': , 'msg': }]\n",
    "\t\tfor i in range(0, len(prod), 2):\n",
    "\t\t\tprod_dic.append({'t': prod[i], 'msg': prod[i + 1]})\n",
    "\t\t# sort prod msg by time ASC\n",
    "\t\tprod_dic.sort(key = lambda x: x['t'])\n",
    "\n",
    "\t\tcons_dic = [] # [{'st': , 'ed': }]\n",
    "\t\tfor i in range(0, len(cons), 2):\n",
    "\t\t\tcons_dic.append({'st': cons[i], 'ed': cons[i + 1]})\n",
    "\t\tres = [[-1] for _ in range(len(cons_dic))]\n",
    "\n",
    "\t\tfor p in prod_dic: # earlier first\n",
    "\t\t\t# find recver\n",
    "\t\t\tfor i in range(len(cons_dic) - 1, -1, -1): # high priority first\n",
    "\t\t\t\tif cons_dic[i]['st'] <= p['t'] < cons_dic[i]['ed']:\n",
    "\t\t\t\t\t# recver found\n",
    "\t\t\t\t\tif res[i] == [-1]: # empty before\n",
    "\t\t\t\t\t\tres[i] = [p['msg']] \n",
    "\t\t\t\t\telse: # not empty\n",
    "\t\t\t\t\t\tres[i] += [p['msg']] \n",
    "\t\t\t\t\tbreak\n",
    "\t\t\t\t\n",
    "\t\treturn res \n",
    "\n",
    "# Execution Part\n",
    "if __name__ == \"__main__\":\n",
    "\t# Get Input\n",
    "\tdata = get_input()\n",
    "\t# Get Result\n",
    "\tres = MockMessageQueue().Solution(data['prod'], data['cons'])\n",
    "\tfor v in res:\n",
    "\t\tprint(' '.join([str(x) for x in v]))"
   ]
  },
  {
   "cell_type": "code",
   "execution_count": 17,
   "metadata": {},
   "outputs": [
    {
     "name": "stdout",
     "output_type": "stream",
     "text": [
      "11 33 44 55\n",
      "22\n"
     ]
    }
   ],
   "source": [
    "# res\n",
    "for v in res:\n",
    "\tprint(' '.join([str(x) for x in v]))"
   ]
  },
  {
   "cell_type": "code",
   "execution_count": 5,
   "metadata": {},
   "outputs": [
    {
     "name": "stdout",
     "output_type": "stream",
     "text": [
      "dasaa\n"
     ]
    }
   ],
   "source": [
    "if 0<= 1 < 2 :\n",
    "    print(\"dasaa\")"
   ]
  },
  {
   "cell_type": "code",
   "execution_count": null,
   "metadata": {},
   "outputs": [],
   "source": []
  }
 ],
 "metadata": {
  "kernelspec": {
   "display_name": "Python 3",
   "language": "python",
   "name": "python3"
  },
  "language_info": {
   "codemirror_mode": {
    "name": "ipython",
    "version": 3
   },
   "file_extension": ".py",
   "mimetype": "text/x-python",
   "name": "python",
   "nbconvert_exporter": "python",
   "pygments_lexer": "ipython3",
   "version": "3.11.4"
  },
  "orig_nbformat": 4
 },
 "nbformat": 4,
 "nbformat_minor": 2
}
