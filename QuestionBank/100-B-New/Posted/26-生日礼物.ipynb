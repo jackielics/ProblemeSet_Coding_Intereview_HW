{
 "cells": [
  {
   "cell_type": "markdown",
   "metadata": {},
   "source": [
    "# Topic\n",
    "26-生日礼物  \n",
    "BirthdayGift-HUAWEI-CodingInterview"
   ]
  },
  {
   "cell_type": "markdown",
   "metadata": {},
   "source": [
    "# Problem Description\n",
    "![](https://res.cloudinary.com/dnyeldv5r/image/upload/v1691641711/2023-08-10_122802_wjudoh.png)"
   ]
  },
  {
   "cell_type": "markdown",
   "metadata": {},
   "source": [
    "# Key Point & Tag\n",
    "Difficulty Assessment: Easy  "
   ]
  },
  {
   "cell_type": "markdown",
   "metadata": {},
   "source": [
    "# Approach\n",
    "use Two-Pointer"
   ]
  },
  {
   "cell_type": "markdown",
   "metadata": {},
   "source": [
    "# Code"
   ]
  },
  {
   "cell_type": "code",
   "execution_count": 14,
   "metadata": {},
   "outputs": [
    {
     "name": "stdout",
     "output_type": "stream",
     "text": [
      "7\n"
     ]
    }
   ],
   "source": [
    "class BirthdayGift:\n",
    "\t# Input Part\n",
    "\tdef GetInput(self)->None:\n",
    "\t\t'''\n",
    "\t\tGet Input Data and Preprocess Data\n",
    "\t\t'''\n",
    "\t\tself.arr1 = list(map(int, input().strip().split(',')))\n",
    "\t\tself.arr2 = list(map(int, input().strip().split(',')))\n",
    "\t\tself.BDG = int(input()) # budget\n",
    "\n",
    "\t# Algorithm Part\n",
    "\tdef Solution(self)->int:\n",
    "\t\t'''\n",
    "\t\tAlgorithm Solving Problem\n",
    "\t\t'''\n",
    "\t\t# Get data from self\n",
    "\t\tBDG = self.BDG\n",
    "\t\tarr1, arr2 = sorted(self.arr1), sorted(self.arr2)\n",
    "\n",
    "\t\tres = 0\n",
    "\t\tm = len(arr2) - 1\n",
    "\t\tfor i in range(len(arr1)):\n",
    "\t\t\tRMN = BDG - arr1[i] # remaining\n",
    "\t\t\t# find the last one no greater than RMN money\n",
    "\t\t\tl = 0\n",
    "\t\t\tr = m # reduce time\n",
    "\t\t\tcnt = -1\n",
    "\t\t\twhile l <= r:\n",
    "\t\t\t\tm = (l + r) // 2\n",
    "\t\t\t\tif arr2[m] <= RMN:\n",
    "\t\t\t\t\tcnt = m\n",
    "\t\t\t\t\tl = m + 1\n",
    "\t\t\t\telse:\n",
    "\t\t\t\t\tr = m - 1\n",
    "\t\t\tres += cnt + 1\n",
    "\n",
    "\t\treturn res\n",
    "\n",
    "# Execution Part\n",
    "if __name__ == \"__main__\":\n",
    "\t# Instantiate\n",
    "\tobj = BirthdayGift()\n",
    "\t# Get Input\n",
    "\tobj.GetInput()\n",
    "\t# Get Result\n",
    "\tprint(obj.Solution())\n"
   ]
  },
  {
   "cell_type": "markdown",
   "metadata": {},
   "source": [
    "# Test Cases\n",
    "```\n",
    "10,20,5\n",
    "5,5,2\n",
    "15\n",
    "```"
   ]
  }
 ],
 "metadata": {
  "kernelspec": {
   "display_name": "Python 3",
   "language": "python",
   "name": "python3"
  },
  "language_info": {
   "codemirror_mode": {
    "name": "ipython",
    "version": 3
   },
   "file_extension": ".py",
   "mimetype": "text/x-python",
   "name": "python",
   "nbconvert_exporter": "python",
   "pygments_lexer": "ipython3",
   "version": "3.11.4"
  },
  "orig_nbformat": 4
 },
 "nbformat": 4,
 "nbformat_minor": 2
}
