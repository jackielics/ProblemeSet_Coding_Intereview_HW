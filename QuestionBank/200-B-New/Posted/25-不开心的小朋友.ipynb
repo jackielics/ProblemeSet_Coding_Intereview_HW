{
 "cells": [
  {
   "cell_type": "markdown",
   "metadata": {},
   "source": [
    "# Topic\n",
    "25-不开心的小朋友  \n",
    "UnhappyKid-HUAWEI-CodingInterview"
   ]
  },
  {
   "cell_type": "markdown",
   "metadata": {},
   "source": [
    "# Problem Description\n",
    "![https://fcqian.blog.csdn.net/article/details/130773708](https://res.cloudinary.com/dnyeldv5r/image/upload/v1691412388/2023-08-07_204603_gikcd6.png)"
   ]
  },
  {
   "cell_type": "markdown",
   "metadata": {},
   "source": [
    "# Key Point & Tag\n",
    "|  Key   | Value  |\n",
    "|  :----:  | :----:  |\n",
    "| Difficulty Assessment  | Easy⭐ |\n",
    "| Tag  |   |\n",
    "| Similar Problem | []()|"
   ]
  },
  {
   "cell_type": "markdown",
   "metadata": {},
   "source": [
    "# Code"
   ]
  },
  {
   "cell_type": "code",
   "execution_count": 5,
   "metadata": {},
   "outputs": [
    {
     "name": "stdout",
     "output_type": "stream",
     "text": [
      "1\n"
     ]
    }
   ],
   "source": [
    "class UnhappyKid:\n",
    "\t# Input Part\n",
    "\tdef GetInput(self)->None:\n",
    "\t\t'''\n",
    "\t\tGet Input Data and Preprocess Data\n",
    "\t\t'''\n",
    "\t\tself.N = int(input()) \n",
    "\t\tself.nums = list(map(int, input().strip().split(' ')))\n",
    "\n",
    "\t# Algorithm Part\n",
    "\tdef Solution(self)->int:\n",
    "\t\t'''\n",
    "\t\tAlgorithm Solving Problem\n",
    "\t\t'''\n",
    "\t\t# Get data from self\n",
    "\t\tN = self.N\n",
    "\t\tnums = self.nums\n",
    "\t\t\n",
    "\t\tAVL = N # Available Amount\n",
    "\n",
    "\t\tusin, wait = set(), set() # Using People and Waiting People\n",
    "\t\tres = 0\n",
    "\n",
    "\t\tfor x in nums:\n",
    "\t\t\tif x in usin: # Leaving After Using\n",
    "\t\t\t\tusin.remove(x)\n",
    "\t\t\t\tif wait:\n",
    "\t\t\t\t\tx = list(wait)[0] # Que\n",
    "\t\t\t\t\twait.remove(x)\n",
    "\t\t\t\t\tusin.add(x)\n",
    "\t\t\t\telse:\n",
    "\t\t\t\t\tAVL += 1\n",
    "\t\t\telif x in wait: # Waiting but Leaving\n",
    "\t\t\t\tres += 1 # Unhappy +1\n",
    "\t\t\t\twait.remove(x)\n",
    "\t\t\telse: # New Here\n",
    "\t\t\t\tif AVL > 0: # Available then Using Directly\n",
    "\t\t\t\t\tusin.add(x)\n",
    "\t\t\t\t\tAVL -= 1\n",
    "\t\t\t\telse: # Occupied for Now\n",
    "\t\t\t\t\twait.add(x)\n",
    "\n",
    "\t\treturn res\n",
    "\n",
    "# Execution Part\n",
    "if __name__ == \"__main__\":\n",
    "\t# Instantiate\n",
    "\tobj = UnhappyKid()\n",
    "\t# Get Input\n",
    "\tobj.GetInput()\n",
    "\t# Get Result\n",
    "\tprint(obj.Solution())\n"
   ]
  },
  {
   "cell_type": "markdown",
   "metadata": {},
   "source": [
    "# Test Cases\n",
    "```\n",
    "1\n",
    "1 2 1 2\n",
    "\n",
    "1\n",
    "1 2 2 3 1 3\n",
    "```"
   ]
  }
 ],
 "metadata": {
  "kernelspec": {
   "display_name": "Python 3",
   "language": "python",
   "name": "python3"
  },
  "language_info": {
   "codemirror_mode": {
    "name": "ipython",
    "version": 3
   },
   "file_extension": ".py",
   "mimetype": "text/x-python",
   "name": "python",
   "nbconvert_exporter": "python",
   "pygments_lexer": "ipython3",
   "version": "3.11.4"
  },
  "orig_nbformat": 4
 },
 "nbformat": 4,
 "nbformat_minor": 2
}
