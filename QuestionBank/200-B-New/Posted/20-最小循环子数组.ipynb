{
 "cells": [
  {
   "cell_type": "markdown",
   "metadata": {},
   "source": [
    "# Topic\n",
    "20-最小循环子数组  \n",
    "MinCycSub-HUAWEI-CodingInterview"
   ]
  },
  {
   "cell_type": "markdown",
   "metadata": {},
   "source": [
    "# Problem Description\n",
    "![https://blog.csdn.net/qfc_128220/article/details/130773781](https://res.cloudinary.com/dnyeldv5r/image/upload/v1691304776/2023-08-06_145225_mfdei4.png)"
   ]
  },
  {
   "cell_type": "markdown",
   "metadata": {},
   "source": [
    "# Key Point & Tag\n",
    "|  Key   | Value  |\n",
    "|  :----:  | :----:  |\n",
    "| Difficulty Assessment  | Medium⭐⭐ |\n",
    "| Tag  | KMP  |\n",
    "| Similar Problem | []()|"
   ]
  },
  {
   "cell_type": "markdown",
   "metadata": {},
   "source": [
    "# Code"
   ]
  },
  {
   "cell_type": "code",
   "execution_count": 6,
   "metadata": {},
   "outputs": [
    {
     "name": "stdout",
     "output_type": "stream",
     "text": [
      "1 2 1\n"
     ]
    }
   ],
   "source": [
    "class MinCycSub:\n",
    "\t# Input Part\n",
    "\tdef GetInput(self)->None:\n",
    "\t\t'''\n",
    "\t\tGet Input Data and Preprocess Data\n",
    "\t\t'''\n",
    "\t\t# self.N = int(input()) \n",
    "\t\t# self.nums = list(map(str, input().strip().split(' ')))\n",
    "\n",
    "\t\tself.N = 9\n",
    "\t\tself.nums = ['1', '2', '1', '1', '2', '1', '1', '2', '1']\n",
    "\n",
    "\t# Algorithm Part\n",
    "\tdef Solution(self)->int:\n",
    "\t\t'''\n",
    "\t\tAlgorithm Solving Problem\n",
    "\t\t'''\n",
    "\t\t# Get data from self\n",
    "\t\tN = self.N\n",
    "\t\tnums = self.nums\n",
    "\t\t\n",
    "\t\tdef getNxt():\n",
    "\t\t\t'''\n",
    "\t\t\tKMP Algorithm\n",
    "\t\t\t'''\n",
    "\t\t\tnxt = [0] * N # Length of Longest Equal Prefix and Suffix at Current Index\n",
    "\t\t\t# nxt[0] === 0\n",
    "\n",
    "\t\t\ti = 1 # Main String Pointer\n",
    "\t\t\tk = 0 # Comparing Index\n",
    "\n",
    "\t\t\twhile i < N:\n",
    "\t\t\t\tif nums[i] == nums[k]: # Matched\n",
    "\t\t\t\t\tnxt[i] = k + 1 # Comparing Index\n",
    "\t\t\t\t\ti += 1 # Move Both Pointer\n",
    "\t\t\t\t\tk += 1\n",
    "\t\t\t\telse: # Missed\n",
    "\t\t\t\t\tif k > 0:\n",
    "\t\t\t\t\t\tk = nxt[k - 1] # iump to Specific Pos\n",
    "\t\t\t\t\telse:\n",
    "\t\t\t\t\t\ti += 1 # Move Main String Pointer Only\n",
    "\t\t\treturn nxt[-1]\n",
    "\n",
    "\t\tllen = getNxt() # Length of Longest Equal Prefix and Suffix in Whole String\n",
    "\t\tif N % (N - llen) == 0:\n",
    "\t\t\t# return (N - llen)\n",
    "\t\t\tres = nums[:N - llen]\n",
    "\t\telse:\n",
    "\t\t\tres = nums\n",
    "\n",
    "\t\treturn ' '.join(res)\n",
    "\t\n",
    "# Execution Part\n",
    "if __name__ == \"__main__\":\n",
    "\t# Instantiate\n",
    "\tobi = MinCycSub()\n",
    "\t# Get Input\n",
    "\tobi.GetInput()\n",
    "\t# Get Result\n",
    "\tprint(obi.Solution())\n"
   ]
  },
  {
   "cell_type": "markdown",
   "metadata": {},
   "source": [
    "# Test Cases\n",
    "```\n",
    "9\n",
    "1 2 1 1 2 1 1 2 1\n",
    "```"
   ]
  }
 ],
 "metadata": {
  "kernelspec": {
   "display_name": "Python 3",
   "language": "python",
   "name": "python3"
  },
  "language_info": {
   "codemirror_mode": {
    "name": "ipython",
    "version": 3
   },
   "file_extension": ".py",
   "mimetype": "text/x-python",
   "name": "python",
   "nbconvert_exporter": "python",
   "pygments_lexer": "ipython3",
   "version": "3.11.4"
  },
  "orig_nbformat": 4
 },
 "nbformat": 4,
 "nbformat_minor": 2
}
