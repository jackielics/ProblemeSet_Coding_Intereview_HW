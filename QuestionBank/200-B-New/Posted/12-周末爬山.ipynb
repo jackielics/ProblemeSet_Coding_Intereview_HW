{
 "cells": [
  {
   "cell_type": "markdown",
   "metadata": {},
   "source": [
    "# Topic\n",
    "12-周末爬山  \n",
    "ClimbingMountains-HUAWEI-CodingInterview"
   ]
  },
  {
   "cell_type": "markdown",
   "metadata": {},
   "source": [
    "# Problem Description\n",
    "![https://fcqian.blog.csdn.net/article/details/130774056?spm=1001.2014.3001.5502](https://res.cloudinary.com/dnyeldv5r/image/upload/v1691215093/2023-08-05_135743_qu3e97.png)"
   ]
  },
  {
   "cell_type": "markdown",
   "metadata": {},
   "source": [
    "# Key Point & Tag\n",
    "|  Key   | Value  |\n",
    "|  :----:  | :----:  |\n",
    "| Difficulty Assessment  | Medium⭐⭐ |\n",
    "| Tag  | Queue BFS |\n",
    "| Similar Problem | []()|"
   ]
  },
  {
   "cell_type": "markdown",
   "metadata": {},
   "source": [
    "# Code"
   ]
  },
  {
   "cell_type": "code",
   "execution_count": null,
   "metadata": {},
   "outputs": [],
   "source": [
    "class ClimbingMountains:\n",
    "\t# Input Part\n",
    "\tdef GetInput(self)->None:\n",
    "\t\t'''\n",
    "\t\tGet Input Data and Preprocess Data\n",
    "\t\t'''\n",
    "\t\tself.R, self.C, self.N = map(int, input().strip().split(' '))\n",
    "\t\tself.mat = [list(map(int, input().split())) for _ in range(self.R)]\n",
    "\n",
    "\t# Algorithm Part\n",
    "\tdef Solution(self)->int:\n",
    "\t\t'''\n",
    "\t\tAlgorithm Solving Problem\n",
    "\t\t'''\n",
    "\t\t# Get data from self\n",
    "\t\tR, C, M = self.R, self.C, self.N\n",
    "\t\tmat = self.mat\n",
    "\n",
    "\t\tvtd = [[False] * C for _ in range(R)] # coordinate visited or not\n",
    "\n",
    "\t\tres = {'hgt': 0, 'stp': 0}\n",
    "\t\tadj = [(-1, 0), (1, 0), (0, -1), (0, 1)]\n",
    "\t\tbfsq = [(0, 0, 0)] # BFS queue starting from (0, 0, 0steps)\n",
    "\t\twhile bfsq:\n",
    "\t\t\ti, j, s = bfsq.pop(0) # Current (x,y)\n",
    "\t\t\tif vtd[i][j]: # already visited before(BFS feature)\n",
    "\t\t\t\tcontinue\n",
    "\t\t\tvtd[i][j] = True # mark visited\n",
    "\n",
    "\t\t\tif \tmat[i][j] > res['hgt'] or (mat[i][j] == res['hgt'] and s < res['stp']):\n",
    "\t\t\t\tres = {'hgt': mat[i][j], 'stp': s} # Update res\n",
    "\t\t\t\n",
    "\t\t\t# Visit Adjacent\n",
    "\t\t\tfor v in adj: \n",
    "\t\t\t\ti1, j1 = i + v[0], j + v[1]\n",
    "\t\t\t\t# If Within Bounds, Reachable and Never Visited Before, then Add to Que\n",
    "\t\t\t\tif \t0 <= i1 < R and 0 <= j1 < C and \\\n",
    "\t\t\t\t\tabs(mat[i1][j1] - mat[i][j]) <= M and \\\n",
    "\t\t\t\t\tnot vtd[i1][j1]: \n",
    "\t\t\t\t\tbfsq.append((i1, j1, s + 1))\n",
    "\n",
    "\t\treturn ' '.join([str(x) for x in list(res.values())])\n",
    "\n",
    "# Execution Part\n",
    "if __name__ == \"__main__\":\n",
    "\t# Instantiate\n",
    "\tobj = ClimbingMountains()\n",
    "\t# Get Input\n",
    "\tobj.GetInput()\n",
    "\t# Get Result\n",
    "\tprint(obj.Solution())\n"
   ]
  },
  {
   "cell_type": "markdown",
   "metadata": {},
   "source": [
    "# Test Cases\n",
    "```\n",
    "5 4 1\n",
    "0 1 2 0\n",
    "1 0 0 0\n",
    "1 0 1 2\n",
    "1 3 1 0\n",
    "0 0 0 9\n",
    "\n",
    "5 4 3\n",
    "0 0 0 0\n",
    "0 0 0 0\n",
    "0 9 0 0\n",
    "0 0 0 0\n",
    "0 0 0 9\n",
    "\n",
    "22, 22, 4  \n",
    "[[1, 5, 9, 1, 3, 1, 2, 5, 7, 8, 5, 8, 7, 3, 1, 2, 6, 6, 6, 5, 4, 3],\n",
    "\t\t\t\t\t[3, 5, 2, 3, 2, 1, 8, 4, 9, 8, 6, 2, 4, 4, 2, 0, 5, 0, 4, 4, 2, 8],\n",
    "\t\t\t\t\t[0, 4, 1, 1, 8, 4, 4, 8, 5, 6, 9, 1, 1, 2, 4, 1, 8, 4, 7, 2, 8, 7],\n",
    "\t\t\t\t\t[0, 6, 4, 4, 8, 6, 9, 6, 4, 1, 4, 2, 6, 7, 1, 9, 9, 9, 6, 6, 5, 6],\n",
    "\t\t\t\t\t[5, 7, 1, 4, 0, 1, 8, 3, 2, 6, 0, 3, 5, 6, 3, 6, 6, 8, 7, 7, 4, 6],\n",
    "\t\t\t\t\t[9, 1, 7, 4, 6, 6, 7, 9, 2, 0, 0, 3, 4, 3, 3, 3, 0, 7, 0, 4, 9, 4],\n",
    "\t\t\t\t\t[1, 3, 2, 0, 7, 3, 4, 5, 5, 9, 2, 9, 3, 1, 5, 0, 8, 4, 3, 6, 8, 6],\n",
    "\t\t\t\t\t[4, 3, 7, 7, 1, 5, 9, 3, 4, 6, 4, 5, 8, 6, 3, 2, 3, 4, 8, 9, 5, 7],\n",
    "\t\t\t\t\t[0, 5, 3, 1, 3, 3, 5, 8, 6, 8, 7, 2, 3, 3, 2, 4, 2, 2, 1, 2, 7, 2],\n",
    "\t\t\t\t\t[3, 8, 0, 6, 4, 7, 1, 7, 6, 2, 1, 9, 3, 4, 5, 5, 1, 1, 6, 0, 6, 3],\n",
    "\t\t\t\t\t[7, 5, 0, 0, 3, 1, 1, 1, 3, 7, 6, 3, 7, 6, 8, 0, 5, 3, 0, 5, 7, 8],\n",
    "\t\t\t\t\t[6, 9, 3, 4, 8, 3, 5, 5, 9, 2, 0, 9, 6, 1, 1, 9, 3, 0, 3, 1, 3, 8],\n",
    "\t\t\t\t\t[2, 1, 3, 3, 5, 2, 0, 7, 6, 7, 2, 8, 3, 8, 6, 2, 3, 8, 1, 4, 2, 8],\n",
    "\t\t\t\t\t[4, 4, 1, 0, 2, 7, 7, 5, 1, 9, 9, 5, 9, 2, 5, 3, 9, 4, 3, 0, 8, 3],\n",
    "\t\t\t\t\t[6, 3, 1, 3, 3, 0, 5, 1, 8, 5, 0, 6, 8, 4, 8, 7, 7, 2, 1, 0, 7, 3],\n",
    "\t\t\t\t\t[0, 7, 2, 5, 1, 8, 2, 2, 1, 9, 3, 6, 3, 2, 0, 2, 0, 5, 4, 6, 0, 7],\n",
    "\t\t\t\t\t[7, 8, 3, 9, 2, 5, 9, 5, 5, 6, 7, 4, 0, 7, 3, 3, 3, 6, 3, 1, 8, 2],\n",
    "\t\t\t\t\t[3, 6, 6, 7, 7, 1, 1, 2, 3, 3, 5, 2, 6, 5, 5, 4, 8, 6, 7, 1, 6, 8],\n",
    "\t\t\t\t\t[4, 1, 3, 4, 1, 4, 6, 7, 3, 0, 1, 3, 5, 7, 8, 3, 4, 9, 8, 6, 8, 2],\n",
    "\t\t\t\t\t[9, 9, 4, 8, 6, 4, 4, 2, 2, 2, 4, 4, 8, 6, 4, 1, 1, 0, 7, 7, 6, 9],\n",
    "\t\t\t\t\t[1, 5, 4, 0, 3, 3, 9, 5, 9, 0, 3, 1, 9, 9, 4, 8, 0, 4, 0, 4, 6, 3],\n",
    "\t\t\t\t\t[8, 0, 0, 4, 8, 5, 6, 4, 0, 5, 8, 9, 7, 8, 1, 5, 5, 1, 9, 7, 8, 0]]\n",
    "```"
   ]
  },
  {
   "cell_type": "markdown",
   "metadata": {},
   "source": []
  }
 ],
 "metadata": {
  "kernelspec": {
   "display_name": "Python 3",
   "language": "python",
   "name": "python3"
  },
  "language_info": {
   "codemirror_mode": {
    "name": "ipython",
    "version": 3
   },
   "file_extension": ".py",
   "mimetype": "text/x-python",
   "name": "python",
   "nbconvert_exporter": "python",
   "pygments_lexer": "ipython3",
   "version": "3.11.4"
  },
  "orig_nbformat": 4
 },
 "nbformat": 4,
 "nbformat_minor": 2
}
