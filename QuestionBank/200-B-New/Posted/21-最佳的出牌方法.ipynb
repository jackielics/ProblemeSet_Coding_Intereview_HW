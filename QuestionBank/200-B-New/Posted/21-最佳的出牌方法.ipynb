{
 "cells": [
  {
   "cell_type": "markdown",
   "metadata": {},
   "source": [
    "# Topic\n",
    "21-最佳的出牌方法  \n",
    "BestPlay-HUAWEI-CodingInterview"
   ]
  },
  {
   "cell_type": "markdown",
   "metadata": {},
   "source": [
    "# Problem Description\n",
    "![https://blog.csdn.net/qfc_128220/article/details/130775353](https://res.cloudinary.com/dnyeldv5r/image/upload/v1691305806/2023-08-06_150942_h6xfim.png)"
   ]
  },
  {
   "cell_type": "markdown",
   "metadata": {},
   "source": [
    "# Key Point & Tag\n",
    "|  Key   | Value  |\n",
    "|  :----:  | :----:  |\n",
    "| Difficulty Assessment  | Medium⭐⭐ |\n",
    "| Tag  |   |\n",
    "| Similar Problem | []()|"
   ]
  },
  {
   "cell_type": "markdown",
   "metadata": {},
   "source": [
    "# Code"
   ]
  },
  {
   "cell_type": "code",
   "execution_count": 3,
   "metadata": {},
   "outputs": [
    {
     "name": "stdout",
     "output_type": "stream",
     "text": [
      "73\n"
     ]
    }
   ],
   "source": [
    "class BestPlay:\n",
    "\t# Input Part\n",
    "\tdef GetInput(self)->None:\n",
    "\t\t'''\n",
    "\t\tGet Input Data and Preprocess Data\n",
    "\t\t'''\n",
    "\t\tarr = list(input().strip())\n",
    "\t\t# arr = list('33445677')\n",
    "\t\t# arr = list('1234577')\n",
    "\t\t\n",
    "\t\tdic = {'0': 10, 'J':11, 'Q':12, 'K':13}\n",
    "\t\tself.nums = [0] * 14 # 1-9,0,J,Q,K\n",
    "\t\tfor c in arr:\n",
    "\t\t\tif i := dic.get(c, None):\n",
    "\t\t\t\tself.nums[i] += 1\n",
    "\t\t\telse:\n",
    "\t\t\t\tself.nums[int(c)] += 1\n",
    "\n",
    "\t# Algorithm Part\n",
    "\tdef Solution(self)->int:\n",
    "\t\t'''\n",
    "\t\tAlgorithm Solving Problem\n",
    "\t\t'''\n",
    "\t\t# Get data from self\n",
    "\t\tnums = self.nums\n",
    "\n",
    "\t\tdef shunzi():\n",
    "\t\t\t'''\n",
    "\t\t\tOne Round Trip Finding Shunzi\n",
    "\t\t\t'''\n",
    "\t\t\tmax_ints = {'st': 0, 'ints': 0} # Interest Change\n",
    "\t\t\tfor st in range(1, 10): # start from 1 to 9\n",
    "\t\t\t\tints = 0 # Interest Change If Take [st, st + 4] as a Shunzi\n",
    "\t\t\t\tfor ofs in range(5): # offsets [0, 4]\n",
    "\t\t\t\t\tcur = st + ofs # Current Card Number\n",
    "\t\t\t\t\tif nums[cur] == 0: # Invalid\n",
    "\t\t\t\t\t\tints = -999\n",
    "\t\t\t\t\t\tbreak\n",
    "\t\t\t\t\telif nums[cur] == 1:\n",
    "\t\t\t\t\t\tints += cur\n",
    "\t\t\t\t\telif nums[cur] == 2:\n",
    "\t\t\t\t\t\tints -= cur\n",
    "\t\t\t\t\telif nums[cur] == 4:\n",
    "\t\t\t\t\t\tints -= cur * 4\n",
    "\n",
    "\t\t\t\tif ints > max_ints['ints']: # Update 'max_ints'\n",
    "\t\t\t\t\tmax_ints['st'] = st\n",
    "\t\t\t\t\tmax_ints['ints'] = ints\n",
    "\n",
    "\t\t\treturn max_ints\n",
    "\n",
    "\t\tres = 0\n",
    "\n",
    "\t\t# Find Profitable Shunzi\n",
    "\t\twhile True: \n",
    "\t\t\tcomb = shunzi()\n",
    "\t\t\tif comb['st'] == 0: # No Profitable Shunzi Anymore\n",
    "\t\t\t\tbreak\n",
    "\t\t\telse:\n",
    "\t\t\t\tfor ofs in range(5): # offsets [0, 4]\n",
    "\t\t\t\t\tcur = comb['st'] + ofs # Current Card Number\n",
    "\t\t\t\t\tnums[cur] -= 1 # Update 'nums'\n",
    "\t\t\t\t\tres += cur * 2 # Update 'res'\n",
    "\n",
    "\t\t# Add Singles\n",
    "\t\tfor cur in range(1, 14):\n",
    "\t\t\tif nums[cur] == 1:\n",
    "\t\t\t\tres += cur\n",
    "\t\t\telif 2 <= nums[cur] <= 3:\n",
    "\t\t\t\tres += cur * nums[cur] * 2 # Two Times\n",
    "\t\t\telif nums[cur] == 4:\n",
    "\t\t\t\tres += cur * nums[cur] * 3 # Three Times\n",
    "\n",
    "\t\treturn res \n",
    "\n",
    "# Execution Part\n",
    "if __name__ == \"__main__\":\n",
    "\t# Instantiate\n",
    "\tobj = BestPlay()\n",
    "\t# Get Input\n",
    "\tobj.GetInput()\n",
    "\t# Get Result\n",
    "\tprint(obj.Solution())\n"
   ]
  },
  {
   "cell_type": "markdown",
   "metadata": {},
   "source": [
    "# Test Cases\n",
    "```\n",
    "33445677\n",
    "1234577\n",
    "```"
   ]
  }
 ],
 "metadata": {
  "kernelspec": {
   "display_name": "Python 3",
   "language": "python",
   "name": "python3"
  },
  "language_info": {
   "codemirror_mode": {
    "name": "ipython",
    "version": 3
   },
   "file_extension": ".py",
   "mimetype": "text/x-python",
   "name": "python",
   "nbconvert_exporter": "python",
   "pygments_lexer": "ipython3",
   "version": "3.11.4"
  },
  "orig_nbformat": 4
 },
 "nbformat": 4,
 "nbformat_minor": 2
}
