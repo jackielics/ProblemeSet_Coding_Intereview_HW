{
 "cells": [
  {
   "cell_type": "code",
   "execution_count": 2,
   "metadata": {},
   "outputs": [
    {
     "name": "stdout",
     "output_type": "stream",
     "text": [
      "30\n"
     ]
    }
   ],
   "source": [
    "def solution(T, N, jobs):\n",
    "\tm_t = min(jobs, key = lambda x: x['hour'])['hour'] # min hours of jobs\n",
    "\t# dp[i][j]: max wage in the first i jobs in j hours\n",
    "\tdp = [[0] * (T + 1) for _ in range(N + 1)]\n",
    "\tfor j in range(1, N + 1): # job\n",
    "\t\tfor t in range(m_t, T + 1): # time\n",
    "\t\t\tjob = jobs[j - 1]\n",
    "\t\t\tw1 = dp[j - 1][t]\n",
    "\t\t\tw2 = job['wage'] + dp[j - 1][t - job['hour']] if job['hour'] <= t else 0\n",
    "\t\t\t# update max wage or not \n",
    "\t\t\tdp[j][t] = max(w1, w2)\n",
    "\treturn dp[N][T]\n",
    "\n",
    "if __name__ == \"__main__\":\n",
    "\tT, N = map(int, input().split())\n",
    "\tjobs = [dict(zip(['hour', 'wage'], map(int, input().split()))) for _ in range(N)]\n",
    "\tres = solution(T, N, jobs)\n",
    "\tprint(res)"
   ]
  },
  {
   "cell_type": "code",
   "execution_count": null,
   "metadata": {},
   "outputs": [],
   "source": []
  }
 ],
 "metadata": {
  "kernelspec": {
   "display_name": "Python 3",
   "language": "python",
   "name": "python3"
  },
  "language_info": {
   "codemirror_mode": {
    "name": "ipython",
    "version": 3
   },
   "file_extension": ".py",
   "mimetype": "text/x-python",
   "name": "python",
   "nbconvert_exporter": "python",
   "pygments_lexer": "ipython3",
   "version": "3.11.4"
  },
  "orig_nbformat": 4
 },
 "nbformat": 4,
 "nbformat_minor": 2
}
