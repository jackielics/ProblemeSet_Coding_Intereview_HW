{
 "cells": [
  {
   "cell_type": "code",
   "execution_count": 24,
   "metadata": {},
   "outputs": [
    {
     "name": "stdout",
     "output_type": "stream",
     "text": [
      "-1\n"
     ]
    }
   ],
   "source": [
    "def getWordDict(s)->list:\n",
    "\t# return LIST recording dict of String\n",
    "\twd = [0] * 26 # Word Dictionary of 26 Chars\n",
    "\tfor c in s:\n",
    "\t\twd[ord(c) - ord('a')] += 1\n",
    "\treturn wd\n",
    "\n",
    "def solution(s1, s2, k):\n",
    "\t'''\n",
    "\tCompare Word Dict\n",
    "\t'''\n",
    "\twd_s1 = getWordDict(s1)\n",
    "\t# first (len(s1) + k) substring\n",
    "\twd_s2 = getWordDict(s2[:len(s1) + k])\n",
    "\t# matches at first index\n",
    "\tif wd_s1 <= wd_s2: # compare LIST of same size\n",
    "\t\treturn 0\n",
    "\telse:\n",
    "\t\tfor r in range(len(s1) + k, len(s2)): # new right BDRY(Boundary)\n",
    "\t\t\tl = r - (len(s1) + k) # old left BDRY\n",
    "\t\t\trw, lw = s2[r], s2[l]\n",
    "\t\t\twd_s2[ord(rw) - ord('a')] += 1\n",
    "\t\t\twd_s2[ord(lw) - ord('a')] -= 1\n",
    "\t\t\tif wd_s1 <= wd_s2:\n",
    "\t\t\t\treturn l + 1\n",
    "\t\treturn -1 # failed\n",
    "\n",
    "if __name__ == \"__main__\":\n",
    "\ts1, s2 = input(), input()\n",
    "\tk = int(input())\n",
    "\tprint(solution(s1, s2, k))"
   ]
  },
  {
   "cell_type": "code",
   "execution_count": null,
   "metadata": {},
   "outputs": [],
   "source": []
  }
 ],
 "metadata": {
  "kernelspec": {
   "display_name": "Python 3",
   "language": "python",
   "name": "python3"
  },
  "language_info": {
   "codemirror_mode": {
    "name": "ipython",
    "version": 3
   },
   "file_extension": ".py",
   "mimetype": "text/x-python",
   "name": "python",
   "nbconvert_exporter": "python",
   "pygments_lexer": "ipython3",
   "version": "3.11.4"
  },
  "orig_nbformat": 4
 },
 "nbformat": 4,
 "nbformat_minor": 2
}
