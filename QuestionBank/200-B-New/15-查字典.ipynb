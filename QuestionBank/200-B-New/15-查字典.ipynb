{
 "cells": [
  {
   "cell_type": "markdown",
   "metadata": {},
   "source": [
    "# Topic\n",
    "15-查字典  \n",
    "LkUpDic-HUAWEI-CodingInterview"
   ]
  },
  {
   "cell_type": "markdown",
   "metadata": {},
   "source": [
    "# Problem Description\n",
    "![https://fcqian.blog.csdn.net/article/details/130775122](https://res.cloudinary.com/dnyeldv5r/image/upload/v1691249665/2023-08-05_233355_boxfxm.png)"
   ]
  },
  {
   "cell_type": "markdown",
   "metadata": {},
   "source": [
    "# Key Point & Tag\n",
    "Difficulty Assessment: Easy  \n",
    "Tag:   \n",
    "Similar Problem: []()  "
   ]
  },
  {
   "cell_type": "markdown",
   "metadata": {},
   "source": [
    "# Code"
   ]
  },
  {
   "cell_type": "code",
   "execution_count": 4,
   "metadata": {},
   "outputs": [
    {
     "name": "stdout",
     "output_type": "stream",
     "text": [
      "b\n"
     ]
    }
   ],
   "source": [
    "class LkUpDic:\n",
    "\t# Input Part\n",
    "\tdef GetInput(self)->None:\n",
    "\t\t'''\n",
    "\t\tGet Input Data and Preprocess Data\n",
    "\t\t'''\n",
    "\t\tarr = list(map(str, input().strip().split(' ')))\n",
    "\n",
    "\t\tself.arr = arr[2:].copy() # shallow copy\n",
    "\t\tself.PFX = arr[0]\n",
    "\n",
    "\t# Algorithm Part\n",
    "\tdef Solution(self)->int:\n",
    "\t\t'''\n",
    "\t\tAlgorithm Solving Problem\n",
    "\t\t'''\n",
    "\t\t# Get data from self\n",
    "\t\tarr = self.arr\n",
    "\t\tPFX = self.PFX\n",
    "\n",
    "\t\tres = []\n",
    "\n",
    "\t\tfor s in arr:\n",
    "\t\t\tif len(s) >= len(PFX) and s[:len(PFX)] == PFX:\n",
    "\t\t\t\tres.append(s)\n",
    "\t\tif not res:\n",
    "\t\t\tres.append('-1')\n",
    "\t\treturn '\\n'.join(res)\n",
    "\n",
    "# Execution Part\n",
    "if __name__ == \"__main__\":\n",
    "\t# Instantiate\n",
    "\tobj = LkUpDic()\n",
    "\t# Get Input\n",
    "\tobj.GetInput()\n",
    "\t# Get Result\n",
    "\tprint(obj.Solution())\n"
   ]
  },
  {
   "cell_type": "markdown",
   "metadata": {},
   "source": [
    "# Test Cases\n",
    "```\n",
    "b 3 a b c\n",
    "\n",
    "abc 4 a ab abc abcd\n",
    "\n",
    "a 3 b c d\n",
    "```"
   ]
  }
 ],
 "metadata": {
  "kernelspec": {
   "display_name": "Python 3",
   "language": "python",
   "name": "python3"
  },
  "language_info": {
   "codemirror_mode": {
    "name": "ipython",
    "version": 3
   },
   "file_extension": ".py",
   "mimetype": "text/x-python",
   "name": "python",
   "nbconvert_exporter": "python",
   "pygments_lexer": "ipython3",
   "version": "3.11.4"
  },
  "orig_nbformat": 4
 },
 "nbformat": 4,
 "nbformat_minor": 2
}
