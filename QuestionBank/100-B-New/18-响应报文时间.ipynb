{
 "cells": [
  {
   "cell_type": "markdown",
   "metadata": {},
   "source": [
    "# Topic\n",
    "18-响应报文时间  \n",
    "RespMsgTime-HUAWEI-CodingInterview"
   ]
  },
  {
   "cell_type": "markdown",
   "metadata": {},
   "source": [
    "# Problem Description\n",
    "![https://blog.csdn.net/qfc_128220/article/details/130769162](https://res.cloudinary.com/dnyeldv5r/image/upload/v1690354508/2023-07-26_145420_ra8iyj.png)"
   ]
  },
  {
   "cell_type": "markdown",
   "metadata": {},
   "source": [
    "# Key Point & Tag\n",
    "Difficulty Assessment: Easy  "
   ]
  },
  {
   "cell_type": "markdown",
   "metadata": {},
   "source": [
    "# Code"
   ]
  },
  {
   "cell_type": "code",
   "execution_count": 33,
   "metadata": {},
   "outputs": [
    {
     "name": "stdout",
     "output_type": "stream",
     "text": [
      "260\n"
     ]
    }
   ],
   "source": [
    "class RespMsgTime:\n",
    "\t# Input Part\n",
    "\tdef GetInput(self)->None:\n",
    "\t\t'''\n",
    "\t\tGet Input Data and Preprocess Data\n",
    "\t\t'''\n",
    "\t\tself.n = int(input()) # amount of msgs\n",
    "\t\tself.dic = [dict(zip(['tRecv', 'tResp'], map(int, input().strip().split(' ')))) for _ in range(self.n)]\n",
    "\t\n",
    "\t# Algorithm Part\n",
    "\tdef Solution(self)->int:\n",
    "\t\t'''\n",
    "\t\tAlgorithm Solving Problem\n",
    "\t\t'''\n",
    "\t\t# Get data from self\n",
    "\t\tn = self.n\n",
    "\t\tdic = self.dic\n",
    "\t\tres = float('inf')\n",
    "\t\tfor i in range(len(dic)):\n",
    "\t\t\tif (tResp := dic[i]['tResp']) >= 128: # transform\n",
    "\t\t\t\tbin_8 = bin(tResp)[2:].rjust(8, '0') # fill with 0 till 8 digit\n",
    "\t\t\t\tmant = int(bin_8[4:], 2)\n",
    "\t\t\t\texp = int(bin_8[1:4], 2)\n",
    "\t\t\t\tdic[i]['tResp'] = (mant | 0x10) << (exp + 3)\n",
    "\t\t\tres = min(res, dic[i]['tRecv'] + dic[i]['tResp'])\n",
    "\n",
    "\t\treturn res \n",
    "\n",
    "# Execution Part\n",
    "if __name__ == \"__main__\":\n",
    "\t# Instantiate\n",
    "\tobj = RespMsgTime()\n",
    "\t# Get Input\n",
    "\tobj.GetInput()\n",
    "\t# Get Result\n",
    "\tprint(obj.Solution())\n"
   ]
  },
  {
   "cell_type": "markdown",
   "metadata": {},
   "source": [
    "# Test Cases\n",
    "```\n",
    "3\n",
    "0 20\n",
    "1 10\n",
    "8 20\n",
    "\n",
    "2\n",
    "0 255\n",
    "200 60\n",
    "```"
   ]
  }
 ],
 "metadata": {
  "kernelspec": {
   "display_name": "Python 3",
   "language": "python",
   "name": "python3"
  },
  "language_info": {
   "codemirror_mode": {
    "name": "ipython",
    "version": 3
   },
   "file_extension": ".py",
   "mimetype": "text/x-python",
   "name": "python",
   "nbconvert_exporter": "python",
   "pygments_lexer": "ipython3",
   "version": "3.11.4"
  },
  "orig_nbformat": 4
 },
 "nbformat": 4,
 "nbformat_minor": 2
}
